{
 "cells": [
  {
   "cell_type": "code",
   "execution_count": 1,
   "id": "53fc581b",
   "metadata": {},
   "outputs": [
    {
     "data": {
      "text/plain": [
       "\u001b[32mimport \u001b[39m\u001b[36m$ivy.$                                  \n",
       "\u001b[39m\r\n",
       "\u001b[32mimport \u001b[39m\u001b[36m$ivy.$                                    \n",
       "\u001b[39m\r\n",
       "\u001b[32mimport \u001b[39m\u001b[36m$ivy.$                                      \n",
       "\u001b[39m\r\n",
       "\u001b[32mimport \u001b[39m\u001b[36mplotly._, plotly.element._, plotly.layout._, plotly.Almond._\u001b[39m"
      ]
     },
     "execution_count": 1,
     "metadata": {},
     "output_type": "execute_result"
    }
   ],
   "source": [
    "import $ivy.`org.apache.spark::spark-sql:2.4.5`\n",
    "import $ivy.`org.apache.spark::spark-mllib:2.4.5`\n",
    "import $ivy.`org.plotly-scala::plotly-almond:0.8.1`\n",
    "import plotly._, plotly.element._, plotly.layout._, plotly.Almond._"
   ]
  },
  {
   "cell_type": "code",
   "execution_count": 2,
   "id": "fb5faef9",
   "metadata": {},
   "outputs": [
    {
     "data": {
      "text/plain": [
       "\u001b[32mimport \u001b[39m\u001b[36morg.apache.log4j.{Level, Logger}\n",
       "\u001b[39m\r\n",
       "\u001b[32mimport \u001b[39m\u001b[36morg.apache.spark.storage.StorageLevel\n",
       "\u001b[39m\r\n",
       "\u001b[32mimport \u001b[39m\u001b[36morg.apache.spark.sql.functions._\n",
       "\n",
       "\u001b[39m\r\n",
       "\u001b[36mrootLogger\u001b[39m: \u001b[32mLogger\u001b[39m = org.apache.log4j.spi.RootLogger@20d5d59a"
      ]
     },
     "execution_count": 2,
     "metadata": {},
     "output_type": "execute_result"
    }
   ],
   "source": [
    "import org.apache.log4j.{Level, Logger}\n",
    "import org.apache.spark.storage.StorageLevel\n",
    "import org.apache.spark.sql.functions._\n",
    "\n",
    "val rootLogger = Logger.getRootLogger()\n",
    "rootLogger.setLevel(Level.ERROR)\n",
    "\n",
    "Logger.getLogger(\"org.apache.spark\").setLevel(Level.WARN)\n",
    "Logger.getLogger(\"org.spark-project\").setLevel(Level.WARN)"
   ]
  },
  {
   "cell_type": "code",
   "execution_count": null,
   "id": "79f4b3ec",
   "metadata": {},
   "outputs": [],
   "source": [
    "import org.apache.spark.sql._\n",
    "import org.apache.spark.sql.{DataFrame, SparkSession}\n",
    "import org.apache.spark.sql.types._\n",
    "import org.apache.spark.sql.functions._\n",
    "import org.apache.spark.ml.feature.VectorAssembler\n",
    "import org.apache.spark.ml.regression.LinearRegression\n",
    "\n",
    "\n",
    "val sparkSession = {\n",
    "  NotebookSparkSession.builder()\n",
    "    .master(\"local[*]\")\n",
    "    .getOrCreate()\n",
    "}"
   ]
  },
  {
   "cell_type": "code",
   "execution_count": 10,
   "id": "c347bead",
   "metadata": {},
   "outputs": [
    {
     "data": {
      "text/html": [
       "<div class=\"jp-RenderedText\">\n",
       "<pre><code><span style=\"color: rgb(0, 187, 187)\"><span class=\"ansi-cyan-fg\">fireSchema</span></span>: <span style=\"color: rgb(0, 187, 0)\"><span class=\"ansi-green-fg\">StructType</span></span> = <span style=\"color: yellow\"><span class=\"ansi-yellow-fg\">StructType</span></span>(\n",
       "  <span style=\"color: yellow\"><span class=\"ansi-yellow-fg\">StructField</span></span>(<span style=\"color: rgb(0, 187, 0)\"><span class=\"ansi-green-fg\">&quot;Order ID&quot;</span></span>, StringType, true, {}),\n",
       "  <span style=\"color: yellow\"><span class=\"ansi-yellow-fg\">StructField</span></span>(<span style=\"color: rgb(0, 187, 0)\"><span class=\"ansi-green-fg\">&quot;Product&quot;</span></span>, StringType, true, {}),\n",
       "  <span style=\"color: yellow\"><span class=\"ansi-yellow-fg\">StructField</span></span>(<span style=\"color: rgb(0, 187, 0)\"><span class=\"ansi-green-fg\">&quot;Quantity Ordered&quot;</span></span>, IntegerType, true, {}),\n",
       "  <span style=\"color: yellow\"><span class=\"ansi-yellow-fg\">StructField</span></span>(<span style=\"color: rgb(0, 187, 0)\"><span class=\"ansi-green-fg\">&quot;Price Each&quot;</span></span>, FloatType, true, {}),\n",
       "  <span style=\"color: yellow\"><span class=\"ansi-yellow-fg\">StructField</span></span>(<span style=\"color: rgb(0, 187, 0)\"><span class=\"ansi-green-fg\">&quot;Order Date&quot;</span></span>, StringType, true, {}),\n",
       "  <span style=\"color: yellow\"><span class=\"ansi-yellow-fg\">StructField</span></span>(<span style=\"color: rgb(0, 187, 0)\"><span class=\"ansi-green-fg\">&quot;Purchase Address&quot;</span></span>, StringType, true, {})\n",
       ")\r\n",
       "<span style=\"color: rgb(0, 187, 187)\"><span class=\"ansi-cyan-fg\">annualDf</span></span>: <span style=\"color: rgb(0, 187, 0)\"><span class=\"ansi-green-fg\">DataFrame</span></span> = [Order ID: string, Product: string ... 4 more fields]\r\n",
       "defined <span style=\"color: rgb(0, 187, 0)\"><span class=\"ansi-green-fg\">function</span></span> <span style=\"color: rgb(0, 187, 187)\"><span class=\"ansi-cyan-fg\">loadCsvFile</span></span>\r\n",
       "<span style=\"color: rgb(0, 187, 187)\"><span class=\"ansi-cyan-fg\">dataframes</span></span>: <span style=\"color: rgb(0, 187, 0)\"><span class=\"ansi-green-fg\">List</span></span>[<span style=\"color: rgb(0, 187, 0)\"><span class=\"ansi-green-fg\">DataFrame</span></span>] = <span style=\"color: yellow\"><span class=\"ansi-yellow-fg\">List</span></span>()\r\n",
       "<span style=\"color: rgb(0, 187, 187)\"><span class=\"ansi-cyan-fg\">months</span></span>: <span style=\"color: rgb(0, 187, 0)\"><span class=\"ansi-green-fg\">List</span></span>[<span style=\"color: rgb(0, 187, 0)\"><span class=\"ansi-green-fg\">String</span></span>] = <span style=\"color: yellow\"><span class=\"ansi-yellow-fg\">List</span></span>(\n",
       "  <span style=\"color: rgb(0, 187, 0)\"><span class=\"ansi-green-fg\">&quot;January&quot;</span></span>,\n",
       "  <span style=\"color: rgb(0, 187, 0)\"><span class=\"ansi-green-fg\">&quot;February&quot;</span></span>,\n",
       "  <span style=\"color: rgb(0, 187, 0)\"><span class=\"ansi-green-fg\">&quot;March&quot;</span></span>,\n",
       "  <span style=\"color: rgb(0, 187, 0)\"><span class=\"ansi-green-fg\">&quot;April&quot;</span></span>,\n",
       "  <span style=\"color: rgb(0, 187, 0)\"><span class=\"ansi-green-fg\">&quot;May&quot;</span></span>,\n",
       "  <span style=\"color: rgb(0, 187, 0)\"><span class=\"ansi-green-fg\">&quot;June&quot;</span></span>,\n",
       "  <span style=\"color: rgb(0, 187, 0)\"><span class=\"ansi-green-fg\">&quot;July&quot;</span></span>,\n",
       "  <span style=\"color: rgb(0, 187, 0)\"><span class=\"ansi-green-fg\">&quot;August&quot;</span></span>,\n",
       "  <span style=\"color: rgb(0, 187, 0)\"><span class=\"ansi-green-fg\">&quot;September&quot;</span></span>,\n",
       "  <span style=\"color: rgb(0, 187, 0)\"><span class=\"ansi-green-fg\">&quot;October&quot;</span></span>,\n",
       "  <span style=\"color: rgb(0, 187, 0)\"><span class=\"ansi-green-fg\">&quot;November&quot;</span></span>,\n",
       "  <span style=\"color: rgb(0, 187, 0)\"><span class=\"ansi-green-fg\">&quot;December&quot;</span></span>\n",
       ")\r\n",
       "<span style=\"color: rgb(0, 187, 187)\"><span class=\"ansi-cyan-fg\">i</span></span>: <span style=\"color: rgb(0, 187, 0)\"><span class=\"ansi-green-fg\">Int</span></span> = <span style=\"color: rgb(0, 187, 0)\"><span class=\"ansi-green-fg\">0</span></span>\r\n",
       "<span style=\"color: rgb(0, 187, 187)\"><span class=\"ansi-cyan-fg\">df</span></span>: <span style=\"color: rgb(0, 187, 0)\"><span class=\"ansi-green-fg\">DataFrame</span></span> = [Order ID: string, Product: string ... 4 more fields]\r\n",
       "<span style=\"color: rgb(0, 187, 187)\"><span class=\"ansi-cyan-fg\">res9_8</span></span>: <span style=\"color: rgb(0, 187, 0)\"><span class=\"ansi-green-fg\">DataFrame</span></span> = [Order ID: string, Product: string ... 4 more fields]</code></pre>\n",
       "</div>"
      ],
      "text/plain": [
       "\u001b[36mfireSchema\u001b[39m: \u001b[32mStructType\u001b[39m = \u001b[33mStructType\u001b[39m(\n",
       "  \u001b[33mStructField\u001b[39m(\u001b[32m\"Order ID\"\u001b[39m, StringType, true, {}),\n",
       "  \u001b[33mStructField\u001b[39m(\u001b[32m\"Product\"\u001b[39m, StringType, true, {}),\n",
       "  \u001b[33mStructField\u001b[39m(\u001b[32m\"Quantity Ordered\"\u001b[39m, IntegerType, true, {}),\n",
       "  \u001b[33mStructField\u001b[39m(\u001b[32m\"Price Each\"\u001b[39m, FloatType, true, {}),\n",
       "  \u001b[33mStructField\u001b[39m(\u001b[32m\"Order Date\"\u001b[39m, StringType, true, {}),\n",
       "  \u001b[33mStructField\u001b[39m(\u001b[32m\"Purchase Address\"\u001b[39m, StringType, true, {})\n",
       ")\r\n",
       "\u001b[36mannualDf\u001b[39m: \u001b[32mDataFrame\u001b[39m = [Order ID: string, Product: string ... 4 more fields]\r\n",
       "defined \u001b[32mfunction\u001b[39m \u001b[36mloadCsvFile\u001b[39m\r\n",
       "\u001b[36mdataframes\u001b[39m: \u001b[32mList\u001b[39m[\u001b[32mDataFrame\u001b[39m] = \u001b[33mList\u001b[39m()\r\n",
       "\u001b[36mmonths\u001b[39m: \u001b[32mList\u001b[39m[\u001b[32mString\u001b[39m] = \u001b[33mList\u001b[39m(\n",
       "  \u001b[32m\"January\"\u001b[39m,\n",
       "  \u001b[32m\"February\"\u001b[39m,\n",
       "  \u001b[32m\"March\"\u001b[39m,\n",
       "  \u001b[32m\"April\"\u001b[39m,\n",
       "  \u001b[32m\"May\"\u001b[39m,\n",
       "  \u001b[32m\"June\"\u001b[39m,\n",
       "  \u001b[32m\"July\"\u001b[39m,\n",
       "  \u001b[32m\"August\"\u001b[39m,\n",
       "  \u001b[32m\"September\"\u001b[39m,\n",
       "  \u001b[32m\"October\"\u001b[39m,\n",
       "  \u001b[32m\"November\"\u001b[39m,\n",
       "  \u001b[32m\"December\"\u001b[39m\n",
       ")\r\n",
       "\u001b[36mi\u001b[39m: \u001b[32mInt\u001b[39m = \u001b[32m0\u001b[39m\r\n",
       "\u001b[36mdf\u001b[39m: \u001b[32mDataFrame\u001b[39m = [Order ID: string, Product: string ... 4 more fields]\r\n",
       "\u001b[36mres9_8\u001b[39m: \u001b[32mDataFrame\u001b[39m = [Order ID: string, Product: string ... 4 more fields]"
      ]
     },
     "metadata": {},
     "output_type": "display_data"
    }
   ],
   "source": [
    "val fireSchema = StructType(Array(StructField(\"Order ID\", StringType),\n",
    "                 StructField(\"Product\", StringType, true),\n",
    "                 StructField(\"Quantity Ordered\", IntegerType, true),\n",
    "                 StructField(\"Price Each\", FloatType, true),\n",
    "                 StructField(\"Order Date\", StringType, true),\n",
    "                 StructField(\"Purchase Address\", StringType, true),\n",
    "))\n",
    "\n",
    "var annualDf:DataFrame=null\n",
    "\n",
    "def loadCsvFile(fileName: String): DataFrame = {\n",
    "    val pathName=\"csv/Sales_\"+fileName+\"_2019.csv\"\n",
    "  val df = sparkSession.read\n",
    "    .format(\"csv\")\n",
    "    .option(\"header\", \"true\")\n",
    "    .option(\"delimiter\", \",\")\n",
    "    .schema(fireSchema)\n",
    "    .load(pathName)\n",
    "\n",
    "  df\n",
    "}\n",
    "var dataframes: List[DataFrame]=List()\n",
    "val months = List(\"January\", \"February\", \"March\", \"April\", \"May\", \"June\", \"July\", \"August\", \"September\", \"October\", \"November\", \"December\")\n",
    "var i=0\n",
    "months.foreach{(month)=>\n",
    "           val df=loadCsvFile(month)\n",
    "//            dataframes=df::dataframes\n",
    "            if(annualDf==null) annualDf = df  else annualDf=annualDf.union(df)\n",
    "}\n",
    "val df=annualDf\n",
    "df.cache()"
   ]
  },
  {
   "cell_type": "markdown",
   "id": "f4011e5f",
   "metadata": {},
   "source": [
    "## 2.Quel mois a été le meilleur en termes de ventes ? Combien a-t-on gagné ce mois-là ?"
   ]
  },
  {
   "cell_type": "code",
   "execution_count": 11,
   "id": "7189a5f5",
   "metadata": {},
   "outputs": [
    {
     "data": {
      "text/html": [
       "<div>\n",
       "  <span style=\"float: left;\">show at cmd10.sc:5</span>\n",
       "</div>\n"
      ]
     },
     "metadata": {},
     "output_type": "display_data"
    },
    {
     "data": {
      "text/html": [
       "<div class=\"progress\">\n",
       "  <div class=\"progress-bar\" role=\"progressbar\" style=\"background-color: blue; width: 100%; word-wrap: normal; white-space: nowrap; text-align: center; color: white\" aria-valuenow=\"100\" aria-valuemin=\"0\" aria-valuemax=\"100\">\n",
       "    12 / 12\n",
       "  </div>\n",
       "  <div class=\"progress-bar\" role=\"progressbar\" style=\"background-color: red; width: 0%\" aria-valuenow=\"0\" aria-valuemin=\"0\" aria-valuemax=\"100\"></div>\n",
       "</div>\n"
      ]
     },
     "metadata": {},
     "output_type": "display_data"
    },
    {
     "data": {
      "text/html": [
       "<div>\n",
       "  <span style=\"float: left;\">show at cmd10.sc:5</span>\n",
       "</div>\n"
      ]
     },
     "metadata": {},
     "output_type": "display_data"
    },
    {
     "data": {
      "text/html": [
       "<div class=\"progress\">\n",
       "  <div class=\"progress-bar\" role=\"progressbar\" style=\"background-color: blue; width: 100%; word-wrap: normal; white-space: nowrap; text-align: center; color: white\" aria-valuenow=\"100\" aria-valuemin=\"0\" aria-valuemax=\"100\">\n",
       "    200 / 200\n",
       "  </div>\n",
       "  <div class=\"progress-bar\" role=\"progressbar\" style=\"background-color: red; width: 0%\" aria-valuenow=\"0\" aria-valuemin=\"0\" aria-valuemax=\"100\"></div>\n",
       "</div>\n"
      ]
     },
     "metadata": {},
     "output_type": "display_data"
    },
    {
     "name": "stdout",
     "output_type": "stream",
     "text": [
      "+-----------------------------------------------+---------------+\n",
      "|month(to_timestamp(`Order Date`, 'MM/dd/yyyy'))|    TotalAmount|\n",
      "+-----------------------------------------------+---------------+\n",
      "|                                             11|3715537.4414711|\n",
      "+-----------------------------------------------+---------------+\n",
      "only showing top 1 row\n",
      "\n"
     ]
    },
    {
     "data": {
      "text/plain": [
       "\u001b[32mimport \u001b[39m\u001b[36morg.apache.spark.sql.functions._\n",
       "\n",
       "\u001b[39m\r\n",
       "\u001b[36mresultDf\u001b[39m: \u001b[32mDataset\u001b[39m[\u001b[32mRow\u001b[39m] = [month(to_timestamp(`Order Date`, 'MM/dd/yyyy')): int, TotalAmount: double]"
      ]
     },
     "execution_count": 11,
     "metadata": {},
     "output_type": "execute_result"
    }
   ],
   "source": [
    "//2 Quel mois a été le meilleur en termes de ventes ? Combien a-t-on gagné ce mois-là ?\n",
    "val resultDf= df.groupBy(month(to_timestamp(col(\"Order Date\"), \"MM/dd/yyyy\"))).agg(sum(col(\"Price Each\") * col(\"Quantity Ordered\")).as(\"TotalAmount\")).orderBy(col(\"TotalAmount\").desc)\n",
    "                                   \n",
    " resultDf.show(1)"
   ]
  },
  {
   "cell_type": "markdown",
   "id": "aff83499",
   "metadata": {},
   "source": [
    "## 3.Quelle ville a enregistré le plus grand nombre de ventes ?"
   ]
  },
  {
   "cell_type": "code",
   "execution_count": 13,
   "id": "3b0c99ee",
   "metadata": {
    "scrolled": false
   },
   "outputs": [
    {
     "data": {
      "text/html": [
       "<div>\n",
       "  <span style=\"float: left;\">show at cmd12.sc:3</span>\n",
       "</div>\n"
      ]
     },
     "metadata": {},
     "output_type": "display_data"
    },
    {
     "data": {
      "text/html": [
       "<div class=\"progress\">\n",
       "  <div class=\"progress-bar\" role=\"progressbar\" style=\"background-color: blue; width: 100%; word-wrap: normal; white-space: nowrap; text-align: center; color: white\" aria-valuenow=\"100\" aria-valuemin=\"0\" aria-valuemax=\"100\">\n",
       "    12 / 12\n",
       "  </div>\n",
       "  <div class=\"progress-bar\" role=\"progressbar\" style=\"background-color: red; width: 0%\" aria-valuenow=\"0\" aria-valuemin=\"0\" aria-valuemax=\"100\"></div>\n",
       "</div>\n"
      ]
     },
     "metadata": {},
     "output_type": "display_data"
    },
    {
     "data": {
      "text/html": [
       "<div>\n",
       "  <span style=\"float: left;\">show at cmd12.sc:3</span>\n",
       "</div>\n"
      ]
     },
     "metadata": {},
     "output_type": "display_data"
    },
    {
     "data": {
      "text/html": [
       "<div class=\"progress\">\n",
       "  <div class=\"progress-bar\" role=\"progressbar\" style=\"background-color: blue; width: 100%; word-wrap: normal; white-space: nowrap; text-align: center; color: white\" aria-valuenow=\"100\" aria-valuemin=\"0\" aria-valuemax=\"100\">\n",
       "    200 / 200\n",
       "  </div>\n",
       "  <div class=\"progress-bar\" role=\"progressbar\" style=\"background-color: red; width: 0%\" aria-valuenow=\"0\" aria-valuemin=\"0\" aria-valuemax=\"100\"></div>\n",
       "</div>\n"
      ]
     },
     "metadata": {},
     "output_type": "display_data"
    },
    {
     "name": "stdout",
     "output_type": "stream",
     "text": [
      "+-----------------------------+-----+\n",
      "|split(Purchase Address, ,)[1]|count|\n",
      "+-----------------------------+-----+\n",
      "|                San Francisco|44732|\n",
      "+-----------------------------+-----+\n",
      "only showing top 1 row\n",
      "\n"
     ]
    },
    {
     "data": {
      "text/plain": [
       "\u001b[36mresultDf\u001b[39m: \u001b[32mDataset\u001b[39m[\u001b[32mRow\u001b[39m] = [split(Purchase Address, ,)[1]: string, count: bigint]"
      ]
     },
     "execution_count": 13,
     "metadata": {},
     "output_type": "execute_result"
    }
   ],
   "source": [
    "// 3 Quelle ville a enregistré le plus grand nombre de ventes ?\n",
    "val resultDf= df.groupBy(split(col(\"Purchase Address\"),\",\")(1)).count().orderBy(col(\"count\").desc)\n",
    "                                   \n",
    " resultDf.show(1)"
   ]
  },
  {
   "cell_type": "markdown",
   "id": "63d9e9bc",
   "metadata": {},
   "source": [
    "## 4.À quelle heure devraient-ils diffuser des publicités pour maximiser les chances que les clients achètent le produit ?"
   ]
  },
  {
   "cell_type": "code",
   "execution_count": 14,
   "id": "dba800f0",
   "metadata": {},
   "outputs": [
    {
     "data": {
      "text/html": [
       "<div>\n",
       "  <span style=\"float: left;\">show at cmd13.sc:3</span>\n",
       "</div>\n"
      ]
     },
     "metadata": {},
     "output_type": "display_data"
    },
    {
     "data": {
      "text/html": [
       "<div class=\"progress\">\n",
       "  <div class=\"progress-bar\" role=\"progressbar\" style=\"background-color: blue; width: 100%; word-wrap: normal; white-space: nowrap; text-align: center; color: white\" aria-valuenow=\"100\" aria-valuemin=\"0\" aria-valuemax=\"100\">\n",
       "    12 / 12\n",
       "  </div>\n",
       "  <div class=\"progress-bar\" role=\"progressbar\" style=\"background-color: red; width: 0%\" aria-valuenow=\"0\" aria-valuemin=\"0\" aria-valuemax=\"100\"></div>\n",
       "</div>\n"
      ]
     },
     "metadata": {},
     "output_type": "display_data"
    },
    {
     "data": {
      "text/html": [
       "<div>\n",
       "  <span style=\"float: left;\">show at cmd13.sc:3</span>\n",
       "</div>\n"
      ]
     },
     "metadata": {},
     "output_type": "display_data"
    },
    {
     "data": {
      "text/html": [
       "<div class=\"progress\">\n",
       "  <div class=\"progress-bar\" role=\"progressbar\" style=\"background-color: blue; width: 100%; word-wrap: normal; white-space: nowrap; text-align: center; color: white\" aria-valuenow=\"100\" aria-valuemin=\"0\" aria-valuemax=\"100\">\n",
       "    200 / 200\n",
       "  </div>\n",
       "  <div class=\"progress-bar\" role=\"progressbar\" style=\"background-color: red; width: 0%\" aria-valuenow=\"0\" aria-valuemin=\"0\" aria-valuemax=\"100\"></div>\n",
       "</div>\n"
      ]
     },
     "metadata": {},
     "output_type": "display_data"
    },
    {
     "name": "stdout",
     "output_type": "stream",
     "text": [
      "+----------------------------------------------------+-----+\n",
      "|hour(to_timestamp(`Order Date`, 'MM/dd/yyyy HH:mm'))|count|\n",
      "+----------------------------------------------------+-----+\n",
      "|                                                  19|12905|\n",
      "+----------------------------------------------------+-----+\n",
      "only showing top 1 row\n",
      "\n"
     ]
    },
    {
     "data": {
      "text/plain": [
       "\u001b[36mresultDf\u001b[39m: \u001b[32mDataset\u001b[39m[\u001b[32mRow\u001b[39m] = [hour(to_timestamp(`Order Date`, 'MM/dd/yyyy HH:mm')): int, count: bigint]"
      ]
     },
     "execution_count": 14,
     "metadata": {},
     "output_type": "execute_result"
    }
   ],
   "source": [
    "//4 À quelle heure devraient-ils diffuser des publicités pour maximiser les chances que les clients\n",
    "//achètent le produit ?\n",
    "val resultDf= df.groupBy(hour(to_timestamp(col(\"Order Date\"),\"MM/dd/yyyy HH:mm\"))).count().orderBy(col(\"count\").desc)\n",
    "                                   \n",
    " resultDf.show(1)"
   ]
  },
  {
   "cell_type": "markdown",
   "id": "580b203e",
   "metadata": {},
   "source": [
    "## 5.Quels produits sont le plus souvent vendus ensemble ?"
   ]
  },
  {
   "cell_type": "code",
   "execution_count": 16,
   "id": "15bf060c",
   "metadata": {},
   "outputs": [
    {
     "data": {
      "text/html": [
       "<div>\n",
       "  <span style=\"float: left;\">show at cmd15.sc:3</span>\n",
       "</div>\n"
      ]
     },
     "metadata": {},
     "output_type": "display_data"
    },
    {
     "data": {
      "text/html": [
       "<div class=\"progress\">\n",
       "  <div class=\"progress-bar\" role=\"progressbar\" style=\"background-color: blue; width: 100%; word-wrap: normal; white-space: nowrap; text-align: center; color: white\" aria-valuenow=\"100\" aria-valuemin=\"0\" aria-valuemax=\"100\">\n",
       "    12 / 12\n",
       "  </div>\n",
       "  <div class=\"progress-bar\" role=\"progressbar\" style=\"background-color: red; width: 0%\" aria-valuenow=\"0\" aria-valuemin=\"0\" aria-valuemax=\"100\"></div>\n",
       "</div>\n"
      ]
     },
     "metadata": {},
     "output_type": "display_data"
    },
    {
     "data": {
      "text/html": [
       "<div>\n",
       "  <span style=\"float: left;\">show at cmd15.sc:3</span>\n",
       "</div>\n"
      ]
     },
     "metadata": {},
     "output_type": "display_data"
    },
    {
     "data": {
      "text/html": [
       "<div class=\"progress\">\n",
       "  <div class=\"progress-bar\" role=\"progressbar\" style=\"background-color: blue; width: 100%; word-wrap: normal; white-space: nowrap; text-align: center; color: white\" aria-valuenow=\"100\" aria-valuemin=\"0\" aria-valuemax=\"100\">\n",
       "    1 / 1\n",
       "  </div>\n",
       "  <div class=\"progress-bar\" role=\"progressbar\" style=\"background-color: red; width: 0%\" aria-valuenow=\"0\" aria-valuemin=\"0\" aria-valuemax=\"100\"></div>\n",
       "</div>\n"
      ]
     },
     "metadata": {},
     "output_type": "display_data"
    },
    {
     "name": "stdout",
     "output_type": "stream",
     "text": [
      "+--------+--------------------+\n",
      "|Order ID|            produits|\n",
      "+--------+--------------------+\n",
      "|  141386|[Lightning Chargi...|\n",
      "|  141418|[Apple Airpods He...|\n",
      "|  141442|      [Google Phone]|\n",
      "|  141763|  [27in FHD Monitor]|\n",
      "|  141887|[AAA Batteries (4...|\n",
      "|  141950|[AAA Batteries (4...|\n",
      "|  142021|[Lightning Chargi...|\n",
      "|  142039|[Google Phone, US...|\n",
      "|  142076|  [Wired Headphones]|\n",
      "|  142317|     [Flatscreen TV]|\n",
      "|  142355|            [iPhone]|\n",
      "|  142693|[Bose SoundSport ...|\n",
      "|  142996|[AAA Batteries (4...|\n",
      "|  143037|[AAA Batteries (4...|\n",
      "|  143293|[Apple Airpods He...|\n",
      "|  143443|[AAA Batteries (4...|\n",
      "|  143456|[USB-C Charging C...|\n",
      "|  143593|[AAA Batteries (4...|\n",
      "|  143646|[AAA Batteries (4...|\n",
      "|  144047|[Google Phone, Bo...|\n",
      "+--------+--------------------+\n",
      "only showing top 20 rows\n",
      "\n"
     ]
    },
    {
     "data": {
      "text/plain": [
       "\u001b[36mtransactionsDF\u001b[39m: \u001b[32mDataFrame\u001b[39m = [Order ID: string, produits: array<string>]"
      ]
     },
     "execution_count": 16,
     "metadata": {},
     "output_type": "execute_result"
    }
   ],
   "source": [
    "//5 Quels produits sont le plus souvent vendus ensemble ?\n",
    "val transactionsDF = df.groupBy(\"Order ID\").agg(collect_list(\"Product\").as(\"produits\"))\n",
    "val explodedDF = transactionsDF.withColumn(\"product\", explode(col(\"produits\")))\n",
    "\n",
    "val productPairsDF = explodedDF.alias(\"df1\")\n",
    "  .join(explodedDF.alias(\"df2\"), col(\"df1.Order ID\") === col(\"df2.Order ID\") && col(\"df1.product\") < col(\"df2.product\"))\n",
    "  .select(col(\"df1.product\").as(\"product1\"), col(\"df2.product\").as(\"product2\"))\n",
    "\n",
    "val productPairCountsDF = productPairsDF.groupBy(\"product1\", \"product2\")\n",
    "  .count()\n",
    "  .orderBy(desc(\"count\"))\n",
    "\n",
    "productPairCountsDF.show()"
   ]
  },
  {
   "cell_type": "markdown",
   "id": "0a02459a",
   "metadata": {},
   "source": [
    "## 6.Quel produit s'est le plus vendu ? Pourquoi pensez-vous qu'il se soit autant vendu ?\n"
   ]
  },
  {
   "cell_type": "code",
   "execution_count": 35,
   "id": "6e0c96a1",
   "metadata": {},
   "outputs": [
    {
     "data": {
      "text/html": [
       "<div>\n",
       "  <span style=\"float: left;\">show at cmd34.sc:3</span>\n",
       "</div>\n"
      ]
     },
     "metadata": {},
     "output_type": "display_data"
    },
    {
     "data": {
      "text/html": [
       "<div class=\"progress\">\n",
       "  <div class=\"progress-bar\" role=\"progressbar\" style=\"background-color: blue; width: 0%; word-wrap: normal; white-space: nowrap; text-align: center; color: white\" aria-valuenow=\"0\" aria-valuemin=\"0\" aria-valuemax=\"100\">\n",
       "    0 / 12\n",
       "  </div>\n",
       "  <div class=\"progress-bar\" role=\"progressbar\" style=\"background-color: red; width: 0%\" aria-valuenow=\"0\" aria-valuemin=\"0\" aria-valuemax=\"100\"></div>\n",
       "</div>\n"
      ]
     },
     "metadata": {},
     "output_type": "display_data"
    },
    {
     "name": "stderr",
     "output_type": "stream",
     "text": [
      "Cancelling stage 34\n"
     ]
    },
    {
     "ename": "",
     "evalue": "",
     "output_type": "error",
     "traceback": [
      "\u001b[31morg.apache.spark.SparkException: Job 17 cancelled because Stage 34 was cancelled\u001b[39m\r\n  org.apache.spark.scheduler.DAGScheduler.failJobAndIndependentStages(\u001b[32mDAGScheduler.scala\u001b[39m:\u001b[32m1891\u001b[39m)\r\n  org.apache.spark.scheduler.DAGScheduler.handleJobCancellation(\u001b[32mDAGScheduler.scala\u001b[39m:\u001b[32m1826\u001b[39m)\r\n  org.apache.spark.scheduler.DAGScheduler.$anonfun$handleStageCancellation$1(\u001b[32mDAGScheduler.scala\u001b[39m:\u001b[32m1815\u001b[39m)\r\n  scala.runtime.java8.JFunction1$mcVI$sp.apply(\u001b[32mJFunction1$mcVI$sp.java\u001b[39m:\u001b[32m23\u001b[39m)\r\n  scala.collection.IndexedSeqOptimized.foreach(\u001b[32mIndexedSeqOptimized.scala\u001b[39m:\u001b[32m36\u001b[39m)\r\n  scala.collection.IndexedSeqOptimized.foreach$(\u001b[32mIndexedSeqOptimized.scala\u001b[39m:\u001b[32m33\u001b[39m)\r\n  scala.collection.mutable.ArrayOps$ofInt.foreach(\u001b[32mArrayOps.scala\u001b[39m:\u001b[32m246\u001b[39m)\r\n  org.apache.spark.scheduler.DAGScheduler.handleStageCancellation(\u001b[32mDAGScheduler.scala\u001b[39m:\u001b[32m1808\u001b[39m)\r\n  org.apache.spark.scheduler.DAGSchedulerEventProcessLoop.doOnReceive(\u001b[32mDAGScheduler.scala\u001b[39m:\u001b[32m2075\u001b[39m)\r\n  org.apache.spark.scheduler.DAGSchedulerEventProcessLoop.onReceive(\u001b[32mDAGScheduler.scala\u001b[39m:\u001b[32m2061\u001b[39m)\r\n  org.apache.spark.scheduler.DAGSchedulerEventProcessLoop.onReceive(\u001b[32mDAGScheduler.scala\u001b[39m:\u001b[32m2050\u001b[39m)\r\n  org.apache.spark.util.EventLoop$$anon$1.run(\u001b[32mEventLoop.scala\u001b[39m:\u001b[32m49\u001b[39m)\r\n  org.apache.spark.scheduler.DAGScheduler.runJob(\u001b[32mDAGScheduler.scala\u001b[39m:\u001b[32m738\u001b[39m)\r\n  org.apache.spark.SparkContext.runJob(\u001b[32mSparkContext.scala\u001b[39m:\u001b[32m2061\u001b[39m)\r\n  org.apache.spark.SparkContext.runJob(\u001b[32mSparkContext.scala\u001b[39m:\u001b[32m2158\u001b[39m)\r\n  org.apache.spark.rdd.RDD.$anonfun$reduce$1(\u001b[32mRDD.scala\u001b[39m:\u001b[32m1080\u001b[39m)\r\n  org.apache.spark.rdd.RDDOperationScope$.withScope(\u001b[32mRDDOperationScope.scala\u001b[39m:\u001b[32m151\u001b[39m)\r\n  org.apache.spark.rdd.RDDOperationScope$.withScope(\u001b[32mRDDOperationScope.scala\u001b[39m:\u001b[32m112\u001b[39m)\r\n  org.apache.spark.rdd.RDD.withScope(\u001b[32mRDD.scala\u001b[39m:\u001b[32m385\u001b[39m)\r\n  org.apache.spark.rdd.RDD.reduce(\u001b[32mRDD.scala\u001b[39m:\u001b[32m1062\u001b[39m)\r\n  org.apache.spark.rdd.RDD.$anonfun$takeOrdered$1(\u001b[32mRDD.scala\u001b[39m:\u001b[32m1484\u001b[39m)\r\n  org.apache.spark.rdd.RDDOperationScope$.withScope(\u001b[32mRDDOperationScope.scala\u001b[39m:\u001b[32m151\u001b[39m)\r\n  org.apache.spark.rdd.RDDOperationScope$.withScope(\u001b[32mRDDOperationScope.scala\u001b[39m:\u001b[32m112\u001b[39m)\r\n  org.apache.spark.rdd.RDD.withScope(\u001b[32mRDD.scala\u001b[39m:\u001b[32m385\u001b[39m)\r\n  org.apache.spark.rdd.RDD.takeOrdered(\u001b[32mRDD.scala\u001b[39m:\u001b[32m1472\u001b[39m)\r\n  org.apache.spark.sql.execution.TakeOrderedAndProjectExec.executeCollect(\u001b[32mlimit.scala\u001b[39m:\u001b[32m136\u001b[39m)\r\n  org.apache.spark.sql.Dataset.collectFromPlan(\u001b[32mDataset.scala\u001b[39m:\u001b[32m3389\u001b[39m)\r\n  org.apache.spark.sql.Dataset.$anonfun$head$1(\u001b[32mDataset.scala\u001b[39m:\u001b[32m2550\u001b[39m)\r\n  org.apache.spark.sql.Dataset.$anonfun$withAction$2(\u001b[32mDataset.scala\u001b[39m:\u001b[32m3370\u001b[39m)\r\n  org.apache.spark.sql.execution.SQLExecution$.$anonfun$withNewExecutionId$1(\u001b[32mSQLExecution.scala\u001b[39m:\u001b[32m80\u001b[39m)\r\n  org.apache.spark.sql.execution.SQLExecution$.withSQLConfPropagated(\u001b[32mSQLExecution.scala\u001b[39m:\u001b[32m127\u001b[39m)\r\n  org.apache.spark.sql.execution.SQLExecution$.withNewExecutionId(\u001b[32mSQLExecution.scala\u001b[39m:\u001b[32m75\u001b[39m)\r\n  org.apache.spark.sql.Dataset.withAction(\u001b[32mDataset.scala\u001b[39m:\u001b[32m3370\u001b[39m)\r\n  org.apache.spark.sql.Dataset.head(\u001b[32mDataset.scala\u001b[39m:\u001b[32m2550\u001b[39m)\r\n  org.apache.spark.sql.Dataset.take(\u001b[32mDataset.scala\u001b[39m:\u001b[32m2764\u001b[39m)\r\n  org.apache.spark.sql.Dataset.getRows(\u001b[32mDataset.scala\u001b[39m:\u001b[32m254\u001b[39m)\r\n  org.apache.spark.sql.Dataset.showString(\u001b[32mDataset.scala\u001b[39m:\u001b[32m291\u001b[39m)\r\n  org.apache.spark.sql.Dataset.show(\u001b[32mDataset.scala\u001b[39m:\u001b[32m751\u001b[39m)\r\n  org.apache.spark.sql.Dataset.show(\u001b[32mDataset.scala\u001b[39m:\u001b[32m710\u001b[39m)\r\n  ammonite.$sess.cmd34$Helper.<init>(\u001b[32mcmd34.sc\u001b[39m:\u001b[32m3\u001b[39m)\r\n  ammonite.$sess.cmd34$.<init>(\u001b[32mcmd34.sc\u001b[39m:\u001b[32m7\u001b[39m)\r\n  ammonite.$sess.cmd34$.<clinit>(\u001b[32mcmd34.sc\u001b[39m:\u001b[32m-1\u001b[39m)"
     ]
    }
   ],
   "source": [
    "// 6 Quel produit s'est le plus vendu ? Pourquoi pensez-vous qu'il se soit autant vendu ?\n",
    "val mostOrderedProduct= annualDf.groupBy(\"Product\").count().orderBy(col(\"count\").desc)\n",
    "// val productNumber= annualDf.groupBy(\"Product\").count().orderBy(col(\"count\").desc)\n",
    "resultDf.show(1)"
   ]
  },
  {
   "cell_type": "markdown",
   "id": "03dfd3ef",
   "metadata": {},
   "source": [
    "## 7.Quelle est la probabilité que les prochains clients commandent un câble de chargement USB-C ?"
   ]
  },
  {
   "cell_type": "code",
   "execution_count": null,
   "id": "b56b217c",
   "metadata": {},
   "outputs": [],
   "source": [
    "//7 Quelle est la probabilité que les prochains clients commandent un câble de chargement USB-C ?\n",
    "val usbCount=annualDf.filter(col(\"Product\")===\"USB-C Charging Cable\").count().toDouble\n",
    "val totalProducts=annualDf.count().toDouble\n",
    "val probabUsbC=(usbCount/totalProducts).toDouble\n",
    "print(probabUsbC)"
   ]
  },
  {
   "cell_type": "markdown",
   "id": "758568fc",
   "metadata": {},
   "source": [
    "## 8 Quelle est la probabilité que les prochains clients commandent un iPhone ?"
   ]
  },
  {
   "cell_type": "code",
   "execution_count": null,
   "id": "0c457ab9",
   "metadata": {},
   "outputs": [],
   "source": [
    "//8 Quelle est la probabilité que les prochains clients commandent un iPhone ?\n",
    "val iphoneCount=annualDf.filter(col(\"Product\")===\"iPhone\").count().toDouble\n",
    "val probabIphone=(iphoneCount/totalProducts).toDouble\n",
    "print(probabIphone)"
   ]
  },
  {
   "cell_type": "markdown",
   "id": "7765895e",
   "metadata": {},
   "source": [
    "## 9.Quelle est la probabilité que les prochains clients commandent un téléphone Google ?"
   ]
  },
  {
   "cell_type": "code",
   "execution_count": null,
   "id": "c17f78c3",
   "metadata": {},
   "outputs": [],
   "source": [
    "// 9 Quelle est la probabilité que les prochains clients commandent un téléphone Google ?\n",
    "val googlePhoneCount=annualDf.filter(col(\"Product\")===\"Google Phone\").count().toDouble\n",
    "val probabGooglePhone=(googlePhoneCount/totalProducts).toDouble\n",
    "print(probabGooglePhone)"
   ]
  },
  {
   "cell_type": "markdown",
   "id": "99c36c8e",
   "metadata": {},
   "source": [
    "## 10.Quelle est la probabilité que d'autres personnes commandent des écouteurs filaires ?"
   ]
  },
  {
   "cell_type": "code",
   "execution_count": null,
   "id": "394dafd0",
   "metadata": {},
   "outputs": [],
   "source": [
    "// 10 Quelle est la probabilité que d'autres personnes commandent des écouteurs filaires ?\n",
    "val wiredHeadPhonesCount=annualDf.filter(col(\"Product\")===\"Wired Headphones\").count().toDouble\n",
    "val probabWiredHeadPhones=(wiredHeadPhonesCount/totalProducts).toDouble\n",
    "print(probabWiredHeadPhones)"
   ]
  },
  {
   "cell_type": "markdown",
   "id": "9451c66e",
   "metadata": {},
   "source": [
    "# Proposition un cas d utilisation concret de Machine Learning\n",
    "## Analyse et prévisions de la tendance des ventes en fonction de la période:\n",
    "Cela va permettre à l'interprise d'avoir une connaissance sur la demande du marché et optimiser son stock en fonction. Ainsi, la satisfaction des clients sera améliorée et les ruptures et les pénuries de stock peuvent etre évitées. Ce qui va accroitre les gains de l'entreprise."
   ]
  },
  {
   "cell_type": "markdown",
   "id": "1aae3b7f",
   "metadata": {},
   "source": [
    "# Prepocessing des données"
   ]
  },
  {
   "cell_type": "code",
   "execution_count": 36,
   "id": "7141bbec",
   "metadata": {},
   "outputs": [
    {
     "data": {
      "text/html": [
       "<div>\n",
       "  <span style=\"float: left;\">show at cmd35.sc:1</span>\n",
       "</div>\n"
      ]
     },
     "metadata": {},
     "output_type": "display_data"
    },
    {
     "data": {
      "text/html": [
       "<div class=\"progress\">\n",
       "  <div class=\"progress-bar\" role=\"progressbar\" style=\"background-color: blue; width: 0%; word-wrap: normal; white-space: nowrap; text-align: center; color: white\" aria-valuenow=\"0\" aria-valuemin=\"0\" aria-valuemax=\"100\">\n",
       "    0 / 1\n",
       "  </div>\n",
       "  <div class=\"progress-bar\" role=\"progressbar\" style=\"background-color: red; width: 0%\" aria-valuenow=\"0\" aria-valuemin=\"0\" aria-valuemax=\"100\"></div>\n",
       "</div>\n"
      ]
     },
     "metadata": {},
     "output_type": "display_data"
    },
    {
     "name": "stderr",
     "output_type": "stream",
     "text": [
      "Cancelling stage 36\n"
     ]
    },
    {
     "ename": "",
     "evalue": "",
     "output_type": "error",
     "traceback": [
      "\u001b[31morg.apache.spark.SparkException: Job 18 cancelled because Stage 36 was cancelled\u001b[39m\r\n  org.apache.spark.scheduler.DAGScheduler.failJobAndIndependentStages(\u001b[32mDAGScheduler.scala\u001b[39m:\u001b[32m1891\u001b[39m)\r\n  org.apache.spark.scheduler.DAGScheduler.handleJobCancellation(\u001b[32mDAGScheduler.scala\u001b[39m:\u001b[32m1826\u001b[39m)\r\n  org.apache.spark.scheduler.DAGScheduler.$anonfun$handleStageCancellation$1(\u001b[32mDAGScheduler.scala\u001b[39m:\u001b[32m1815\u001b[39m)\r\n  scala.runtime.java8.JFunction1$mcVI$sp.apply(\u001b[32mJFunction1$mcVI$sp.java\u001b[39m:\u001b[32m23\u001b[39m)\r\n  scala.collection.IndexedSeqOptimized.foreach(\u001b[32mIndexedSeqOptimized.scala\u001b[39m:\u001b[32m36\u001b[39m)\r\n  scala.collection.IndexedSeqOptimized.foreach$(\u001b[32mIndexedSeqOptimized.scala\u001b[39m:\u001b[32m33\u001b[39m)\r\n  scala.collection.mutable.ArrayOps$ofInt.foreach(\u001b[32mArrayOps.scala\u001b[39m:\u001b[32m246\u001b[39m)\r\n  org.apache.spark.scheduler.DAGScheduler.handleStageCancellation(\u001b[32mDAGScheduler.scala\u001b[39m:\u001b[32m1808\u001b[39m)\r\n  org.apache.spark.scheduler.DAGSchedulerEventProcessLoop.doOnReceive(\u001b[32mDAGScheduler.scala\u001b[39m:\u001b[32m2075\u001b[39m)\r\n  org.apache.spark.scheduler.DAGSchedulerEventProcessLoop.onReceive(\u001b[32mDAGScheduler.scala\u001b[39m:\u001b[32m2061\u001b[39m)\r\n  org.apache.spark.scheduler.DAGSchedulerEventProcessLoop.onReceive(\u001b[32mDAGScheduler.scala\u001b[39m:\u001b[32m2050\u001b[39m)\r\n  org.apache.spark.util.EventLoop$$anon$1.run(\u001b[32mEventLoop.scala\u001b[39m:\u001b[32m49\u001b[39m)\r\n  org.apache.spark.scheduler.DAGScheduler.runJob(\u001b[32mDAGScheduler.scala\u001b[39m:\u001b[32m738\u001b[39m)\r\n  org.apache.spark.SparkContext.runJob(\u001b[32mSparkContext.scala\u001b[39m:\u001b[32m2061\u001b[39m)\r\n  org.apache.spark.SparkContext.runJob(\u001b[32mSparkContext.scala\u001b[39m:\u001b[32m2082\u001b[39m)\r\n  org.apache.spark.SparkContext.runJob(\u001b[32mSparkContext.scala\u001b[39m:\u001b[32m2101\u001b[39m)\r\n  org.apache.spark.sql.execution.SparkPlan.executeTake(\u001b[32mSparkPlan.scala\u001b[39m:\u001b[32m365\u001b[39m)\r\n  org.apache.spark.sql.execution.CollectLimitExec.executeCollect(\u001b[32mlimit.scala\u001b[39m:\u001b[32m38\u001b[39m)\r\n  org.apache.spark.sql.Dataset.collectFromPlan(\u001b[32mDataset.scala\u001b[39m:\u001b[32m3389\u001b[39m)\r\n  org.apache.spark.sql.Dataset.$anonfun$head$1(\u001b[32mDataset.scala\u001b[39m:\u001b[32m2550\u001b[39m)\r\n  org.apache.spark.sql.Dataset.$anonfun$withAction$2(\u001b[32mDataset.scala\u001b[39m:\u001b[32m3370\u001b[39m)\r\n  org.apache.spark.sql.execution.SQLExecution$.$anonfun$withNewExecutionId$1(\u001b[32mSQLExecution.scala\u001b[39m:\u001b[32m80\u001b[39m)\r\n  org.apache.spark.sql.execution.SQLExecution$.withSQLConfPropagated(\u001b[32mSQLExecution.scala\u001b[39m:\u001b[32m127\u001b[39m)\r\n  org.apache.spark.sql.execution.SQLExecution$.withNewExecutionId(\u001b[32mSQLExecution.scala\u001b[39m:\u001b[32m75\u001b[39m)\r\n  org.apache.spark.sql.Dataset.withAction(\u001b[32mDataset.scala\u001b[39m:\u001b[32m3370\u001b[39m)\r\n  org.apache.spark.sql.Dataset.head(\u001b[32mDataset.scala\u001b[39m:\u001b[32m2550\u001b[39m)\r\n  org.apache.spark.sql.Dataset.take(\u001b[32mDataset.scala\u001b[39m:\u001b[32m2764\u001b[39m)\r\n  org.apache.spark.sql.Dataset.getRows(\u001b[32mDataset.scala\u001b[39m:\u001b[32m254\u001b[39m)\r\n  org.apache.spark.sql.Dataset.showString(\u001b[32mDataset.scala\u001b[39m:\u001b[32m291\u001b[39m)\r\n  org.apache.spark.sql.Dataset.show(\u001b[32mDataset.scala\u001b[39m:\u001b[32m751\u001b[39m)\r\n  org.apache.spark.sql.Dataset.show(\u001b[32mDataset.scala\u001b[39m:\u001b[32m710\u001b[39m)\r\n  org.apache.spark.sql.Dataset.show(\u001b[32mDataset.scala\u001b[39m:\u001b[32m719\u001b[39m)\r\n  ammonite.$sess.cmd35$Helper.<init>(\u001b[32mcmd35.sc\u001b[39m:\u001b[32m1\u001b[39m)\r\n  ammonite.$sess.cmd35$.<init>(\u001b[32mcmd35.sc\u001b[39m:\u001b[32m7\u001b[39m)\r\n  ammonite.$sess.cmd35$.<clinit>(\u001b[32mcmd35.sc\u001b[39m:\u001b[32m-1\u001b[39m)"
     ]
    }
   ],
   "source": [
    "df.show()"
   ]
  },
  {
   "cell_type": "markdown",
   "id": "7b2c858d",
   "metadata": {},
   "source": [
    "## Calcul du nombre de données manquantes dans chaque colonne"
   ]
  },
  {
   "cell_type": "code",
   "execution_count": null,
   "id": "a009b449",
   "metadata": {},
   "outputs": [],
   "source": [
    "val missingCounts = annualDf.agg(\n",
    "  sum(when(col(\"Order ID\").isNull || col(\"Order ID\").isNaN, 1).otherwise(0)).alias(\"missing_order\"),\n",
    "  sum(when(col(\"Product\").isNull || col(\"Product\").isNaN, 1).otherwise(0)).alias(\"missing_product\"),\n",
    "  sum(when(col(\"Quantity Ordered\").isNull || col(\"Quantity Ordered\").isNaN, 1).otherwise(0)).alias(\"missing_qte\"),\n",
    "  sum(when(col(\"Price Each\").isNull || col(\"Price Each\").isNaN, 1).otherwise(0)).alias(\"missing_price\"),\n",
    "  sum(when(col(\"Order Date\").isNull || col(\"Order Date\").isNaN, 1).otherwise(0)).alias(\"missing_date\"),\n",
    "  sum(when(col(\"Purchase Address\").isNull || col(\"Purchase Address\").isNaN, 1).otherwise(0)).alias(\"missing_adress\")\n",
    ")\n",
    "\n",
    "// Affichage des résultats\n",
    "missingCounts.show()"
   ]
  },
  {
   "cell_type": "markdown",
   "id": "5af41493",
   "metadata": {},
   "source": [
    "## suppression des donnees manquantes\n",
    "Nous avons 900 données manquantes. Ce qui est négligeable comparé au volume de notre dataset(plus de 186000)"
   ]
  },
  {
   "cell_type": "code",
   "execution_count": null,
   "id": "393b0d89",
   "metadata": {},
   "outputs": [],
   "source": [
    "val cleanedData = annualDf.na.drop()\n",
    " cleanedData.show()"
   ]
  },
  {
   "cell_type": "markdown",
   "id": "3293f2c0",
   "metadata": {},
   "source": [
    "## Vérification après suppression"
   ]
  },
  {
   "cell_type": "code",
   "execution_count": null,
   "id": "1ad758c2",
   "metadata": {},
   "outputs": [],
   "source": [
    "val missingCountsAfterClean = cleanedData.agg(\n",
    "  sum(when(col(\"Order ID\").isNull || col(\"Order ID\").isNaN, 1).otherwise(0)).alias(\"missing_order\"),\n",
    "  sum(when(col(\"Product\").isNull || col(\"Product\").isNaN, 1).otherwise(0)).alias(\"missing_product\"),\n",
    "  sum(when(col(\"Quantity Ordered\").isNull || col(\"Quantity Ordered\").isNaN, 1).otherwise(0)).alias(\"missing_qte\"),\n",
    "  sum(when(col(\"Price Each\").isNull || col(\"Price Each\").isNaN, 1).otherwise(0)).alias(\"missing_price\"),\n",
    "  sum(when(col(\"Order Date\").isNull || col(\"Order Date\").isNaN, 1).otherwise(0)).alias(\"missing_date\"),\n",
    "  sum(when(col(\"Purchase Address\").isNull || col(\"Purchase Address\").isNaN, 1).otherwise(0)).alias(\"missing_adress\")\n",
    ")\n",
    " missingCountsAfterClean.show()"
   ]
  },
  {
   "cell_type": "code",
   "execution_count": null,
   "id": "1abdb714",
   "metadata": {},
   "outputs": [
    {
     "data": {
      "text/html": [
       "<div>\n",
       "  <span style=\"float: left; word-wrap: normal; white-space: nowrap; text-align: center\">show at cmd36.sc:2</span>\n",
       "  <span style=\"float: right; word-wrap: normal; white-space: nowrap; text-align: center\"><a href=\"#\" onclick=\"cancelStage(37);\">(kill)</a></span>\n",
       "</div>\n",
       "<br>\n"
      ]
     },
     "metadata": {},
     "output_type": "display_data"
    },
    {
     "data": {
      "text/html": [
       "<div class=\"progress\">\n",
       "  <div class=\"progress-bar\" role=\"progressbar\" style=\"background-color: blue; width: 0%; word-wrap: normal; white-space: nowrap; text-align: center; color: white\" aria-valuenow=\"0\" aria-valuemin=\"0\" aria-valuemax=\"100\">\n",
       "    0 / 12\n",
       "  </div>\n",
       "  <div class=\"progress-bar\" role=\"progressbar\" style=\"background-color: red; width: 0%\" aria-valuenow=\"0\" aria-valuemin=\"0\" aria-valuemax=\"100\"></div>\n",
       "</div>\n"
      ]
     },
     "metadata": {},
     "output_type": "display_data"
    }
   ],
   "source": [
    "val MonthLyData=df.groupBy(month(to_timestamp(col(\"Order Date\"),\"MM/dd/yyyy\")).alias(\"month\")).agg(sum(col(\"Price Each\") * col(\"Quantity Ordered\")).alias(\"salesAmount\")).orderBy(col(\"month\"))\n",
    "MonthLyData.show()"
   ]
  },
  {
   "cell_type": "markdown",
   "id": "12258f0a",
   "metadata": {},
   "source": [
    "# Modélisation"
   ]
  },
  {
   "cell_type": "markdown",
   "id": "22078e27",
   "metadata": {},
   "source": [
    "## Séparation entre données de test et données d entrainement"
   ]
  },
  {
   "cell_type": "code",
   "execution_count": 29,
   "id": "4515fdd7",
   "metadata": {},
   "outputs": [
    {
     "data": {
      "text/plain": [
       "\u001b[36mtrainData\u001b[39m: \u001b[32mDataset\u001b[39m[\u001b[32mRow\u001b[39m] = [month: int, salesAmount: double]\r\n",
       "\u001b[36mtestData\u001b[39m: \u001b[32mDataset\u001b[39m[\u001b[32mRow\u001b[39m] = [month: int, salesAmount: double]"
      ]
     },
     "execution_count": 29,
     "metadata": {},
     "output_type": "execute_result"
    }
   ],
   "source": [
    "val Array(trainData, testData) = MonthLyData.randomSplit(Array(0.8, 0.2), seed = 42)"
   ]
  },
  {
   "cell_type": "markdown",
   "id": "7706a285",
   "metadata": {},
   "source": [
    "## Préparation des données pour l entraînement du modèle de régression linéaire"
   ]
  },
  {
   "cell_type": "code",
   "execution_count": 33,
   "id": "db1842af",
   "metadata": {},
   "outputs": [
    {
     "data": {
      "text/plain": [
       "\u001b[32mimport \u001b[39m\u001b[36morg.apache.spark.ml.feature.VectorAssembler\n",
       "\u001b[39m\r\n",
       "\u001b[32mimport \u001b[39m\u001b[36morg.apache.spark.ml.regression.LinearRegression\n",
       "\n",
       "// Préparer les données pour l'entraînement du modèle de régression linéaire\n",
       "\u001b[39m\r\n",
       "\u001b[36massembler\u001b[39m: \u001b[32mVectorAssembler\u001b[39m = vecAssembler_4b5c18929a97\r\n",
       "\u001b[36massembledData\u001b[39m: \u001b[32mDataFrame\u001b[39m = [month: int, salesAmount: double ... 1 more field]"
      ]
     },
     "execution_count": 33,
     "metadata": {},
     "output_type": "execute_result"
    }
   ],
   "source": [
    "val assembler = new VectorAssembler()\n",
    "  .setInputCols(Array(\"month\"))\n",
    "  .setOutputCol(\"features\")\n",
    "val assembledData = assembler.transform(trainData)\n"
   ]
  },
  {
   "cell_type": "markdown",
   "id": "8570231a",
   "metadata": {},
   "source": [
    "## Entraînement du modèle"
   ]
  },
  {
   "cell_type": "code",
   "execution_count": 34,
   "id": "4d40225a",
   "metadata": {},
   "outputs": [
    {
     "data": {
      "text/html": [
       "<div>\n",
       "  <span style=\"float: left;\">first at LinearRegression.scala:322</span>\n",
       "</div>\n"
      ]
     },
     "metadata": {},
     "output_type": "display_data"
    },
    {
     "data": {
      "text/html": [
       "<div class=\"progress\">\n",
       "  <div class=\"progress-bar\" role=\"progressbar\" style=\"background-color: blue; width: 0%; word-wrap: normal; white-space: nowrap; text-align: center; color: white\" aria-valuenow=\"0\" aria-valuemin=\"0\" aria-valuemax=\"100\">\n",
       "    0 / 12\n",
       "  </div>\n",
       "  <div class=\"progress-bar\" role=\"progressbar\" style=\"background-color: red; width: 0%\" aria-valuenow=\"0\" aria-valuemin=\"0\" aria-valuemax=\"100\"></div>\n",
       "</div>\n"
      ]
     },
     "metadata": {},
     "output_type": "display_data"
    },
    {
     "name": "stderr",
     "output_type": "stream",
     "text": [
      "Cancelling stage 32\n"
     ]
    },
    {
     "ename": "",
     "evalue": "",
     "output_type": "error",
     "traceback": [
      "\u001b[31mjava.lang.AssertionError: assertion failed\u001b[39m\r\n  scala.Predef$.assert(\u001b[32mPredef.scala\u001b[39m:\u001b[32m208\u001b[39m)\r\n  almond.internals.FunctionOutputStream.write(\u001b[32mFunctionOutputStream.scala\u001b[39m:\u001b[32m38\u001b[39m)\r\n  java.io.PrintStream.write(\u001b[32mPrintStream.java\u001b[39m:\u001b[32m480\u001b[39m)\r\n  sun.nio.cs.StreamEncoder.writeBytes(\u001b[32mStreamEncoder.java\u001b[39m:\u001b[32m221\u001b[39m)\r\n  sun.nio.cs.StreamEncoder.implWrite(\u001b[32mStreamEncoder.java\u001b[39m:\u001b[32m282\u001b[39m)\r\n  sun.nio.cs.StreamEncoder.write(\u001b[32mStreamEncoder.java\u001b[39m:\u001b[32m125\u001b[39m)\r\n  sun.nio.cs.StreamEncoder.write(\u001b[32mStreamEncoder.java\u001b[39m:\u001b[32m135\u001b[39m)\r\n  java.io.OutputStreamWriter.write(\u001b[32mOutputStreamWriter.java\u001b[39m:\u001b[32m220\u001b[39m)\r\n  java.io.Writer.write(\u001b[32mWriter.java\u001b[39m:\u001b[32m157\u001b[39m)\r\n  org.apache.log4j.helpers.QuietWriter.write(\u001b[32mQuietWriter.java\u001b[39m:\u001b[32m48\u001b[39m)\r\n  org.apache.log4j.WriterAppender.subAppend(\u001b[32mWriterAppender.java\u001b[39m:\u001b[32m310\u001b[39m)\r\n  org.apache.log4j.WriterAppender.append(\u001b[32mWriterAppender.java\u001b[39m:\u001b[32m162\u001b[39m)\r\n  org.apache.log4j.AppenderSkeleton.doAppend(\u001b[32mAppenderSkeleton.java\u001b[39m:\u001b[32m251\u001b[39m)\r\n  org.apache.log4j.helpers.AppenderAttachableImpl.appendLoopOnAppenders(\u001b[32mAppenderAttachableImpl.java\u001b[39m:\u001b[32m66\u001b[39m)\r\n  org.apache.log4j.Category.callAppenders(\u001b[32mCategory.java\u001b[39m:\u001b[32m206\u001b[39m)\r\n  org.apache.log4j.Category.forcedLog(\u001b[32mCategory.java\u001b[39m:\u001b[32m391\u001b[39m)\r\n  org.apache.log4j.Category.log(\u001b[32mCategory.java\u001b[39m:\u001b[32m856\u001b[39m)\r\n  org.slf4j.impl.Log4jLoggerAdapter.error(\u001b[32mLog4jLoggerAdapter.java\u001b[39m:\u001b[32m498\u001b[39m)\r\n  org.apache.spark.internal.Logging.logError(\u001b[32mLogging.scala\u001b[39m:\u001b[32m70\u001b[39m)\r\n  org.apache.spark.internal.Logging.logError$(\u001b[32mLogging.scala\u001b[39m:\u001b[32m69\u001b[39m)\r\n  org.apache.spark.ml.util.Instrumentation.logFailure(\u001b[32mInstrumentation.scala\u001b[39m:\u001b[32m166\u001b[39m)\r\n  org.apache.spark.ml.util.Instrumentation$.instrumented(\u001b[32mInstrumentation.scala\u001b[39m:\u001b[32m187\u001b[39m)\r\n  org.apache.spark.ml.regression.LinearRegression.train(\u001b[32mLinearRegression.scala\u001b[39m:\u001b[32m320\u001b[39m)\r\n  org.apache.spark.ml.regression.LinearRegression.train(\u001b[32mLinearRegression.scala\u001b[39m:\u001b[32m177\u001b[39m)\r\n  org.apache.spark.ml.Predictor.fit(\u001b[32mPredictor.scala\u001b[39m:\u001b[32m118\u001b[39m)\r\n  ammonite.$sess.cmd33$Helper.<init>(\u001b[32mcmd33.sc\u001b[39m:\u001b[32m3\u001b[39m)\r\n  ammonite.$sess.cmd33$.<init>(\u001b[32mcmd33.sc\u001b[39m:\u001b[32m7\u001b[39m)\r\n  ammonite.$sess.cmd33$.<clinit>(\u001b[32mcmd33.sc\u001b[39m:\u001b[32m-1\u001b[39m)"
     ]
    }
   ],
   "source": [
    "val lr = new LinearRegression()\n",
    "  .setLabelCol(\"salesAmount\")\n",
    "val lrModel = lr.fit(assembledData)"
   ]
  },
  {
   "cell_type": "markdown",
   "id": "26ddee18",
   "metadata": {},
   "source": [
    "## coefficients et intercept du modèle"
   ]
  },
  {
   "cell_type": "code",
   "execution_count": 54,
   "id": "3ed2e1c5",
   "metadata": {},
   "outputs": [
    {
     "name": "stdout",
     "output_type": "stream",
     "text": [
      "Coefficients: [530.4125874125868]\n",
      "Intercept: 12048.151515151521\n"
     ]
    }
   ],
   "source": [
    "println(s\"Coefficients: ${lrModel.coefficients}\")\n",
    "println(s\"Intercept: ${lrModel.intercept}\")\n"
   ]
  },
  {
   "cell_type": "markdown",
   "id": "b1d573fd",
   "metadata": {},
   "source": [
    "## Prédictions"
   ]
  },
  {
   "cell_type": "code",
   "execution_count": 55,
   "id": "23c4cf3e",
   "metadata": {},
   "outputs": [
    {
     "data": {
      "text/plain": [
       "\u001b[36mfutureMonths\u001b[39m: \u001b[32mDataFrame\u001b[39m = [month: bigint]\r\n",
       "\u001b[36mfutureData\u001b[39m: \u001b[32mDataFrame\u001b[39m = [month: bigint, features: vector]\r\n",
       "\u001b[36mpredictions\u001b[39m: \u001b[32mDataFrame\u001b[39m = [month: bigint, features: vector ... 1 more field]"
      ]
     },
     "execution_count": 55,
     "metadata": {},
     "output_type": "execute_result"
    }
   ],
   "source": [
    "// Faire des prédictions sur les données de test\n",
    "val testDataFeatures = assembler.transform(testData)\n",
    "val testPredictions = arimaModel.transform(testDataFeatures)\n",
    "// Évaluation des performances du modèle\n",
    "val evaluator = new RegressionEvaluator()\n",
    "  .setLabelCol(\"demand\")\n",
    "  .setPredictionCol(\"prediction\")\n",
    "  .setMetricName(\"rmse\")\n",
    "\n",
    "val rmse = evaluator.evaluate(testPredictions)\n",
    "println(s\"Root Mean Squared Error (RMSE): $rmse\")\n",
    "\n",
    "// Afficher les prédictions\n",
    "predictions.select(\"date_commande\", \"prediction\").show()\n",
    "// Faire des prévisions pour les prochains mois\n",
    "val futureMonths = sparkSession.range(13, 24).toDF(\"month\")\n",
    "val futureData = assembler.transform(futureMonths)\n",
    "val predictions = lrModel.transform(futureData)"
   ]
  },
  {
   "cell_type": "code",
   "execution_count": 56,
   "id": "4530b2d8",
   "metadata": {},
   "outputs": [
    {
     "data": {
      "text/html": [
       "<div>\n",
       "  <span style=\"float: left;\">show at cmd55.sc:1</span>\n",
       "</div>\n"
      ]
     },
     "metadata": {},
     "output_type": "display_data"
    },
    {
     "data": {
      "text/html": [
       "<div class=\"progress\">\n",
       "  <div class=\"progress-bar\" role=\"progressbar\" style=\"background-color: blue; width: 100%; word-wrap: normal; white-space: nowrap; text-align: center; color: white\" aria-valuenow=\"100\" aria-valuemin=\"0\" aria-valuemax=\"100\">\n",
       "    1 / 1\n",
       "  </div>\n",
       "  <div class=\"progress-bar\" role=\"progressbar\" style=\"background-color: red; width: 0%\" aria-valuenow=\"0\" aria-valuemin=\"0\" aria-valuemax=\"100\"></div>\n",
       "</div>\n"
      ]
     },
     "metadata": {},
     "output_type": "display_data"
    },
    {
     "data": {
      "text/html": [
       "<div>\n",
       "  <span style=\"float: left;\">show at cmd55.sc:1</span>\n",
       "</div>\n"
      ]
     },
     "metadata": {},
     "output_type": "display_data"
    },
    {
     "data": {
      "text/html": [
       "<div class=\"progress\">\n",
       "  <div class=\"progress-bar\" role=\"progressbar\" style=\"background-color: blue; width: 100%; word-wrap: normal; white-space: nowrap; text-align: center; color: white\" aria-valuenow=\"100\" aria-valuemin=\"0\" aria-valuemax=\"100\">\n",
       "    3 / 3\n",
       "  </div>\n",
       "  <div class=\"progress-bar\" role=\"progressbar\" style=\"background-color: red; width: 0%\" aria-valuenow=\"0\" aria-valuemin=\"0\" aria-valuemax=\"100\"></div>\n",
       "</div>\n"
      ]
     },
     "metadata": {},
     "output_type": "display_data"
    },
    {
     "name": "stdout",
     "output_type": "stream",
     "text": [
      "+-----+--------+------------------+\n",
      "|month|features|        prediction|\n",
      "+-----+--------+------------------+\n",
      "|   13|  [13.0]|18943.515151515152|\n",
      "|   14|  [14.0]|19473.927738927738|\n",
      "|   15|  [15.0]|20004.340326340323|\n",
      "|   16|  [16.0]|20534.752913752913|\n",
      "|   17|  [17.0]|  21065.1655011655|\n",
      "|   18|  [18.0]|21595.578088578084|\n",
      "|   19|  [19.0]|22125.990675990673|\n",
      "|   20|  [20.0]|22656.403263403256|\n",
      "|   21|  [21.0]|23186.815850815845|\n",
      "|   22|  [22.0]|23717.228438228434|\n",
      "|   23|  [23.0]|24247.641025641016|\n",
      "+-----+--------+------------------+\n",
      "\n"
     ]
    }
   ],
   "source": [
    "// Afficher les prévisions pour les prochains mois\n",
    "predictions.show()"
   ]
  },
  {
   "cell_type": "code",
   "execution_count": 74,
   "id": "f896510e",
   "metadata": {},
   "outputs": [
    {
     "data": {
      "text/html": [
       "<div>\n",
       "  <span style=\"float: left;\">collect at cmd73.sc:1</span>\n",
       "</div>\n"
      ]
     },
     "metadata": {},
     "output_type": "display_data"
    },
    {
     "data": {
      "text/html": [
       "<div class=\"progress\">\n",
       "  <div class=\"progress-bar\" role=\"progressbar\" style=\"background-color: blue; width: 100%; word-wrap: normal; white-space: nowrap; text-align: center; color: white\" aria-valuenow=\"100\" aria-valuemin=\"0\" aria-valuemax=\"100\">\n",
       "    12 / 12\n",
       "  </div>\n",
       "  <div class=\"progress-bar\" role=\"progressbar\" style=\"background-color: red; width: 0%\" aria-valuenow=\"0\" aria-valuemin=\"0\" aria-valuemax=\"100\"></div>\n",
       "</div>\n"
      ]
     },
     "metadata": {},
     "output_type": "display_data"
    },
    {
     "data": {
      "text/html": [
       "<div>\n",
       "  <span style=\"float: left;\">collect at cmd73.sc:2</span>\n",
       "</div>\n"
      ]
     },
     "metadata": {},
     "output_type": "display_data"
    },
    {
     "data": {
      "text/html": [
       "<div class=\"progress\">\n",
       "  <div class=\"progress-bar\" role=\"progressbar\" style=\"background-color: blue; width: 100%; word-wrap: normal; white-space: nowrap; text-align: center; color: white\" aria-valuenow=\"100\" aria-valuemin=\"0\" aria-valuemax=\"100\">\n",
       "    12 / 12\n",
       "  </div>\n",
       "  <div class=\"progress-bar\" role=\"progressbar\" style=\"background-color: red; width: 0%\" aria-valuenow=\"0\" aria-valuemin=\"0\" aria-valuemax=\"100\"></div>\n",
       "</div>\n"
      ]
     },
     "metadata": {},
     "output_type": "display_data"
    },
    {
     "data": {
      "text/plain": [
       "\u001b[36mmonths\u001b[39m: \u001b[32mArray\u001b[39m[\u001b[32mString\u001b[39m] = \u001b[33mArray\u001b[39m(\n",
       "  \u001b[32m\"1\"\u001b[39m,\n",
       "  \u001b[32m\"2\"\u001b[39m,\n",
       "  \u001b[32m\"3\"\u001b[39m,\n",
       "  \u001b[32m\"4\"\u001b[39m,\n",
       "  \u001b[32m\"5\"\u001b[39m,\n",
       "  \u001b[32m\"6\"\u001b[39m,\n",
       "  \u001b[32m\"7\"\u001b[39m,\n",
       "  \u001b[32m\"8\"\u001b[39m,\n",
       "  \u001b[32m\"9\"\u001b[39m,\n",
       "  \u001b[32m\"10\"\u001b[39m,\n",
       "  \u001b[32m\"11\"\u001b[39m,\n",
       "  \u001b[32m\"12\"\u001b[39m\n",
       ")\r\n",
       "\u001b[36msales\u001b[39m: \u001b[32mArray\u001b[39m[\u001b[32mDouble\u001b[39m] = \u001b[33mArray\u001b[39m(\n",
       "  \u001b[32m11071.0\u001b[39m,\n",
       "  \u001b[32m12788.0\u001b[39m,\n",
       "  \u001b[32m16573.0\u001b[39m,\n",
       "  \u001b[32m17341.0\u001b[39m,\n",
       "  \u001b[32m15578.0\u001b[39m,\n",
       "  \u001b[32m13697.0\u001b[39m,\n",
       "  \u001b[32m13341.0\u001b[39m,\n",
       "  \u001b[32m12012.0\u001b[39m,\n",
       "  \u001b[32m14753.0\u001b[39m,\n",
       "  \u001b[32m19506.0\u001b[39m,\n",
       "  \u001b[32m20078.0\u001b[39m,\n",
       "  \u001b[32m19212.0\u001b[39m\n",
       ")"
      ]
     },
     "execution_count": 74,
     "metadata": {},
     "output_type": "execute_result"
    }
   ],
   "source": [
    "// Extraire les mois et les ventes en tant que listes\n",
    "val months = MonthLyData.collect().map(_.getInt(0).toString)\n",
    "val sales = MonthLyData.collect().map(_.getAs[Long](\"salesAmount\").toDouble)\n"
   ]
  },
  {
   "cell_type": "code",
   "execution_count": 68,
   "id": "110e9cfd",
   "metadata": {},
   "outputs": [
    {
     "data": {
      "text/plain": [
       "\u001b[36mbarChart\u001b[39m: \u001b[32mBar\u001b[39m = \u001b[33mBar\u001b[39m(\n",
       "  \u001b[33mStrings\u001b[39m(\n",
       "    \u001b[33mWrappedArray\u001b[39m(\u001b[32m\"1\"\u001b[39m, \u001b[32m\"2\"\u001b[39m, \u001b[32m\"3\"\u001b[39m, \u001b[32m\"4\"\u001b[39m, \u001b[32m\"5\"\u001b[39m, \u001b[32m\"6\"\u001b[39m, \u001b[32m\"7\"\u001b[39m, \u001b[32m\"8\"\u001b[39m, \u001b[32m\"9\"\u001b[39m, \u001b[32m\"10\"\u001b[39m, \u001b[32m\"11\"\u001b[39m, \u001b[32m\"12\"\u001b[39m)\n",
       "  ),\n",
       "  \u001b[33mDoubles\u001b[39m(\n",
       "    \u001b[33mWrappedArray\u001b[39m(\n",
       "      \u001b[32m11071.0\u001b[39m,\n",
       "      \u001b[32m12788.0\u001b[39m,\n",
       "      \u001b[32m16573.0\u001b[39m,\n",
       "      \u001b[32m17341.0\u001b[39m,\n",
       "      \u001b[32m15578.0\u001b[39m,\n",
       "      \u001b[32m13697.0\u001b[39m,\n",
       "      \u001b[32m13341.0\u001b[39m,\n",
       "      \u001b[32m12012.0\u001b[39m,\n",
       "      \u001b[32m14753.0\u001b[39m,\n",
       "      \u001b[32m19506.0\u001b[39m,\n",
       "      \u001b[32m20078.0\u001b[39m,\n",
       "      \u001b[32m19212.0\u001b[39m\n",
       "    )\n",
       "  ),\n",
       "  \u001b[32mNone\u001b[39m,\n",
       "  \u001b[32mNone\u001b[39m,\n",
       "  \u001b[32mNone\u001b[39m,\n",
       "  \u001b[32mNone\u001b[39m,\n",
       "  \u001b[32mNone\u001b[39m,\n",
       "  \u001b[32mNone\u001b[39m,\n",
       "  \u001b[32mNone\u001b[39m,\n",
       "  \u001b[32mNone\u001b[39m,\n",
       "  \u001b[32mNone\u001b[39m,\n",
       "  \u001b[32mNone\u001b[39m,\n",
       "  \u001b[32mNone\u001b[39m,\n",
       "  \u001b[32mNone\u001b[39m,\n",
       "  \u001b[32mNone\u001b[39m\n",
       ")"
      ]
     },
     "execution_count": 68,
     "metadata": {},
     "output_type": "execute_result"
    }
   ],
   "source": [
    "\n",
    "// Créer un graphique à barres avec les mois en tant que x et les ventes en tant que y\n",
    "val barChart = Bar(\n",
    "  x = months.toSeq,\n",
    "  y = sales.toSeq\n",
    ")"
   ]
  },
  {
   "cell_type": "code",
   "execution_count": 69,
   "id": "a18bd5f0",
   "metadata": {},
   "outputs": [
    {
     "data": {
      "text/plain": [
       "\u001b[36mlayout\u001b[39m: \u001b[32mLayout\u001b[39m = \u001b[33mLayout\u001b[39m(\n",
       "  \u001b[33mSome\u001b[39m(\u001b[32m\"Tendances de vente mensuelles\"\u001b[39m),\n",
       "  \u001b[32mNone\u001b[39m,\n",
       "  \u001b[32mNone\u001b[39m,\n",
       "  \u001b[32mNone\u001b[39m,\n",
       "  \u001b[32mNone\u001b[39m,\n",
       "  \u001b[33mSome\u001b[39m(\n",
       "    \u001b[33mAxis\u001b[39m(\n",
       "      \u001b[33mSome\u001b[39m(\u001b[32m\"Mois\"\u001b[39m),\n",
       "      \u001b[32mNone\u001b[39m,\n",
       "      \u001b[32mNone\u001b[39m,\n",
       "      \u001b[32mNone\u001b[39m,\n",
       "      \u001b[32mNone\u001b[39m,\n",
       "      \u001b[32mNone\u001b[39m,\n",
       "      \u001b[32mNone\u001b[39m,\n",
       "      \u001b[32mNone\u001b[39m,\n",
       "      \u001b[32mNone\u001b[39m,\n",
       "      \u001b[32mNone\u001b[39m,\n",
       "      \u001b[32mNone\u001b[39m,\n",
       "      \u001b[32mNone\u001b[39m,\n",
       "      \u001b[32mNone\u001b[39m,\n",
       "      \u001b[32mNone\u001b[39m,\n",
       "      \u001b[32mNone\u001b[39m,\n",
       "      \u001b[32mNone\u001b[39m,\n",
       "      \u001b[32mNone\u001b[39m,\n",
       "      \u001b[32mNone\u001b[39m,\n",
       "      \u001b[32mNone\u001b[39m,\n",
       "      \u001b[32mNone\u001b[39m,\n",
       "      \u001b[32mNone\u001b[39m,\n",
       "      \u001b[32mNone\u001b[39m,\n",
       "      \u001b[32mNone\u001b[39m,\n",
       "      \u001b[32mNone\u001b[39m,\n",
       "      \u001b[32mNone\u001b[39m,\n",
       "      \u001b[32mNone\u001b[39m,\n",
       "      \u001b[32mNone\u001b[39m,\n",
       "      \u001b[32mNone\u001b[39m,\n",
       "      \u001b[32mNone\u001b[39m,\n",
       "      \u001b[32mNone\u001b[39m,\n",
       "      \u001b[32mNone\u001b[39m,\n",
       "..."
      ]
     },
     "execution_count": 69,
     "metadata": {},
     "output_type": "execute_result"
    }
   ],
   "source": [
    "// Créer la mise en page du graphique\n",
    "val layout = Layout(\n",
    "  title = \"Tendances de vente mensuelles\",\n",
    "  xaxis = Axis(title = \"Mois\"),\n",
    "  yaxis = Axis(title = \"Ventes\")\n",
    ")"
   ]
  },
  {
   "cell_type": "code",
   "execution_count": 70,
   "id": "0027cb95",
   "metadata": {},
   "outputs": [
    {
     "data": {
      "application/vnd.plotly.v1+json": {
       "config": {},
       "data": [
        {
         "type": "bar",
         "x": [
          "1",
          "2",
          "3",
          "4",
          "5",
          "6",
          "7",
          "8",
          "9",
          "10",
          "11",
          "12"
         ],
         "y": [
          11071,
          12788,
          16573,
          17341,
          15578,
          13697,
          13341,
          12012,
          14753,
          19506,
          20078,
          19212
         ]
        }
       ],
       "layout": {
        "title": "Tendances de vente mensuelles",
        "xaxis": {
         "title": "Mois"
        },
        "yaxis": {
         "title": "Ventes"
        }
       }
      },
      "text/html": [
       "<div class=\"chart\" id=\"plot-ff657a0a-6c33-4fc8-a79f-371f43578113\"></div>\n",
       "<script>require(['plotly'], function(Plotly) {\n",
       "  (function () {\n",
       "  var data0 = {\"x\":[\"1\",\"2\",\"3\",\"4\",\"5\",\"6\",\"7\",\"8\",\"9\",\"10\",\"11\",\"12\"],\"y\":[11071.0,12788.0,16573.0,17341.0,15578.0,13697.0,13341.0,12012.0,14753.0,19506.0,20078.0,19212.0],\"type\":\"bar\"};\n",
       "\n",
       "  var data = [data0];\n",
       "  var layout = {\"title\":\"Tendances de vente mensuelles\",\"yaxis\":{\"title\":\"Ventes\"},\"xaxis\":{\"title\":\"Mois\"}};\n",
       " var config = {};\n",
       "\n",
       "  Plotly.plot('plot-ff657a0a-6c33-4fc8-a79f-371f43578113', data, layout, config);\n",
       "})();\n",
       "});\n",
       "      </script>\n",
       "           "
      ]
     },
     "metadata": {},
     "output_type": "display_data"
    },
    {
     "data": {
      "text/plain": [
       "\u001b[36mres69\u001b[39m: \u001b[32mString\u001b[39m = \u001b[32m\"plot-ff657a0a-6c33-4fc8-a79f-371f43578113\"\u001b[39m"
      ]
     },
     "execution_count": 70,
     "metadata": {},
     "output_type": "execute_result"
    }
   ],
   "source": [
    "// Afficher le graphique\n",
    "plot(Seq(barChart), layout)"
   ]
  },
  {
   "cell_type": "code",
   "execution_count": 75,
   "id": "77b0683b",
   "metadata": {},
   "outputs": [
    {
     "data": {
      "text/plain": [
       "\u001b[36mlineChart\u001b[39m: \u001b[32mScatter\u001b[39m = \u001b[33mScatter\u001b[39m(\n",
       "  \u001b[33mSome\u001b[39m(\n",
       "    \u001b[33mStrings\u001b[39m(\n",
       "      \u001b[33mWrappedArray\u001b[39m(\n",
       "        \u001b[32m\"1\"\u001b[39m,\n",
       "        \u001b[32m\"2\"\u001b[39m,\n",
       "        \u001b[32m\"3\"\u001b[39m,\n",
       "        \u001b[32m\"4\"\u001b[39m,\n",
       "        \u001b[32m\"5\"\u001b[39m,\n",
       "        \u001b[32m\"6\"\u001b[39m,\n",
       "        \u001b[32m\"7\"\u001b[39m,\n",
       "        \u001b[32m\"8\"\u001b[39m,\n",
       "        \u001b[32m\"9\"\u001b[39m,\n",
       "        \u001b[32m\"10\"\u001b[39m,\n",
       "        \u001b[32m\"11\"\u001b[39m,\n",
       "        \u001b[32m\"12\"\u001b[39m\n",
       "      )\n",
       "    )\n",
       "  ),\n",
       "  \u001b[33mSome\u001b[39m(\n",
       "    \u001b[33mDoubles\u001b[39m(\n",
       "      \u001b[33mWrappedArray\u001b[39m(\n",
       "        \u001b[32m11071.0\u001b[39m,\n",
       "        \u001b[32m12788.0\u001b[39m,\n",
       "        \u001b[32m16573.0\u001b[39m,\n",
       "        \u001b[32m17341.0\u001b[39m,\n",
       "        \u001b[32m15578.0\u001b[39m,\n",
       "        \u001b[32m13697.0\u001b[39m,\n",
       "        \u001b[32m13341.0\u001b[39m,\n",
       "        \u001b[32m12012.0\u001b[39m,\n",
       "        \u001b[32m14753.0\u001b[39m,\n",
       "        \u001b[32m19506.0\u001b[39m,\n",
       "        \u001b[32m20078.0\u001b[39m,\n",
       "        \u001b[32m19212.0\u001b[39m\n",
       "      )\n",
       "    )\n",
       "  ),\n",
       "  \u001b[32mNone\u001b[39m,\n",
       "  \u001b[32mNone\u001b[39m,\n",
       "..."
      ]
     },
     "execution_count": 75,
     "metadata": {},
     "output_type": "execute_result"
    }
   ],
   "source": [
    "// Créer un graphique linéaire avec les mois en tant que x et les ventes en tant que y\n",
    "val lineChart = Scatter(\n",
    "  x = months.toSeq,\n",
    "  y = sales.toSeq,\n",
    "//   mode = ScatterMode.Lines,\n",
    "//     marker = Marker(color = Color.RGB(31, 119, 180)),\n",
    "//   name = \"Ventes\"\n",
    ")"
   ]
  },
  {
   "cell_type": "code",
   "execution_count": 27,
   "id": "6da2c6bf",
   "metadata": {},
   "outputs": [
    {
     "data": {
      "text/plain": [
       "\u001b[36mlayout\u001b[39m: \u001b[32mLayout\u001b[39m = \u001b[33mLayout\u001b[39m(\n",
       "  \u001b[33mSome\u001b[39m(\u001b[32m\"Tendances de vente mensuelles\"\u001b[39m),\n",
       "  \u001b[32mNone\u001b[39m,\n",
       "  \u001b[32mNone\u001b[39m,\n",
       "  \u001b[32mNone\u001b[39m,\n",
       "  \u001b[32mNone\u001b[39m,\n",
       "  \u001b[33mSome\u001b[39m(\n",
       "    \u001b[33mAxis\u001b[39m(\n",
       "      \u001b[33mSome\u001b[39m(\u001b[32m\"Mois\"\u001b[39m),\n",
       "      \u001b[32mNone\u001b[39m,\n",
       "      \u001b[32mNone\u001b[39m,\n",
       "      \u001b[32mNone\u001b[39m,\n",
       "      \u001b[32mNone\u001b[39m,\n",
       "      \u001b[32mNone\u001b[39m,\n",
       "      \u001b[32mNone\u001b[39m,\n",
       "      \u001b[32mNone\u001b[39m,\n",
       "      \u001b[32mNone\u001b[39m,\n",
       "      \u001b[32mNone\u001b[39m,\n",
       "      \u001b[32mNone\u001b[39m,\n",
       "      \u001b[32mNone\u001b[39m,\n",
       "      \u001b[32mNone\u001b[39m,\n",
       "      \u001b[32mNone\u001b[39m,\n",
       "      \u001b[32mNone\u001b[39m,\n",
       "      \u001b[32mNone\u001b[39m,\n",
       "      \u001b[32mNone\u001b[39m,\n",
       "      \u001b[32mNone\u001b[39m,\n",
       "      \u001b[32mNone\u001b[39m,\n",
       "      \u001b[32mNone\u001b[39m,\n",
       "      \u001b[32mNone\u001b[39m,\n",
       "      \u001b[32mNone\u001b[39m,\n",
       "      \u001b[32mNone\u001b[39m,\n",
       "      \u001b[32mNone\u001b[39m,\n",
       "      \u001b[32mNone\u001b[39m,\n",
       "      \u001b[32mNone\u001b[39m,\n",
       "      \u001b[32mNone\u001b[39m,\n",
       "      \u001b[32mNone\u001b[39m,\n",
       "      \u001b[32mNone\u001b[39m,\n",
       "      \u001b[32mNone\u001b[39m,\n",
       "      \u001b[32mNone\u001b[39m,\n",
       "..."
      ]
     },
     "execution_count": 27,
     "metadata": {},
     "output_type": "execute_result"
    }
   ],
   "source": [
    "// Créer la mise en page du graphique\n",
    "val layout = Layout(\n",
    "  title = \"Tendances de vente mensuelles\",\n",
    "  xaxis = Axis(title = \"Mois\"),\n",
    "  yaxis = Axis(title = \"Ventes\"),\n",
    ")"
   ]
  },
  {
   "cell_type": "code",
   "execution_count": 27,
   "id": "249ff2de",
   "metadata": {},
   "outputs": [
    {
     "name": "stderr",
     "output_type": "stream",
     "text": [
      "cmd27.sc:1: not found: value lineChart\n",
      "val res27 = plot(Seq(lineChart), layout)\n",
      "                     ^Compilation Failed"
     ]
    },
    {
     "ename": "",
     "evalue": "",
     "output_type": "error",
     "traceback": [
      "Compilation Failed"
     ]
    }
   ],
   "source": [
    "// Afficher le graphique\n",
    "plot(Seq(lineChart), layout)"
   ]
  },
  {
   "cell_type": "code",
   "execution_count": null,
   "id": "c20094a6",
   "metadata": {},
   "outputs": [],
   "source": []
  }
 ],
 "metadata": {
  "kernelspec": {
   "display_name": "Scala",
   "language": "scala",
   "name": "scala"
  },
  "language_info": {
   "codemirror_mode": "text/x-scala",
   "file_extension": ".sc",
   "mimetype": "text/x-scala",
   "name": "scala",
   "nbconvert_exporter": "script",
   "version": "2.12.11"
  }
 },
 "nbformat": 4,
 "nbformat_minor": 5
}
