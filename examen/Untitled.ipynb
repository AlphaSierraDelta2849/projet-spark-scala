{
 "cells": [
  {
   "cell_type": "code",
   "execution_count": 42,
   "id": "53fc581b",
   "metadata": {},
   "outputs": [
    {
     "data": {
      "text/plain": [
       "\u001b[32mimport \u001b[39m\u001b[36m$ivy.$                                  \n",
       "\u001b[39m\r\n",
       "\u001b[32mimport \u001b[39m\u001b[36m$ivy.$                                    \n",
       "\u001b[39m\r\n",
       "\u001b[32mimport \u001b[39m\u001b[36m$ivy.$                                      \n",
       "\u001b[39m\r\n",
       "\u001b[32mimport \u001b[39m\u001b[36mplotly._, plotly.element._, plotly.layout._, plotly.Almond._\u001b[39m"
      ]
     },
     "execution_count": 42,
     "metadata": {},
     "output_type": "execute_result"
    }
   ],
   "source": [
    "import $ivy.`org.apache.spark::spark-sql:2.4.5`\n",
    "import $ivy.`org.apache.spark::spark-mllib:2.4.5`\n",
    "import $ivy.`org.plotly-scala::plotly-almond:0.8.1`\n",
    "import plotly._, plotly.element._, plotly.layout._, plotly.Almond._"
   ]
  },
  {
   "cell_type": "code",
   "execution_count": 13,
   "id": "fb5faef9",
   "metadata": {},
   "outputs": [
    {
     "data": {
      "text/plain": [
       "\u001b[32mimport \u001b[39m\u001b[36morg.apache.log4j.{Level, Logger}\n",
       "\u001b[39m\r\n",
       "\u001b[32mimport \u001b[39m\u001b[36morg.apache.spark.storage.StorageLevel\n",
       "\u001b[39m\r\n",
       "\u001b[32mimport \u001b[39m\u001b[36morg.apache.spark.sql.functions._\n",
       "\n",
       "\u001b[39m\r\n",
       "\u001b[36mrootLogger\u001b[39m: \u001b[32mLogger\u001b[39m = org.apache.log4j.spi.RootLogger@73923868"
      ]
     },
     "execution_count": 13,
     "metadata": {},
     "output_type": "execute_result"
    }
   ],
   "source": [
    "import org.apache.log4j.{Level, Logger}\n",
    "import org.apache.spark.storage.StorageLevel\n",
    "import org.apache.spark.sql.functions._\n",
    "\n",
    "val rootLogger = Logger.getRootLogger()\n",
    "rootLogger.setLevel(Level.ERROR)\n",
    "\n",
    "Logger.getLogger(\"org.apache.spark\").setLevel(Level.WARN)\n",
    "Logger.getLogger(\"org.spark-project\").setLevel(Level.WARN)"
   ]
  },
  {
   "cell_type": "code",
   "execution_count": 14,
   "id": "79f4b3ec",
   "metadata": {},
   "outputs": [
    {
     "name": "stdout",
     "output_type": "stream",
     "text": [
      "Getting spark JARs\n",
      "Creating SparkSession\n"
     ]
    },
    {
     "data": {
      "text/html": [
       "<a target=\"_blank\" href=\"http://DESKTOP-3JG57AE:4040\">Spark UI</a>"
      ]
     },
     "metadata": {},
     "output_type": "display_data"
    },
    {
     "data": {
      "text/plain": [
       "\u001b[32mimport \u001b[39m\u001b[36morg.apache.spark.sql._\n",
       "\u001b[39m\r\n",
       "\u001b[32mimport \u001b[39m\u001b[36morg.apache.spark.sql.{DataFrame, SparkSession}\n",
       "\u001b[39m\r\n",
       "\u001b[32mimport \u001b[39m\u001b[36morg.apache.spark.sql.types._\n",
       "\n",
       "\u001b[39m\r\n",
       "\u001b[36msparkSession\u001b[39m: \u001b[32mSparkSession\u001b[39m = org.apache.spark.sql.SparkSession@6e2bb568"
      ]
     },
     "execution_count": 14,
     "metadata": {},
     "output_type": "execute_result"
    }
   ],
   "source": [
    "import org.apache.spark.sql._\n",
    "import org.apache.spark.sql.{DataFrame, SparkSession}\n",
    "import org.apache.spark.sql.types._\n",
    "\n",
    "val sparkSession = {\n",
    "  NotebookSparkSession.builder()\n",
    "    .master(\"local[*]\")\n",
    "    .getOrCreate()\n",
    "}"
   ]
  },
  {
   "cell_type": "code",
   "execution_count": 15,
   "id": "c347bead",
   "metadata": {},
   "outputs": [
    {
     "name": "stdout",
     "output_type": "stream",
     "text": [
      "JanuaryFebruaryMarchAprilMayJuneJulyAugustSeptemberOctoberNovemberDecember"
     ]
    },
    {
     "data": {
      "text/html": [
       "<div class=\"jp-RenderedText\">\n",
       "<pre><code><span style=\"color: rgb(0, 187, 187)\"><span class=\"ansi-cyan-fg\">fireSchema</span></span>: <span style=\"color: rgb(0, 187, 0)\"><span class=\"ansi-green-fg\">StructType</span></span> = <span style=\"color: yellow\"><span class=\"ansi-yellow-fg\">StructType</span></span>(\n",
       "  <span style=\"color: yellow\"><span class=\"ansi-yellow-fg\">StructField</span></span>(<span style=\"color: rgb(0, 187, 0)\"><span class=\"ansi-green-fg\">&quot;Order ID&quot;</span></span>, StringType, true, {}),\n",
       "  <span style=\"color: yellow\"><span class=\"ansi-yellow-fg\">StructField</span></span>(<span style=\"color: rgb(0, 187, 0)\"><span class=\"ansi-green-fg\">&quot;Product&quot;</span></span>, StringType, true, {}),\n",
       "  <span style=\"color: yellow\"><span class=\"ansi-yellow-fg\">StructField</span></span>(<span style=\"color: rgb(0, 187, 0)\"><span class=\"ansi-green-fg\">&quot;Quantity Ordered&quot;</span></span>, IntegerType, true, {}),\n",
       "  <span style=\"color: yellow\"><span class=\"ansi-yellow-fg\">StructField</span></span>(<span style=\"color: rgb(0, 187, 0)\"><span class=\"ansi-green-fg\">&quot;Price Each&quot;</span></span>, FloatType, true, {}),\n",
       "  <span style=\"color: yellow\"><span class=\"ansi-yellow-fg\">StructField</span></span>(<span style=\"color: rgb(0, 187, 0)\"><span class=\"ansi-green-fg\">&quot;Order Date&quot;</span></span>, StringType, true, {}),\n",
       "  <span style=\"color: yellow\"><span class=\"ansi-yellow-fg\">StructField</span></span>(<span style=\"color: rgb(0, 187, 0)\"><span class=\"ansi-green-fg\">&quot;Purchase Address&quot;</span></span>, StringType, true, {})\n",
       ")\r\n",
       "<span style=\"color: rgb(0, 187, 187)\"><span class=\"ansi-cyan-fg\">annualDf</span></span>: <span style=\"color: rgb(0, 187, 0)\"><span class=\"ansi-green-fg\">DataFrame</span></span> = [Order ID: string, Product: string ... 4 more fields]\r\n",
       "defined <span style=\"color: rgb(0, 187, 0)\"><span class=\"ansi-green-fg\">function</span></span> <span style=\"color: rgb(0, 187, 187)\"><span class=\"ansi-cyan-fg\">loadCsvFile</span></span>\r\n",
       "<span style=\"color: rgb(0, 187, 187)\"><span class=\"ansi-cyan-fg\">dataframes</span></span>: <span style=\"color: rgb(0, 187, 0)\"><span class=\"ansi-green-fg\">List</span></span>[<span style=\"color: rgb(0, 187, 0)\"><span class=\"ansi-green-fg\">DataFrame</span></span>] = <span style=\"color: yellow\"><span class=\"ansi-yellow-fg\">List</span></span>()\r\n",
       "<span style=\"color: rgb(0, 187, 187)\"><span class=\"ansi-cyan-fg\">months</span></span>: <span style=\"color: rgb(0, 187, 0)\"><span class=\"ansi-green-fg\">List</span></span>[<span style=\"color: rgb(0, 187, 0)\"><span class=\"ansi-green-fg\">String</span></span>] = <span style=\"color: yellow\"><span class=\"ansi-yellow-fg\">List</span></span>(\n",
       "  <span style=\"color: rgb(0, 187, 0)\"><span class=\"ansi-green-fg\">&quot;January&quot;</span></span>,\n",
       "  <span style=\"color: rgb(0, 187, 0)\"><span class=\"ansi-green-fg\">&quot;February&quot;</span></span>,\n",
       "  <span style=\"color: rgb(0, 187, 0)\"><span class=\"ansi-green-fg\">&quot;March&quot;</span></span>,\n",
       "  <span style=\"color: rgb(0, 187, 0)\"><span class=\"ansi-green-fg\">&quot;April&quot;</span></span>,\n",
       "  <span style=\"color: rgb(0, 187, 0)\"><span class=\"ansi-green-fg\">&quot;May&quot;</span></span>,\n",
       "  <span style=\"color: rgb(0, 187, 0)\"><span class=\"ansi-green-fg\">&quot;June&quot;</span></span>,\n",
       "  <span style=\"color: rgb(0, 187, 0)\"><span class=\"ansi-green-fg\">&quot;July&quot;</span></span>,\n",
       "  <span style=\"color: rgb(0, 187, 0)\"><span class=\"ansi-green-fg\">&quot;August&quot;</span></span>,\n",
       "  <span style=\"color: rgb(0, 187, 0)\"><span class=\"ansi-green-fg\">&quot;September&quot;</span></span>,\n",
       "  <span style=\"color: rgb(0, 187, 0)\"><span class=\"ansi-green-fg\">&quot;October&quot;</span></span>,\n",
       "  <span style=\"color: rgb(0, 187, 0)\"><span class=\"ansi-green-fg\">&quot;November&quot;</span></span>,\n",
       "  <span style=\"color: rgb(0, 187, 0)\"><span class=\"ansi-green-fg\">&quot;December&quot;</span></span>\n",
       ")\r\n",
       "<span style=\"color: rgb(0, 187, 187)\"><span class=\"ansi-cyan-fg\">i</span></span>: <span style=\"color: rgb(0, 187, 0)\"><span class=\"ansi-green-fg\">Int</span></span> = <span style=\"color: rgb(0, 187, 0)\"><span class=\"ansi-green-fg\">0</span></span></code></pre>\n",
       "</div>"
      ],
      "text/plain": [
       "\u001b[36mfireSchema\u001b[39m: \u001b[32mStructType\u001b[39m = \u001b[33mStructType\u001b[39m(\n",
       "  \u001b[33mStructField\u001b[39m(\u001b[32m\"Order ID\"\u001b[39m, StringType, true, {}),\n",
       "  \u001b[33mStructField\u001b[39m(\u001b[32m\"Product\"\u001b[39m, StringType, true, {}),\n",
       "  \u001b[33mStructField\u001b[39m(\u001b[32m\"Quantity Ordered\"\u001b[39m, IntegerType, true, {}),\n",
       "  \u001b[33mStructField\u001b[39m(\u001b[32m\"Price Each\"\u001b[39m, FloatType, true, {}),\n",
       "  \u001b[33mStructField\u001b[39m(\u001b[32m\"Order Date\"\u001b[39m, StringType, true, {}),\n",
       "  \u001b[33mStructField\u001b[39m(\u001b[32m\"Purchase Address\"\u001b[39m, StringType, true, {})\n",
       ")\r\n",
       "\u001b[36mannualDf\u001b[39m: \u001b[32mDataFrame\u001b[39m = [Order ID: string, Product: string ... 4 more fields]\r\n",
       "defined \u001b[32mfunction\u001b[39m \u001b[36mloadCsvFile\u001b[39m\r\n",
       "\u001b[36mdataframes\u001b[39m: \u001b[32mList\u001b[39m[\u001b[32mDataFrame\u001b[39m] = \u001b[33mList\u001b[39m()\r\n",
       "\u001b[36mmonths\u001b[39m: \u001b[32mList\u001b[39m[\u001b[32mString\u001b[39m] = \u001b[33mList\u001b[39m(\n",
       "  \u001b[32m\"January\"\u001b[39m,\n",
       "  \u001b[32m\"February\"\u001b[39m,\n",
       "  \u001b[32m\"March\"\u001b[39m,\n",
       "  \u001b[32m\"April\"\u001b[39m,\n",
       "  \u001b[32m\"May\"\u001b[39m,\n",
       "  \u001b[32m\"June\"\u001b[39m,\n",
       "  \u001b[32m\"July\"\u001b[39m,\n",
       "  \u001b[32m\"August\"\u001b[39m,\n",
       "  \u001b[32m\"September\"\u001b[39m,\n",
       "  \u001b[32m\"October\"\u001b[39m,\n",
       "  \u001b[32m\"November\"\u001b[39m,\n",
       "  \u001b[32m\"December\"\u001b[39m\n",
       ")\r\n",
       "\u001b[36mi\u001b[39m: \u001b[32mInt\u001b[39m = \u001b[32m0\u001b[39m"
      ]
     },
     "metadata": {},
     "output_type": "display_data"
    }
   ],
   "source": [
    "val fireSchema = StructType(Array(StructField(\"Order ID\", StringType),\n",
    "                 StructField(\"Product\", StringType, true),\n",
    "                 StructField(\"Quantity Ordered\", IntegerType, true),\n",
    "                 StructField(\"Price Each\", FloatType, true),\n",
    "                 StructField(\"Order Date\", StringType, true),\n",
    "                 StructField(\"Purchase Address\", StringType, true),\n",
    "))\n",
    "\n",
    "var annualDf:DataFrame=null\n",
    "\n",
    "def loadCsvFile(fileName: String): DataFrame = {\n",
    "    val pathName=\"csv/Sales_\"+fileName+\"_2019.csv\"\n",
    "  val df = sparkSession.read\n",
    "    .format(\"csv\")\n",
    "    .option(\"header\", \"true\")\n",
    "    .option(\"delimiter\", \",\")\n",
    "    .schema(fireSchema)\n",
    "    .load(pathName)\n",
    "\n",
    "  df\n",
    "}\n",
    "var dataframes: List[DataFrame]=List()\n",
    "val months = List(\"January\", \"February\", \"March\", \"April\", \"May\", \"June\", \"July\", \"August\", \"September\", \"October\", \"November\", \"December\")\n",
    "var i=0\n",
    "months.foreach{(month)=>\n",
    "           val df=loadCsvFile(month)\n",
    "//            dataframes=df::dataframes\n",
    "            if(annualDf==null) annualDf = df  else annualDf=annualDf.union(df)\n",
    "    print(month)\n",
    "}\n",
    "\n"
   ]
  },
  {
   "cell_type": "code",
   "execution_count": 16,
   "id": "2d62affd",
   "metadata": {},
   "outputs": [
    {
     "data": {
      "text/html": [
       "<script>\n",
       "var comm = Jupyter.notebook.kernel.comm_manager.new_comm('cancel-stage-e8fa2dec-1f32-4e80-8514-e7f904cae580', {});\n",
       "\n",
       "function cancelStage(stageId) {\n",
       "  console.log('Cancelling stage ' + stageId);\n",
       "  comm.send({ 'stageId': stageId });\n",
       "}\n",
       "</script>\n",
       "          "
      ]
     },
     "metadata": {},
     "output_type": "display_data"
    },
    {
     "data": {
      "text/html": [
       "<div>\n",
       "  <span style=\"float: left;\">count at cmd15.sc:1</span>\n",
       "</div>\n"
      ]
     },
     "metadata": {},
     "output_type": "display_data"
    },
    {
     "data": {
      "text/html": [
       "<div class=\"progress\">\n",
       "  <div class=\"progress-bar\" role=\"progressbar\" style=\"background-color: blue; width: 100%; word-wrap: normal; white-space: nowrap; text-align: center; color: white\" aria-valuenow=\"100\" aria-valuemin=\"0\" aria-valuemax=\"100\">\n",
       "    12 / 12\n",
       "  </div>\n",
       "  <div class=\"progress-bar\" role=\"progressbar\" style=\"background-color: red; width: 0%\" aria-valuenow=\"0\" aria-valuemin=\"0\" aria-valuemax=\"100\"></div>\n",
       "</div>\n"
      ]
     },
     "metadata": {},
     "output_type": "display_data"
    },
    {
     "data": {
      "text/html": [
       "<div>\n",
       "  <span style=\"float: left;\">count at cmd15.sc:1</span>\n",
       "</div>\n"
      ]
     },
     "metadata": {},
     "output_type": "display_data"
    },
    {
     "data": {
      "text/html": [
       "<div class=\"progress\">\n",
       "  <div class=\"progress-bar\" role=\"progressbar\" style=\"background-color: blue; width: 100%; word-wrap: normal; white-space: nowrap; text-align: center; color: white\" aria-valuenow=\"100\" aria-valuemin=\"0\" aria-valuemax=\"100\">\n",
       "    1 / 1\n",
       "  </div>\n",
       "  <div class=\"progress-bar\" role=\"progressbar\" style=\"background-color: red; width: 0%\" aria-valuenow=\"0\" aria-valuemin=\"0\" aria-valuemax=\"100\"></div>\n",
       "</div>\n"
      ]
     },
     "metadata": {},
     "output_type": "display_data"
    },
    {
     "data": {
      "text/plain": [
       "\u001b[36mres15\u001b[39m: \u001b[32mLong\u001b[39m = \u001b[32m186850L\u001b[39m"
      ]
     },
     "execution_count": 16,
     "metadata": {},
     "output_type": "execute_result"
    }
   ],
   "source": [
    "annualDf.count()"
   ]
  },
  {
   "cell_type": "code",
   "execution_count": 6,
   "id": "7189a5f5",
   "metadata": {},
   "outputs": [
    {
     "data": {
      "text/html": [
       "<div>\n",
       "  <span style=\"float: left;\">show at cmd5.sc:5</span>\n",
       "</div>\n"
      ]
     },
     "metadata": {},
     "output_type": "display_data"
    },
    {
     "data": {
      "text/html": [
       "<div class=\"progress\">\n",
       "  <div class=\"progress-bar\" role=\"progressbar\" style=\"background-color: blue; width: 100%; word-wrap: normal; white-space: nowrap; text-align: center; color: white\" aria-valuenow=\"100\" aria-valuemin=\"0\" aria-valuemax=\"100\">\n",
       "    12 / 12\n",
       "  </div>\n",
       "  <div class=\"progress-bar\" role=\"progressbar\" style=\"background-color: red; width: 0%\" aria-valuenow=\"0\" aria-valuemin=\"0\" aria-valuemax=\"100\"></div>\n",
       "</div>\n"
      ]
     },
     "metadata": {},
     "output_type": "display_data"
    },
    {
     "data": {
      "text/html": [
       "<div>\n",
       "  <span style=\"float: left;\">show at cmd5.sc:5</span>\n",
       "</div>\n"
      ]
     },
     "metadata": {},
     "output_type": "display_data"
    },
    {
     "data": {
      "text/html": [
       "<div class=\"progress\">\n",
       "  <div class=\"progress-bar\" role=\"progressbar\" style=\"background-color: blue; width: 100%; word-wrap: normal; white-space: nowrap; text-align: center; color: white\" aria-valuenow=\"100\" aria-valuemin=\"0\" aria-valuemax=\"100\">\n",
       "    200 / 200\n",
       "  </div>\n",
       "  <div class=\"progress-bar\" role=\"progressbar\" style=\"background-color: red; width: 0%\" aria-valuenow=\"0\" aria-valuemin=\"0\" aria-valuemax=\"100\"></div>\n",
       "</div>\n"
      ]
     },
     "metadata": {},
     "output_type": "display_data"
    },
    {
     "name": "stdout",
     "output_type": "stream",
     "text": [
      "+-----------------------------------------------+---------------+\n",
      "|month(to_timestamp(`Order Date`, 'MM/dd/yyyy'))|    TotalAmount|\n",
      "+-----------------------------------------------+---------------+\n",
      "|                                             11|3715537.4414711|\n",
      "+-----------------------------------------------+---------------+\n",
      "only showing top 1 row\n",
      "\n"
     ]
    },
    {
     "data": {
      "text/plain": [
       "\u001b[32mimport \u001b[39m\u001b[36morg.apache.spark.sql.functions._\n",
       "\n",
       "\u001b[39m\r\n",
       "\u001b[36mresultDf\u001b[39m: \u001b[32mDataset\u001b[39m[\u001b[32mRow\u001b[39m] = [month(to_timestamp(`Order Date`, 'MM/dd/yyyy')): int, TotalAmount: double]"
      ]
     },
     "execution_count": 6,
     "metadata": {},
     "output_type": "execute_result"
    }
   ],
   "source": [
    "import org.apache.spark.sql.functions._\n",
    "\n",
    "val resultDf= annualDf.groupBy(month(to_timestamp(col(\"Order Date\"), \"MM/dd/yyyy\"))).agg(sum(col(\"Price Each\") * col(\"Quantity Ordered\")).as(\"TotalAmount\")).orderBy(col(\"TotalAmount\").desc)\n",
    "                                   \n",
    " resultDf.show(1)"
   ]
  },
  {
   "cell_type": "code",
   "execution_count": 7,
   "id": "3b0c99ee",
   "metadata": {
    "scrolled": false
   },
   "outputs": [
    {
     "data": {
      "text/html": [
       "<div>\n",
       "  <span style=\"float: left;\">show at cmd6.sc:3</span>\n",
       "</div>\n"
      ]
     },
     "metadata": {},
     "output_type": "display_data"
    },
    {
     "data": {
      "text/html": [
       "<div class=\"progress\">\n",
       "  <div class=\"progress-bar\" role=\"progressbar\" style=\"background-color: blue; width: 100%; word-wrap: normal; white-space: nowrap; text-align: center; color: white\" aria-valuenow=\"100\" aria-valuemin=\"0\" aria-valuemax=\"100\">\n",
       "    12 / 12\n",
       "  </div>\n",
       "  <div class=\"progress-bar\" role=\"progressbar\" style=\"background-color: red; width: 0%\" aria-valuenow=\"0\" aria-valuemin=\"0\" aria-valuemax=\"100\"></div>\n",
       "</div>\n"
      ]
     },
     "metadata": {},
     "output_type": "display_data"
    },
    {
     "data": {
      "text/html": [
       "<div>\n",
       "  <span style=\"float: left;\">show at cmd6.sc:3</span>\n",
       "</div>\n"
      ]
     },
     "metadata": {},
     "output_type": "display_data"
    },
    {
     "data": {
      "text/html": [
       "<div class=\"progress\">\n",
       "  <div class=\"progress-bar\" role=\"progressbar\" style=\"background-color: blue; width: 100%; word-wrap: normal; white-space: nowrap; text-align: center; color: white\" aria-valuenow=\"100\" aria-valuemin=\"0\" aria-valuemax=\"100\">\n",
       "    200 / 200\n",
       "  </div>\n",
       "  <div class=\"progress-bar\" role=\"progressbar\" style=\"background-color: red; width: 0%\" aria-valuenow=\"0\" aria-valuemin=\"0\" aria-valuemax=\"100\"></div>\n",
       "</div>\n"
      ]
     },
     "metadata": {},
     "output_type": "display_data"
    },
    {
     "name": "stdout",
     "output_type": "stream",
     "text": [
      "+-----------------------------+-----+\n",
      "|split(Purchase Address, ,)[1]|count|\n",
      "+-----------------------------+-----+\n",
      "|                San Francisco|44732|\n",
      "|                  Los Angeles|29605|\n",
      "|                New York City|24876|\n",
      "|                       Boston|19934|\n",
      "|                      Atlanta|14881|\n",
      "|                       Dallas|14820|\n",
      "|                      Seattle|14732|\n",
      "|                     Portland|12465|\n",
      "|                       Austin| 9905|\n",
      "|                         null|  900|\n",
      "+-----------------------------+-----+\n",
      "\n"
     ]
    },
    {
     "data": {
      "text/plain": [
       "\u001b[36mresultDf\u001b[39m: \u001b[32mDataset\u001b[39m[\u001b[32mRow\u001b[39m] = [split(Purchase Address, ,)[1]: string, count: bigint]"
      ]
     },
     "execution_count": 7,
     "metadata": {},
     "output_type": "execute_result"
    }
   ],
   "source": [
    "val resultDf= annualDf.groupBy(split(col(\"Purchase Address\"),\",\")(1)).count().orderBy(col(\"count\").desc)\n",
    "                                   \n",
    " resultDf.show()"
   ]
  },
  {
   "cell_type": "code",
   "execution_count": 8,
   "id": "dba800f0",
   "metadata": {},
   "outputs": [
    {
     "data": {
      "text/html": [
       "<div>\n",
       "  <span style=\"float: left;\">show at cmd7.sc:3</span>\n",
       "</div>\n"
      ]
     },
     "metadata": {},
     "output_type": "display_data"
    },
    {
     "data": {
      "text/html": [
       "<div class=\"progress\">\n",
       "  <div class=\"progress-bar\" role=\"progressbar\" style=\"background-color: blue; width: 100%; word-wrap: normal; white-space: nowrap; text-align: center; color: white\" aria-valuenow=\"100\" aria-valuemin=\"0\" aria-valuemax=\"100\">\n",
       "    12 / 12\n",
       "  </div>\n",
       "  <div class=\"progress-bar\" role=\"progressbar\" style=\"background-color: red; width: 0%\" aria-valuenow=\"0\" aria-valuemin=\"0\" aria-valuemax=\"100\"></div>\n",
       "</div>\n"
      ]
     },
     "metadata": {},
     "output_type": "display_data"
    },
    {
     "data": {
      "text/html": [
       "<div>\n",
       "  <span style=\"float: left;\">show at cmd7.sc:3</span>\n",
       "</div>\n"
      ]
     },
     "metadata": {},
     "output_type": "display_data"
    },
    {
     "data": {
      "text/html": [
       "<div class=\"progress\">\n",
       "  <div class=\"progress-bar\" role=\"progressbar\" style=\"background-color: blue; width: 100%; word-wrap: normal; white-space: nowrap; text-align: center; color: white\" aria-valuenow=\"100\" aria-valuemin=\"0\" aria-valuemax=\"100\">\n",
       "    200 / 200\n",
       "  </div>\n",
       "  <div class=\"progress-bar\" role=\"progressbar\" style=\"background-color: red; width: 0%\" aria-valuenow=\"0\" aria-valuemin=\"0\" aria-valuemax=\"100\"></div>\n",
       "</div>\n"
      ]
     },
     "metadata": {},
     "output_type": "display_data"
    },
    {
     "name": "stdout",
     "output_type": "stream",
     "text": [
      "+----------------------------------------------------+-----+\n",
      "|hour(to_timestamp(`Order Date`, 'MM/dd/yyyy HH:mm'))|count|\n",
      "+----------------------------------------------------+-----+\n",
      "|                                                  19|12905|\n",
      "+----------------------------------------------------+-----+\n",
      "only showing top 1 row\n",
      "\n"
     ]
    },
    {
     "data": {
      "text/plain": [
       "\u001b[36mresultDf\u001b[39m: \u001b[32mDataset\u001b[39m[\u001b[32mRow\u001b[39m] = [hour(to_timestamp(`Order Date`, 'MM/dd/yyyy HH:mm')): int, count: bigint]"
      ]
     },
     "execution_count": 8,
     "metadata": {},
     "output_type": "execute_result"
    }
   ],
   "source": [
    "val resultDf= annualDf.groupBy(hour(to_timestamp(col(\"Order Date\"),\"MM/dd/yyyy HH:mm\"))).count().orderBy(col(\"count\").desc)\n",
    "                                   \n",
    " resultDf.show(1)"
   ]
  },
  {
   "cell_type": "code",
   "execution_count": null,
   "id": "790009a6",
   "metadata": {},
   "outputs": [],
   "source": [
    "sparkSession.close()"
   ]
  },
  {
   "cell_type": "code",
   "execution_count": 10,
   "id": "ba859d4c",
   "metadata": {},
   "outputs": [
    {
     "ename": "",
     "evalue": "",
     "output_type": "error",
     "traceback": [
      "\u001b[31morg.apache.spark.sql.catalyst.errors.package$TreeNodeException: execute, tree:\nExchange hashpartitioning(Order ID#0, 200)\n+- *(13) HashAggregate(keys=[Order ID#0], functions=[partial_count(1)], output=[Order ID#0, count#361L])\n   +- Union\n      :- *(1) FileScan csv [Order ID#0] Batched: false, Format: CSV, Location: InMemoryFileIndex[file:/C:/Users/user/Desktop/scala/homework/examen/csv/Sales_January_2019.csv], PartitionFilters: [], PushedFilters: [], ReadSchema: struct<Order ID:string>\n      :- *(2) FileScan csv [Order ID#12] Batched: false, Format: CSV, Location: InMemoryFileIndex[file:/C:/Users/user/Desktop/scala/homework/examen/csv/Sales_February_2019.csv], PartitionFilters: [], PushedFilters: [], ReadSchema: struct<Order ID:string>\n      :- *(3) FileScan csv [Order ID#30] Batched: false, Format: CSV, Location: InMemoryFileIndex[file:/C:/Users/user/Desktop/scala/homework/examen/csv/Sales_March_2019.csv], PartitionFilters: [], PushedFilters: [], ReadSchema: struct<Order ID:string>\n      :- *(4) FileScan csv [Order ID#48] Batched: false, Format: CSV, Location: InMemoryFileIndex[file:/C:/Users/user/Desktop/scala/homework/examen/csv/Sales_April_2019.csv], PartitionFilters: [], PushedFilters: [], ReadSchema: struct<Order ID:string>\n      :- *(5) FileScan csv [Order ID#66] Batched: false, Format: CSV, Location: InMemoryFileIndex[file:/C:/Users/user/Desktop/scala/homework/examen/csv/Sales_May_2019.csv], PartitionFilters: [], PushedFilters: [], ReadSchema: struct<Order ID:string>\n      :- *(6) FileScan csv [Order ID#84] Batched: false, Format: CSV, Location: InMemoryFileIndex[file:/C:/Users/user/Desktop/scala/homework/examen/csv/Sales_June_2019.csv], PartitionFilters: [], PushedFilters: [], ReadSchema: struct<Order ID:string>\n      :- *(7) FileScan csv [Order ID#102] Batched: false, Format: CSV, Location: InMemoryFileIndex[file:/C:/Users/user/Desktop/scala/homework/examen/csv/Sales_July_2019.csv], PartitionFilters: [], PushedFilters: [], ReadSchema: struct<Order ID:string>\n      :- *(8) FileScan csv [Order ID#120] Batched: false, Format: CSV, Location: InMemoryFileIndex[file:/C:/Users/user/Desktop/scala/homework/examen/csv/Sales_August_2019.csv], PartitionFilters: [], PushedFilters: [], ReadSchema: struct<Order ID:string>\n      :- *(9) FileScan csv [Order ID#138] Batched: false, Format: CSV, Location: InMemoryFileIndex[file:/C:/Users/user/Desktop/scala/homework/examen/csv/Sales_September_2019.csv], PartitionFilters: [], PushedFilters: [], ReadSchema: struct<Order ID:string>\n      :- *(10) FileScan csv [Order ID#156] Batched: false, Format: CSV, Location: InMemoryFileIndex[file:/C:/Users/user/Desktop/scala/homework/examen/csv/Sales_October_2019.csv], PartitionFilters: [], PushedFilters: [], ReadSchema: struct<Order ID:string>\n      :- *(11) FileScan csv [Order ID#174] Batched: false, Format: CSV, Location: InMemoryFileIndex[file:/C:/Users/user/Desktop/scala/homework/examen/csv/Sales_November_2019.csv], PartitionFilters: [], PushedFilters: [], ReadSchema: struct<Order ID:string>\n      +- *(12) FileScan csv [Order ID#192] Batched: false, Format: CSV, Location: InMemoryFileIndex[file:/C:/Users/user/Desktop/scala/homework/examen/csv/Sales_December_2019.csv], PartitionFilters: [], PushedFilters: [], ReadSchema: struct<Order ID:string>\n\u001b[39m\r\n  org.apache.spark.sql.catalyst.errors.package$.attachTree(\u001b[32mpackage.scala\u001b[39m:\u001b[32m56\u001b[39m)\r\n  org.apache.spark.sql.execution.exchange.ShuffleExchangeExec.doExecute(\u001b[32mShuffleExchangeExec.scala\u001b[39m:\u001b[32m119\u001b[39m)\r\n  org.apache.spark.sql.execution.SparkPlan.$anonfun$execute$1(\u001b[32mSparkPlan.scala\u001b[39m:\u001b[32m131\u001b[39m)\r\n  org.apache.spark.sql.execution.SparkPlan.$anonfun$executeQuery$1(\u001b[32mSparkPlan.scala\u001b[39m:\u001b[32m155\u001b[39m)\r\n  org.apache.spark.rdd.RDDOperationScope$.withScope(\u001b[32mRDDOperationScope.scala\u001b[39m:\u001b[32m151\u001b[39m)\r\n  org.apache.spark.sql.execution.SparkPlan.executeQuery(\u001b[32mSparkPlan.scala\u001b[39m:\u001b[32m152\u001b[39m)\r\n  org.apache.spark.sql.execution.SparkPlan.execute(\u001b[32mSparkPlan.scala\u001b[39m:\u001b[32m127\u001b[39m)\r\n  org.apache.spark.sql.execution.InputAdapter.inputRDDs(\u001b[32mWholeStageCodegenExec.scala\u001b[39m:\u001b[32m391\u001b[39m)\r\n  org.apache.spark.sql.execution.aggregate.HashAggregateExec.inputRDDs(\u001b[32mHashAggregateExec.scala\u001b[39m:\u001b[32m151\u001b[39m)\r\n  org.apache.spark.sql.execution.WholeStageCodegenExec.doExecute(\u001b[32mWholeStageCodegenExec.scala\u001b[39m:\u001b[32m627\u001b[39m)\r\n  org.apache.spark.sql.execution.SparkPlan.$anonfun$execute$1(\u001b[32mSparkPlan.scala\u001b[39m:\u001b[32m131\u001b[39m)\r\n  org.apache.spark.sql.execution.SparkPlan.$anonfun$executeQuery$1(\u001b[32mSparkPlan.scala\u001b[39m:\u001b[32m155\u001b[39m)\r\n  org.apache.spark.rdd.RDDOperationScope$.withScope(\u001b[32mRDDOperationScope.scala\u001b[39m:\u001b[32m151\u001b[39m)\r\n  org.apache.spark.sql.execution.SparkPlan.executeQuery(\u001b[32mSparkPlan.scala\u001b[39m:\u001b[32m152\u001b[39m)\r\n  org.apache.spark.sql.execution.SparkPlan.execute(\u001b[32mSparkPlan.scala\u001b[39m:\u001b[32m127\u001b[39m)\r\n  org.apache.spark.sql.execution.TakeOrderedAndProjectExec.executeCollect(\u001b[32mlimit.scala\u001b[39m:\u001b[32m136\u001b[39m)\r\n  org.apache.spark.sql.Dataset.collectFromPlan(\u001b[32mDataset.scala\u001b[39m:\u001b[32m3389\u001b[39m)\r\n  org.apache.spark.sql.Dataset.$anonfun$head$1(\u001b[32mDataset.scala\u001b[39m:\u001b[32m2550\u001b[39m)\r\n  org.apache.spark.sql.Dataset.$anonfun$withAction$2(\u001b[32mDataset.scala\u001b[39m:\u001b[32m3370\u001b[39m)\r\n  org.apache.spark.sql.execution.SQLExecution$.$anonfun$withNewExecutionId$1(\u001b[32mSQLExecution.scala\u001b[39m:\u001b[32m80\u001b[39m)\r\n  org.apache.spark.sql.execution.SQLExecution$.withSQLConfPropagated(\u001b[32mSQLExecution.scala\u001b[39m:\u001b[32m127\u001b[39m)\r\n  org.apache.spark.sql.execution.SQLExecution$.withNewExecutionId(\u001b[32mSQLExecution.scala\u001b[39m:\u001b[32m75\u001b[39m)\r\n  org.apache.spark.sql.Dataset.withAction(\u001b[32mDataset.scala\u001b[39m:\u001b[32m3370\u001b[39m)\r\n  org.apache.spark.sql.Dataset.head(\u001b[32mDataset.scala\u001b[39m:\u001b[32m2550\u001b[39m)\r\n  org.apache.spark.sql.Dataset.take(\u001b[32mDataset.scala\u001b[39m:\u001b[32m2764\u001b[39m)\r\n  org.apache.spark.sql.Dataset.getRows(\u001b[32mDataset.scala\u001b[39m:\u001b[32m254\u001b[39m)\r\n  org.apache.spark.sql.Dataset.showString(\u001b[32mDataset.scala\u001b[39m:\u001b[32m291\u001b[39m)\r\n  org.apache.spark.sql.Dataset.show(\u001b[32mDataset.scala\u001b[39m:\u001b[32m751\u001b[39m)\r\n  org.apache.spark.sql.Dataset.show(\u001b[32mDataset.scala\u001b[39m:\u001b[32m710\u001b[39m)\r\n  org.apache.spark.sql.Dataset.show(\u001b[32mDataset.scala\u001b[39m:\u001b[32m719\u001b[39m)\r\n  ammonite.$sess.cmd9$Helper.<init>(\u001b[32mcmd9.sc\u001b[39m:\u001b[32m3\u001b[39m)\r\n  ammonite.$sess.cmd9$.<init>(\u001b[32mcmd9.sc\u001b[39m:\u001b[32m7\u001b[39m)\r\n  ammonite.$sess.cmd9$.<clinit>(\u001b[32mcmd9.sc\u001b[39m:\u001b[32m-1\u001b[39m)\r\n\u001b[31mjava.lang.IllegalStateException: Cannot call methods on a stopped SparkContext.\nThis stopped SparkContext was created at:\n\norg.apache.spark.sql.almondinternals.NotebookSparkSessionBuilder.getOrCreate(NotebookSparkSessionBuilder.scala:62)\nammonite.$sess.cmd2$Helper.<init>(cmd2.sc:7)\nammonite.$sess.cmd2$.<init>(cmd2.sc:7)\nammonite.$sess.cmd2$.<clinit>(cmd2.sc)\nammonite.$sess.cmd2.$main(cmd2.sc)\nsun.reflect.NativeMethodAccessorImpl.invoke0(Native Method)\nsun.reflect.NativeMethodAccessorImpl.invoke(NativeMethodAccessorImpl.java:62)\nsun.reflect.DelegatingMethodAccessorImpl.invoke(DelegatingMethodAccessorImpl.java:43)\njava.lang.reflect.Method.invoke(Method.java:498)\nammonite.runtime.Evaluator$$anon$1.$anonfun$evalMain$1(Evaluator.scala:108)\nammonite.util.Util$.withContextClassloader(Util.scala:24)\nammonite.runtime.Evaluator$$anon$1.evalMain(Evaluator.scala:90)\nammonite.runtime.Evaluator$$anon$1.$anonfun$processLine$2(Evaluator.scala:127)\nammonite.util.Catching.map(Res.scala:117)\nammonite.runtime.Evaluator$$anon$1.$anonfun$processLine$1(Evaluator.scala:121)\nammonite.util.Res$Success.flatMap(Res.scala:62)\nammonite.runtime.Evaluator$$anon$1.processLine(Evaluator.scala:120)\nammonite.interp.Interpreter.$anonfun$evaluateLine$4(Interpreter.scala:295)\nammonite.util.Res$Success.flatMap(Res.scala:62)\nammonite.interp.Interpreter.$anonfun$evaluateLine$2(Interpreter.scala:281)\n\nThe currently active SparkContext was created at:\n\n(No active SparkContext.)\n         \u001b[39m\r\n  org.apache.spark.SparkContext.assertNotStopped(\u001b[32mSparkContext.scala\u001b[39m:\u001b[32m108\u001b[39m)\r\n  org.apache.spark.SparkContext.broadcast(\u001b[32mSparkContext.scala\u001b[39m:\u001b[32m1486\u001b[39m)\r\n  org.apache.spark.sql.execution.datasources.csv.CSVFileFormat.buildReader(\u001b[32mCSVFileFormat.scala\u001b[39m:\u001b[32m103\u001b[39m)\r\n  org.apache.spark.sql.execution.datasources.FileFormat.buildReaderWithPartitionValues(\u001b[32mFileFormat.scala\u001b[39m:\u001b[32m130\u001b[39m)\r\n  org.apache.spark.sql.execution.datasources.FileFormat.buildReaderWithPartitionValues$(\u001b[32mFileFormat.scala\u001b[39m:\u001b[32m121\u001b[39m)\r\n  org.apache.spark.sql.execution.datasources.TextBasedFileFormat.buildReaderWithPartitionValues(\u001b[32mFileFormat.scala\u001b[39m:\u001b[32m165\u001b[39m)\r\n  org.apache.spark.sql.execution.FileSourceScanExec.inputRDD$lzycompute(\u001b[32mDataSourceScanExec.scala\u001b[39m:\u001b[32m316\u001b[39m)\r\n  org.apache.spark.sql.execution.FileSourceScanExec.inputRDD(\u001b[32mDataSourceScanExec.scala\u001b[39m:\u001b[32m305\u001b[39m)\r\n  org.apache.spark.sql.execution.FileSourceScanExec.inputRDDs(\u001b[32mDataSourceScanExec.scala\u001b[39m:\u001b[32m327\u001b[39m)\r\n  org.apache.spark.sql.execution.WholeStageCodegenExec.doExecute(\u001b[32mWholeStageCodegenExec.scala\u001b[39m:\u001b[32m627\u001b[39m)\r\n  org.apache.spark.sql.execution.SparkPlan.$anonfun$execute$1(\u001b[32mSparkPlan.scala\u001b[39m:\u001b[32m131\u001b[39m)\r\n  org.apache.spark.sql.execution.SparkPlan.$anonfun$executeQuery$1(\u001b[32mSparkPlan.scala\u001b[39m:\u001b[32m155\u001b[39m)\r\n  org.apache.spark.rdd.RDDOperationScope$.withScope(\u001b[32mRDDOperationScope.scala\u001b[39m:\u001b[32m151\u001b[39m)\r\n  org.apache.spark.sql.execution.SparkPlan.executeQuery(\u001b[32mSparkPlan.scala\u001b[39m:\u001b[32m152\u001b[39m)\r\n  org.apache.spark.sql.execution.SparkPlan.execute(\u001b[32mSparkPlan.scala\u001b[39m:\u001b[32m127\u001b[39m)\r\n  org.apache.spark.sql.execution.UnionExec.$anonfun$doExecute$5(\u001b[32mbasicPhysicalOperators.scala\u001b[39m:\u001b[32m590\u001b[39m)\r\n  scala.collection.TraversableLike.$anonfun$map$1(\u001b[32mTraversableLike.scala\u001b[39m:\u001b[32m273\u001b[39m)\r\n  scala.collection.mutable.ResizableArray.foreach(\u001b[32mResizableArray.scala\u001b[39m:\u001b[32m62\u001b[39m)\r\n  scala.collection.mutable.ResizableArray.foreach$(\u001b[32mResizableArray.scala\u001b[39m:\u001b[32m55\u001b[39m)\r\n  scala.collection.mutable.ArrayBuffer.foreach(\u001b[32mArrayBuffer.scala\u001b[39m:\u001b[32m49\u001b[39m)\r\n  scala.collection.TraversableLike.map(\u001b[32mTraversableLike.scala\u001b[39m:\u001b[32m273\u001b[39m)\r\n  scala.collection.TraversableLike.map$(\u001b[32mTraversableLike.scala\u001b[39m:\u001b[32m266\u001b[39m)\r\n  scala.collection.AbstractTraversable.map(\u001b[32mTraversable.scala\u001b[39m:\u001b[32m108\u001b[39m)\r\n  org.apache.spark.sql.execution.UnionExec.doExecute(\u001b[32mbasicPhysicalOperators.scala\u001b[39m:\u001b[32m590\u001b[39m)\r\n  org.apache.spark.sql.execution.SparkPlan.$anonfun$execute$1(\u001b[32mSparkPlan.scala\u001b[39m:\u001b[32m131\u001b[39m)\r\n  org.apache.spark.sql.execution.SparkPlan.$anonfun$executeQuery$1(\u001b[32mSparkPlan.scala\u001b[39m:\u001b[32m155\u001b[39m)\r\n  org.apache.spark.rdd.RDDOperationScope$.withScope(\u001b[32mRDDOperationScope.scala\u001b[39m:\u001b[32m151\u001b[39m)\r\n  org.apache.spark.sql.execution.SparkPlan.executeQuery(\u001b[32mSparkPlan.scala\u001b[39m:\u001b[32m152\u001b[39m)\r\n  org.apache.spark.sql.execution.SparkPlan.execute(\u001b[32mSparkPlan.scala\u001b[39m:\u001b[32m127\u001b[39m)\r\n  org.apache.spark.sql.execution.InputAdapter.inputRDDs(\u001b[32mWholeStageCodegenExec.scala\u001b[39m:\u001b[32m391\u001b[39m)\r\n  org.apache.spark.sql.execution.aggregate.HashAggregateExec.inputRDDs(\u001b[32mHashAggregateExec.scala\u001b[39m:\u001b[32m151\u001b[39m)\r\n  org.apache.spark.sql.execution.WholeStageCodegenExec.doExecute(\u001b[32mWholeStageCodegenExec.scala\u001b[39m:\u001b[32m627\u001b[39m)\r\n  org.apache.spark.sql.execution.SparkPlan.$anonfun$execute$1(\u001b[32mSparkPlan.scala\u001b[39m:\u001b[32m131\u001b[39m)\r\n  org.apache.spark.sql.execution.SparkPlan.$anonfun$executeQuery$1(\u001b[32mSparkPlan.scala\u001b[39m:\u001b[32m155\u001b[39m)\r\n  org.apache.spark.rdd.RDDOperationScope$.withScope(\u001b[32mRDDOperationScope.scala\u001b[39m:\u001b[32m151\u001b[39m)\r\n  org.apache.spark.sql.execution.SparkPlan.executeQuery(\u001b[32mSparkPlan.scala\u001b[39m:\u001b[32m152\u001b[39m)\r\n  org.apache.spark.sql.execution.SparkPlan.execute(\u001b[32mSparkPlan.scala\u001b[39m:\u001b[32m127\u001b[39m)\r\n  org.apache.spark.sql.execution.exchange.ShuffleExchangeExec.prepareShuffleDependency(\u001b[32mShuffleExchangeExec.scala\u001b[39m:\u001b[32m92\u001b[39m)\r\n  org.apache.spark.sql.execution.exchange.ShuffleExchangeExec.$anonfun$doExecute$1(\u001b[32mShuffleExchangeExec.scala\u001b[39m:\u001b[32m128\u001b[39m)\r\n  org.apache.spark.sql.catalyst.errors.package$.attachTree(\u001b[32mpackage.scala\u001b[39m:\u001b[32m52\u001b[39m)\r\n  org.apache.spark.sql.execution.exchange.ShuffleExchangeExec.doExecute(\u001b[32mShuffleExchangeExec.scala\u001b[39m:\u001b[32m119\u001b[39m)\r\n  org.apache.spark.sql.execution.SparkPlan.$anonfun$execute$1(\u001b[32mSparkPlan.scala\u001b[39m:\u001b[32m131\u001b[39m)\r\n  org.apache.spark.sql.execution.SparkPlan.$anonfun$executeQuery$1(\u001b[32mSparkPlan.scala\u001b[39m:\u001b[32m155\u001b[39m)\r\n  org.apache.spark.rdd.RDDOperationScope$.withScope(\u001b[32mRDDOperationScope.scala\u001b[39m:\u001b[32m151\u001b[39m)\r\n  org.apache.spark.sql.execution.SparkPlan.executeQuery(\u001b[32mSparkPlan.scala\u001b[39m:\u001b[32m152\u001b[39m)\r\n  org.apache.spark.sql.execution.SparkPlan.execute(\u001b[32mSparkPlan.scala\u001b[39m:\u001b[32m127\u001b[39m)\r\n  org.apache.spark.sql.execution.InputAdapter.inputRDDs(\u001b[32mWholeStageCodegenExec.scala\u001b[39m:\u001b[32m391\u001b[39m)\r\n  org.apache.spark.sql.execution.aggregate.HashAggregateExec.inputRDDs(\u001b[32mHashAggregateExec.scala\u001b[39m:\u001b[32m151\u001b[39m)\r\n  org.apache.spark.sql.execution.WholeStageCodegenExec.doExecute(\u001b[32mWholeStageCodegenExec.scala\u001b[39m:\u001b[32m627\u001b[39m)\r\n  org.apache.spark.sql.execution.SparkPlan.$anonfun$execute$1(\u001b[32mSparkPlan.scala\u001b[39m:\u001b[32m131\u001b[39m)\r\n  org.apache.spark.sql.execution.SparkPlan.$anonfun$executeQuery$1(\u001b[32mSparkPlan.scala\u001b[39m:\u001b[32m155\u001b[39m)\r\n  org.apache.spark.rdd.RDDOperationScope$.withScope(\u001b[32mRDDOperationScope.scala\u001b[39m:\u001b[32m151\u001b[39m)\r\n  org.apache.spark.sql.execution.SparkPlan.executeQuery(\u001b[32mSparkPlan.scala\u001b[39m:\u001b[32m152\u001b[39m)\r\n  org.apache.spark.sql.execution.SparkPlan.execute(\u001b[32mSparkPlan.scala\u001b[39m:\u001b[32m127\u001b[39m)\r\n  org.apache.spark.sql.execution.TakeOrderedAndProjectExec.executeCollect(\u001b[32mlimit.scala\u001b[39m:\u001b[32m136\u001b[39m)\r\n  org.apache.spark.sql.Dataset.collectFromPlan(\u001b[32mDataset.scala\u001b[39m:\u001b[32m3389\u001b[39m)\r\n  org.apache.spark.sql.Dataset.$anonfun$head$1(\u001b[32mDataset.scala\u001b[39m:\u001b[32m2550\u001b[39m)\r\n  org.apache.spark.sql.Dataset.$anonfun$withAction$2(\u001b[32mDataset.scala\u001b[39m:\u001b[32m3370\u001b[39m)\r\n  org.apache.spark.sql.execution.SQLExecution$.$anonfun$withNewExecutionId$1(\u001b[32mSQLExecution.scala\u001b[39m:\u001b[32m80\u001b[39m)\r\n  org.apache.spark.sql.execution.SQLExecution$.withSQLConfPropagated(\u001b[32mSQLExecution.scala\u001b[39m:\u001b[32m127\u001b[39m)\r\n  org.apache.spark.sql.execution.SQLExecution$.withNewExecutionId(\u001b[32mSQLExecution.scala\u001b[39m:\u001b[32m75\u001b[39m)\r\n  org.apache.spark.sql.Dataset.withAction(\u001b[32mDataset.scala\u001b[39m:\u001b[32m3370\u001b[39m)\r\n  org.apache.spark.sql.Dataset.head(\u001b[32mDataset.scala\u001b[39m:\u001b[32m2550\u001b[39m)\r\n  org.apache.spark.sql.Dataset.take(\u001b[32mDataset.scala\u001b[39m:\u001b[32m2764\u001b[39m)\r\n  org.apache.spark.sql.Dataset.getRows(\u001b[32mDataset.scala\u001b[39m:\u001b[32m254\u001b[39m)\r\n  org.apache.spark.sql.Dataset.showString(\u001b[32mDataset.scala\u001b[39m:\u001b[32m291\u001b[39m)\r\n  org.apache.spark.sql.Dataset.show(\u001b[32mDataset.scala\u001b[39m:\u001b[32m751\u001b[39m)\r\n  org.apache.spark.sql.Dataset.show(\u001b[32mDataset.scala\u001b[39m:\u001b[32m710\u001b[39m)\r\n  org.apache.spark.sql.Dataset.show(\u001b[32mDataset.scala\u001b[39m:\u001b[32m719\u001b[39m)\r\n  ammonite.$sess.cmd9$Helper.<init>(\u001b[32mcmd9.sc\u001b[39m:\u001b[32m3\u001b[39m)\r\n  ammonite.$sess.cmd9$.<init>(\u001b[32mcmd9.sc\u001b[39m:\u001b[32m7\u001b[39m)\r\n  ammonite.$sess.cmd9$.<clinit>(\u001b[32mcmd9.sc\u001b[39m:\u001b[32m-1\u001b[39m)"
     ]
    }
   ],
   "source": [
    "val resultDf= annualDf.groupBy(\"Order ID\").count().orderBy(col(\"count\").desc)\n",
    "                                   \n",
    " resultDf.show()"
   ]
  },
  {
   "cell_type": "code",
   "execution_count": null,
   "id": "4c24849e",
   "metadata": {},
   "outputs": [],
   "source": []
  },
  {
   "cell_type": "code",
   "execution_count": null,
   "id": "7b80440e",
   "metadata": {},
   "outputs": [],
   "source": []
  },
  {
   "cell_type": "code",
   "execution_count": null,
   "id": "a8346f22",
   "metadata": {},
   "outputs": [],
   "source": [
    "val fireSchema = StructType(Array(StructField(\"Order ID\", StringType),\n",
    "                 StructField(\"Product\", StringType, true),\n",
    "                 StructField(\"Quantity Ordered\", IntegerType, true),\n",
    "                 StructField(\"Price Each\", FloatType, true),\n",
    "                 StructField(\"Order Date\", StringType, true),\n",
    "                 StructField(\"Purchase Address\", StringType, true),\n",
    "))\n",
    "\n",
    "var annualDf:DataFrame=null\n",
    "\n",
    "def loadCsvFile(fileName: String): DataFrame = {\n",
    "    val pathName=\"csv/Sales_\"+fileName+\"_2019.csv\"\n",
    "  val df = sparkSession.read\n",
    "    .format(\"csv\")\n",
    "    .option(\"header\", \"true\")\n",
    "    .option(\"delimiter\", \",\")\n",
    "    .schema(fireSchema)\n",
    "    .load(pathName)\n",
    "\n",
    "  df\n",
    "}\n",
    "var dataframes: List[DataFrame]=List()\n",
    "val months = List(\"January\", \"February\", \"March\", \"April\", \"May\", \"June\", \"July\", \"August\", \"September\", \"October\", \"November\", \"December\")\n",
    "var i=0\n",
    "months.foreach{(month)=>\n",
    "           val df=loadCsvFile(month)\n",
    "//            dataframes=df::dataframes\n",
    "            if(annualDf==null) annualDf = df  else annualDf=annualDf.union(df)\n",
    "    print(month)\n",
    "}\n",
    "\n"
   ]
  },
  {
   "cell_type": "code",
   "execution_count": null,
   "id": "5777bb88",
   "metadata": {},
   "outputs": [],
   "source": [
    "val newdf=annualDf.filter(col(\"Order ID\")===160873)\n",
    "newdf.show()"
   ]
  },
  {
   "cell_type": "code",
   "execution_count": null,
   "id": "15bf060c",
   "metadata": {},
   "outputs": [],
   "source": [
    "val transactionsDF = annualDf.groupBy(\"Order ID\").agg(collect_list(\"Product\").as(\"produits\"))\n",
    "\n",
    "transactionsDF.show()"
   ]
  },
  {
   "cell_type": "code",
   "execution_count": null,
   "id": "7ac1a06e",
   "metadata": {},
   "outputs": [],
   "source": [
    "// Explode the list of products to create individual rows for each product in a transaction\n",
    "val explodedDF = transactionsDF.withColumn(\"product\", explode(col(\"produits\")))\n",
    "\n",
    "// Self-join the DataFrame to create pairs of products within each transaction\n",
    "val productPairsDF = explodedDF.alias(\"df1\")\n",
    "  .join(explodedDF.alias(\"df2\"), col(\"df1.Order ID\") === col(\"df2.Order ID\") && col(\"df1.product\") < col(\"df2.product\"))\n",
    "  .select(col(\"df1.product\").as(\"product1\"), col(\"df2.product\").as(\"product2\"))\n",
    "\n",
    "// Count the occurrences of each product pair\n",
    "val productPairCountsDF = productPairsDF.groupBy(\"product1\", \"product2\")\n",
    "  .count()\n",
    "  .orderBy(desc(\"count\"))\n",
    "\n",
    "// Show the products most frequently sold together\n",
    "productPairCountsDF.show()"
   ]
  },
  {
   "cell_type": "code",
   "execution_count": null,
   "id": "6e0c96a1",
   "metadata": {},
   "outputs": [],
   "source": [
    "val mostOrderedProduct= annualDf.groupBy(\"Product\").count().orderBy(col(\"count\").desc)\n",
    "// val productNumber= annualDf.groupBy(\"Product\").count().orderBy(col(\"count\").desc)\n",
    "resultDf.show(5)"
   ]
  },
  {
   "cell_type": "code",
   "execution_count": null,
   "id": "b56b217c",
   "metadata": {},
   "outputs": [],
   "source": [
    "val usbCount=annualDf.filter(col(\"Product\")===\"USB-C Charging Cable\").count().toDouble\n",
    "val totalProducts=annualDf.count().toDouble\n",
    "val probabUsbC=(usbCount/totalProducts).toDouble\n",
    "print(probabUsbC)"
   ]
  },
  {
   "cell_type": "code",
   "execution_count": null,
   "id": "0c457ab9",
   "metadata": {},
   "outputs": [],
   "source": [
    "val iphoneCount=annualDf.filter(col(\"Product\")===\"iPhone\").count().toDouble\n",
    "val probabIphone=(iphoneCount/totalProducts).toDouble\n",
    "print(probabIphone)"
   ]
  },
  {
   "cell_type": "code",
   "execution_count": null,
   "id": "c17f78c3",
   "metadata": {},
   "outputs": [],
   "source": [
    "val googlePhoneCount=annualDf.filter(col(\"Product\")===\"Google Phone\").count().toDouble\n",
    "val probabGooglePhone=(googlePhoneCount/totalProducts).toDouble\n",
    "print(probabGooglePhone)"
   ]
  },
  {
   "cell_type": "code",
   "execution_count": null,
   "id": "394dafd0",
   "metadata": {},
   "outputs": [],
   "source": [
    "val wiredHeadPhonesCount=annualDf.filter(col(\"Product\")===\"Wired Headphones\").count().toDouble\n",
    "val probabWiredHeadPhones=(wiredHeadPhonesCount/totalProducts).toDouble\n",
    "print(probabWiredHeadPhones)"
   ]
  },
  {
   "cell_type": "code",
   "execution_count": null,
   "id": "c555f6d6",
   "metadata": {},
   "outputs": [],
   "source": [
    "val prices= annualDf.groupBy(\"Price Each\").count().orderBy(col(\"count\").desc)\n",
    "prices.show()"
   ]
  },
  {
   "cell_type": "code",
   "execution_count": null,
   "id": "7141bbec",
   "metadata": {},
   "outputs": [],
   "source": [
    "annualDf.summary().show()"
   ]
  },
  {
   "cell_type": "code",
   "execution_count": null,
   "id": "9c4d0779",
   "metadata": {},
   "outputs": [],
   "source": [
    "val df=annualDf.columns.map(c => (c, annualDf.filter(col(c).isNull || col(c).isNaN).count()))\n",
    "    .filter(_._2 > 0)\n",
    "print(df)"
   ]
  },
  {
   "cell_type": "code",
   "execution_count": null,
   "id": "e2417dc2",
   "metadata": {},
   "outputs": [],
   "source": [
    "val nullVal=annualDf.count()\n",
    "print(nullVal)"
   ]
  },
  {
   "cell_type": "code",
   "execution_count": null,
   "id": "1abdb714",
   "metadata": {},
   "outputs": [
    {
     "data": {
      "text/html": [
       "<div>\n",
       "  <span style=\"float: left; word-wrap: normal; white-space: nowrap; text-align: center\">count at cmd77.sc:2</span>\n",
       "  <span style=\"float: right; word-wrap: normal; white-space: nowrap; text-align: center\"><a href=\"#\" onclick=\"cancelStage(214);\">(kill)</a></span>\n",
       "</div>\n",
       "<br>\n"
      ]
     },
     "metadata": {},
     "output_type": "display_data"
    },
    {
     "data": {
      "text/html": [
       "<div class=\"progress\">\n",
       "  <div class=\"progress-bar\" role=\"progressbar\" style=\"background-color: blue; width: 83%; word-wrap: normal; white-space: nowrap; text-align: center; color: white\" aria-valuenow=\"83\" aria-valuemin=\"0\" aria-valuemax=\"100\">\n",
       "    10 + 2 / 12\n",
       "  </div>\n",
       "  <div class=\"progress-bar\" role=\"progressbar\" style=\"background-color: red; width: 17%\" aria-valuenow=\"17\" aria-valuemin=\"0\" aria-valuemax=\"100\"></div>\n",
       "</div>\n"
      ]
     },
     "metadata": {},
     "output_type": "display_data"
    }
   ],
   "source": [
    "val newData=annualDf.filter(month(to_timestamp(col(\"Order Date\"),\"MM/dd/yyyy\")).isNotNull)\n",
    "print(newData.count())\n",
    "val MonthLyData=newData.groupBy(month(to_timestamp(col(\"Order Date\"),\"MM/dd/yyyy\")).alias(\"month\")).agg(sum(col(\"Price Each\") * col(\"Quantity Ordered\")).alias(\"salesAmount\")).orderBy(col(\"month\"))\n",
    "MonthLyData.show()"
   ]
  },
  {
   "cell_type": "code",
   "execution_count": 52,
   "id": "db1842af",
   "metadata": {},
   "outputs": [
    {
     "data": {
      "text/plain": [
       "\u001b[32mimport \u001b[39m\u001b[36morg.apache.spark.ml.feature.VectorAssembler\n",
       "\u001b[39m\r\n",
       "\u001b[32mimport \u001b[39m\u001b[36morg.apache.spark.ml.regression.LinearRegression\n",
       "\n",
       "// Préparer les données pour l'entraînement du modèle de régression linéaire\n",
       "\u001b[39m\r\n",
       "\u001b[36massembler\u001b[39m: \u001b[32mVectorAssembler\u001b[39m = vecAssembler_85c13b4fe06d\r\n",
       "\u001b[36massembledData\u001b[39m: \u001b[32mDataFrame\u001b[39m = [month: int, count: bigint ... 1 more field]"
      ]
     },
     "execution_count": 52,
     "metadata": {},
     "output_type": "execute_result"
    }
   ],
   "source": [
    "import org.apache.spark.ml.feature.VectorAssembler\n",
    "import org.apache.spark.ml.regression.LinearRegression\n",
    "\n",
    "// Préparer les données pour l'entraînement du modèle de régression linéaire\n",
    "val assembler = new VectorAssembler()\n",
    "  .setInputCols(Array(\"month\"))\n",
    "  .setOutputCol(\"features\")\n",
    "val assembledData = assembler.transform(MonthLyData)\n"
   ]
  },
  {
   "cell_type": "code",
   "execution_count": 53,
   "id": "4d40225a",
   "metadata": {},
   "outputs": [
    {
     "data": {
      "text/html": [
       "<div>\n",
       "  <span style=\"float: left;\">first at LinearRegression.scala:322</span>\n",
       "</div>\n"
      ]
     },
     "metadata": {},
     "output_type": "display_data"
    },
    {
     "data": {
      "text/html": [
       "<div class=\"progress\">\n",
       "  <div class=\"progress-bar\" role=\"progressbar\" style=\"background-color: blue; width: 100%; word-wrap: normal; white-space: nowrap; text-align: center; color: white\" aria-valuenow=\"100\" aria-valuemin=\"0\" aria-valuemax=\"100\">\n",
       "    12 / 12\n",
       "  </div>\n",
       "  <div class=\"progress-bar\" role=\"progressbar\" style=\"background-color: red; width: 0%\" aria-valuenow=\"0\" aria-valuemin=\"0\" aria-valuemax=\"100\"></div>\n",
       "</div>\n"
      ]
     },
     "metadata": {},
     "output_type": "display_data"
    },
    {
     "data": {
      "text/html": [
       "<div>\n",
       "  <span style=\"float: left;\">first at LinearRegression.scala:322</span>\n",
       "</div>\n"
      ]
     },
     "metadata": {},
     "output_type": "display_data"
    },
    {
     "data": {
      "text/html": [
       "<div class=\"progress\">\n",
       "  <div class=\"progress-bar\" role=\"progressbar\" style=\"background-color: blue; width: 100%; word-wrap: normal; white-space: nowrap; text-align: center; color: white\" aria-valuenow=\"100\" aria-valuemin=\"0\" aria-valuemax=\"100\">\n",
       "    200 / 200\n",
       "  </div>\n",
       "  <div class=\"progress-bar\" role=\"progressbar\" style=\"background-color: red; width: 0%\" aria-valuenow=\"0\" aria-valuemin=\"0\" aria-valuemax=\"100\"></div>\n",
       "</div>\n"
      ]
     },
     "metadata": {},
     "output_type": "display_data"
    },
    {
     "data": {
      "text/html": [
       "<div>\n",
       "  <span style=\"float: left;\">rdd at LinearRegression.scala:326</span>\n",
       "</div>\n"
      ]
     },
     "metadata": {},
     "output_type": "display_data"
    },
    {
     "data": {
      "text/html": [
       "<div class=\"progress\">\n",
       "  <div class=\"progress-bar\" role=\"progressbar\" style=\"background-color: blue; width: 100%; word-wrap: normal; white-space: nowrap; text-align: center; color: white\" aria-valuenow=\"100\" aria-valuemin=\"0\" aria-valuemax=\"100\">\n",
       "    12 / 12\n",
       "  </div>\n",
       "  <div class=\"progress-bar\" role=\"progressbar\" style=\"background-color: red; width: 0%\" aria-valuenow=\"0\" aria-valuemin=\"0\" aria-valuemax=\"100\"></div>\n",
       "</div>\n"
      ]
     },
     "metadata": {},
     "output_type": "display_data"
    },
    {
     "data": {
      "text/html": [
       "<div>\n",
       "  <span style=\"float: left;\">rdd at LinearRegression.scala:326</span>\n",
       "</div>\n"
      ]
     },
     "metadata": {},
     "output_type": "display_data"
    },
    {
     "data": {
      "text/html": [
       "<div class=\"progress\">\n",
       "  <div class=\"progress-bar\" role=\"progressbar\" style=\"background-color: blue; width: 100%; word-wrap: normal; white-space: nowrap; text-align: center; color: white\" aria-valuenow=\"100\" aria-valuemin=\"0\" aria-valuemax=\"100\">\n",
       "    200 / 200\n",
       "  </div>\n",
       "  <div class=\"progress-bar\" role=\"progressbar\" style=\"background-color: red; width: 0%\" aria-valuenow=\"0\" aria-valuemin=\"0\" aria-valuemax=\"100\"></div>\n",
       "</div>\n"
      ]
     },
     "metadata": {},
     "output_type": "display_data"
    },
    {
     "data": {
      "text/html": [
       "<div>\n",
       "  <span style=\"float: left;\">rdd at Instrumentation.scala:61</span>\n",
       "</div>\n"
      ]
     },
     "metadata": {},
     "output_type": "display_data"
    },
    {
     "data": {
      "text/html": [
       "<div class=\"progress\">\n",
       "  <div class=\"progress-bar\" role=\"progressbar\" style=\"background-color: blue; width: 100%; word-wrap: normal; white-space: nowrap; text-align: center; color: white\" aria-valuenow=\"100\" aria-valuemin=\"0\" aria-valuemax=\"100\">\n",
       "    12 / 12\n",
       "  </div>\n",
       "  <div class=\"progress-bar\" role=\"progressbar\" style=\"background-color: red; width: 0%\" aria-valuenow=\"0\" aria-valuemin=\"0\" aria-valuemax=\"100\"></div>\n",
       "</div>\n"
      ]
     },
     "metadata": {},
     "output_type": "display_data"
    },
    {
     "data": {
      "text/html": [
       "<div>\n",
       "  <span style=\"float: left;\">rdd at Instrumentation.scala:61</span>\n",
       "</div>\n"
      ]
     },
     "metadata": {},
     "output_type": "display_data"
    },
    {
     "data": {
      "text/html": [
       "<div class=\"progress\">\n",
       "  <div class=\"progress-bar\" role=\"progressbar\" style=\"background-color: blue; width: 100%; word-wrap: normal; white-space: nowrap; text-align: center; color: white\" aria-valuenow=\"100\" aria-valuemin=\"0\" aria-valuemax=\"100\">\n",
       "    200 / 200\n",
       "  </div>\n",
       "  <div class=\"progress-bar\" role=\"progressbar\" style=\"background-color: red; width: 0%\" aria-valuenow=\"0\" aria-valuemin=\"0\" aria-valuemax=\"100\"></div>\n",
       "</div>\n"
      ]
     },
     "metadata": {},
     "output_type": "display_data"
    },
    {
     "name": "stderr",
     "output_type": "stream",
     "text": [
      "23/05/25 18:37:28 WARN Instrumentation: [e0c00805] regParam is zero, which might cause numerical instability and overfitting.\r\n"
     ]
    },
    {
     "data": {
      "text/html": [
       "<div>\n",
       "  <span style=\"float: left;\">rdd at LinearRegression.scala:326</span>\n",
       "</div>\n"
      ]
     },
     "metadata": {},
     "output_type": "display_data"
    },
    {
     "data": {
      "text/html": [
       "<div class=\"progress\">\n",
       "  <div class=\"progress-bar\" role=\"progressbar\" style=\"background-color: blue; width: 100%; word-wrap: normal; white-space: nowrap; text-align: center; color: white\" aria-valuenow=\"100\" aria-valuemin=\"0\" aria-valuemax=\"100\">\n",
       "    200 / 200\n",
       "  </div>\n",
       "  <div class=\"progress-bar\" role=\"progressbar\" style=\"background-color: red; width: 0%\" aria-valuenow=\"0\" aria-valuemin=\"0\" aria-valuemax=\"100\"></div>\n",
       "</div>\n"
      ]
     },
     "metadata": {},
     "output_type": "display_data"
    },
    {
     "data": {
      "text/html": [
       "<div>\n",
       "  <span style=\"float: left;\">treeAggregate at WeightedLeastSquares.scala:105</span>\n",
       "</div>\n"
      ]
     },
     "metadata": {},
     "output_type": "display_data"
    },
    {
     "data": {
      "text/html": [
       "<div class=\"progress\">\n",
       "  <div class=\"progress-bar\" role=\"progressbar\" style=\"background-color: blue; width: 100%; word-wrap: normal; white-space: nowrap; text-align: center; color: white\" aria-valuenow=\"100\" aria-valuemin=\"0\" aria-valuemax=\"100\">\n",
       "    12 / 12\n",
       "  </div>\n",
       "  <div class=\"progress-bar\" role=\"progressbar\" style=\"background-color: red; width: 0%\" aria-valuenow=\"0\" aria-valuemin=\"0\" aria-valuemax=\"100\"></div>\n",
       "</div>\n"
      ]
     },
     "metadata": {},
     "output_type": "display_data"
    },
    {
     "data": {
      "text/html": [
       "<div>\n",
       "  <span style=\"float: left;\">treeAggregate at WeightedLeastSquares.scala:105</span>\n",
       "</div>\n"
      ]
     },
     "metadata": {},
     "output_type": "display_data"
    },
    {
     "data": {
      "text/html": [
       "<div class=\"progress\">\n",
       "  <div class=\"progress-bar\" role=\"progressbar\" style=\"background-color: blue; width: 100%; word-wrap: normal; white-space: nowrap; text-align: center; color: white\" aria-valuenow=\"100\" aria-valuemin=\"0\" aria-valuemax=\"100\">\n",
       "    3 / 3\n",
       "  </div>\n",
       "  <div class=\"progress-bar\" role=\"progressbar\" style=\"background-color: red; width: 0%\" aria-valuenow=\"0\" aria-valuemin=\"0\" aria-valuemax=\"100\"></div>\n",
       "</div>\n"
      ]
     },
     "metadata": {},
     "output_type": "display_data"
    },
    {
     "data": {
      "text/html": [
       "<div>\n",
       "  <span style=\"float: left;\">rdd at LinearRegression.scala:872</span>\n",
       "</div>\n"
      ]
     },
     "metadata": {},
     "output_type": "display_data"
    },
    {
     "data": {
      "text/html": [
       "<div class=\"progress\">\n",
       "  <div class=\"progress-bar\" role=\"progressbar\" style=\"background-color: blue; width: 100%; word-wrap: normal; white-space: nowrap; text-align: center; color: white\" aria-valuenow=\"100\" aria-valuemin=\"0\" aria-valuemax=\"100\">\n",
       "    12 / 12\n",
       "  </div>\n",
       "  <div class=\"progress-bar\" role=\"progressbar\" style=\"background-color: red; width: 0%\" aria-valuenow=\"0\" aria-valuemin=\"0\" aria-valuemax=\"100\"></div>\n",
       "</div>\n"
      ]
     },
     "metadata": {},
     "output_type": "display_data"
    },
    {
     "data": {
      "text/html": [
       "<div>\n",
       "  <span style=\"float: left;\">rdd at LinearRegression.scala:872</span>\n",
       "</div>\n"
      ]
     },
     "metadata": {},
     "output_type": "display_data"
    },
    {
     "data": {
      "text/html": [
       "<div class=\"progress\">\n",
       "  <div class=\"progress-bar\" role=\"progressbar\" style=\"background-color: blue; width: 100%; word-wrap: normal; white-space: nowrap; text-align: center; color: white\" aria-valuenow=\"100\" aria-valuemin=\"0\" aria-valuemax=\"100\">\n",
       "    200 / 200\n",
       "  </div>\n",
       "  <div class=\"progress-bar\" role=\"progressbar\" style=\"background-color: red; width: 0%\" aria-valuenow=\"0\" aria-valuemin=\"0\" aria-valuemax=\"100\"></div>\n",
       "</div>\n"
      ]
     },
     "metadata": {},
     "output_type": "display_data"
    },
    {
     "data": {
      "text/html": [
       "<div>\n",
       "  <span style=\"float: left;\">rdd at LinearRegression.scala:872</span>\n",
       "</div>\n"
      ]
     },
     "metadata": {},
     "output_type": "display_data"
    },
    {
     "data": {
      "text/html": [
       "<div class=\"progress\">\n",
       "  <div class=\"progress-bar\" role=\"progressbar\" style=\"background-color: blue; width: 100%; word-wrap: normal; white-space: nowrap; text-align: center; color: white\" aria-valuenow=\"100\" aria-valuemin=\"0\" aria-valuemax=\"100\">\n",
       "    200 / 200\n",
       "  </div>\n",
       "  <div class=\"progress-bar\" role=\"progressbar\" style=\"background-color: red; width: 0%\" aria-valuenow=\"0\" aria-valuemin=\"0\" aria-valuemax=\"100\"></div>\n",
       "</div>\n"
      ]
     },
     "metadata": {},
     "output_type": "display_data"
    },
    {
     "data": {
      "text/html": [
       "<div>\n",
       "  <span style=\"float: left;\">treeAggregate at RegressionMetrics.scala:57</span>\n",
       "</div>\n"
      ]
     },
     "metadata": {},
     "output_type": "display_data"
    },
    {
     "data": {
      "text/html": [
       "<div class=\"progress\">\n",
       "  <div class=\"progress-bar\" role=\"progressbar\" style=\"background-color: blue; width: 100%; word-wrap: normal; white-space: nowrap; text-align: center; color: white\" aria-valuenow=\"100\" aria-valuemin=\"0\" aria-valuemax=\"100\">\n",
       "    12 / 12\n",
       "  </div>\n",
       "  <div class=\"progress-bar\" role=\"progressbar\" style=\"background-color: red; width: 0%\" aria-valuenow=\"0\" aria-valuemin=\"0\" aria-valuemax=\"100\"></div>\n",
       "</div>\n"
      ]
     },
     "metadata": {},
     "output_type": "display_data"
    },
    {
     "data": {
      "text/html": [
       "<div>\n",
       "  <span style=\"float: left;\">treeAggregate at RegressionMetrics.scala:57</span>\n",
       "</div>\n"
      ]
     },
     "metadata": {},
     "output_type": "display_data"
    },
    {
     "data": {
      "text/html": [
       "<div class=\"progress\">\n",
       "  <div class=\"progress-bar\" role=\"progressbar\" style=\"background-color: blue; width: 100%; word-wrap: normal; white-space: nowrap; text-align: center; color: white\" aria-valuenow=\"100\" aria-valuemin=\"0\" aria-valuemax=\"100\">\n",
       "    3 / 3\n",
       "  </div>\n",
       "  <div class=\"progress-bar\" role=\"progressbar\" style=\"background-color: red; width: 0%\" aria-valuenow=\"0\" aria-valuemin=\"0\" aria-valuemax=\"100\"></div>\n",
       "</div>\n"
      ]
     },
     "metadata": {},
     "output_type": "display_data"
    },
    {
     "data": {
      "text/html": [
       "<div>\n",
       "  <span style=\"float: left;\">sum at RegressionMetrics.scala:69</span>\n",
       "</div>\n"
      ]
     },
     "metadata": {},
     "output_type": "display_data"
    },
    {
     "data": {
      "text/html": [
       "<div class=\"progress\">\n",
       "  <div class=\"progress-bar\" role=\"progressbar\" style=\"background-color: blue; width: 100%; word-wrap: normal; white-space: nowrap; text-align: center; color: white\" aria-valuenow=\"100\" aria-valuemin=\"0\" aria-valuemax=\"100\">\n",
       "    12 / 12\n",
       "  </div>\n",
       "  <div class=\"progress-bar\" role=\"progressbar\" style=\"background-color: red; width: 0%\" aria-valuenow=\"0\" aria-valuemin=\"0\" aria-valuemax=\"100\"></div>\n",
       "</div>\n"
      ]
     },
     "metadata": {},
     "output_type": "display_data"
    },
    {
     "data": {
      "text/html": [
       "<div>\n",
       "  <span style=\"float: left;\">count at LinearRegression.scala:953</span>\n",
       "</div>\n"
      ]
     },
     "metadata": {},
     "output_type": "display_data"
    },
    {
     "data": {
      "text/html": [
       "<div class=\"progress\">\n",
       "  <div class=\"progress-bar\" role=\"progressbar\" style=\"background-color: blue; width: 100%; word-wrap: normal; white-space: nowrap; text-align: center; color: white\" aria-valuenow=\"100\" aria-valuemin=\"0\" aria-valuemax=\"100\">\n",
       "    12 / 12\n",
       "  </div>\n",
       "  <div class=\"progress-bar\" role=\"progressbar\" style=\"background-color: red; width: 0%\" aria-valuenow=\"0\" aria-valuemin=\"0\" aria-valuemax=\"100\"></div>\n",
       "</div>\n"
      ]
     },
     "metadata": {},
     "output_type": "display_data"
    },
    {
     "data": {
      "text/html": [
       "<div>\n",
       "  <span style=\"float: left;\">count at LinearRegression.scala:953</span>\n",
       "</div>\n"
      ]
     },
     "metadata": {},
     "output_type": "display_data"
    },
    {
     "data": {
      "text/html": [
       "<div class=\"progress\">\n",
       "  <div class=\"progress-bar\" role=\"progressbar\" style=\"background-color: blue; width: 100%; word-wrap: normal; white-space: nowrap; text-align: center; color: white\" aria-valuenow=\"100\" aria-valuemin=\"0\" aria-valuemax=\"100\">\n",
       "    200 / 200\n",
       "  </div>\n",
       "  <div class=\"progress-bar\" role=\"progressbar\" style=\"background-color: red; width: 0%\" aria-valuenow=\"0\" aria-valuemin=\"0\" aria-valuemax=\"100\"></div>\n",
       "</div>\n"
      ]
     },
     "metadata": {},
     "output_type": "display_data"
    },
    {
     "data": {
      "text/html": [
       "<div>\n",
       "  <span style=\"float: left;\">count at LinearRegression.scala:953</span>\n",
       "</div>\n"
      ]
     },
     "metadata": {},
     "output_type": "display_data"
    },
    {
     "data": {
      "text/html": [
       "<div class=\"progress\">\n",
       "  <div class=\"progress-bar\" role=\"progressbar\" style=\"background-color: blue; width: 100%; word-wrap: normal; white-space: nowrap; text-align: center; color: white\" aria-valuenow=\"100\" aria-valuemin=\"0\" aria-valuemax=\"100\">\n",
       "    200 / 200\n",
       "  </div>\n",
       "  <div class=\"progress-bar\" role=\"progressbar\" style=\"background-color: red; width: 0%\" aria-valuenow=\"0\" aria-valuemin=\"0\" aria-valuemax=\"100\"></div>\n",
       "</div>\n"
      ]
     },
     "metadata": {},
     "output_type": "display_data"
    },
    {
     "data": {
      "text/html": [
       "<div>\n",
       "  <span style=\"float: left;\">count at LinearRegression.scala:953</span>\n",
       "</div>\n"
      ]
     },
     "metadata": {},
     "output_type": "display_data"
    },
    {
     "data": {
      "text/html": [
       "<div class=\"progress\">\n",
       "  <div class=\"progress-bar\" role=\"progressbar\" style=\"background-color: blue; width: 100%; word-wrap: normal; white-space: nowrap; text-align: center; color: white\" aria-valuenow=\"100\" aria-valuemin=\"0\" aria-valuemax=\"100\">\n",
       "    12 / 12\n",
       "  </div>\n",
       "  <div class=\"progress-bar\" role=\"progressbar\" style=\"background-color: red; width: 0%\" aria-valuenow=\"0\" aria-valuemin=\"0\" aria-valuemax=\"100\"></div>\n",
       "</div>\n"
      ]
     },
     "metadata": {},
     "output_type": "display_data"
    },
    {
     "data": {
      "text/html": [
       "<div>\n",
       "  <span style=\"float: left;\">count at LinearRegression.scala:953</span>\n",
       "</div>\n"
      ]
     },
     "metadata": {},
     "output_type": "display_data"
    },
    {
     "data": {
      "text/html": [
       "<div class=\"progress\">\n",
       "  <div class=\"progress-bar\" role=\"progressbar\" style=\"background-color: blue; width: 100%; word-wrap: normal; white-space: nowrap; text-align: center; color: white\" aria-valuenow=\"100\" aria-valuemin=\"0\" aria-valuemax=\"100\">\n",
       "    1 / 1\n",
       "  </div>\n",
       "  <div class=\"progress-bar\" role=\"progressbar\" style=\"background-color: red; width: 0%\" aria-valuenow=\"0\" aria-valuemin=\"0\" aria-valuemax=\"100\"></div>\n",
       "</div>\n"
      ]
     },
     "metadata": {},
     "output_type": "display_data"
    },
    {
     "data": {
      "text/plain": [
       "\u001b[36mlr\u001b[39m: \u001b[32mLinearRegression\u001b[39m = linReg_d99887f946c0\r\n",
       "\u001b[36mlrModel\u001b[39m: \u001b[32morg\u001b[39m.\u001b[32mapache\u001b[39m.\u001b[32mspark\u001b[39m.\u001b[32mml\u001b[39m.\u001b[32mregression\u001b[39m.\u001b[32mLinearRegressionModel\u001b[39m = linReg_d99887f946c0"
      ]
     },
     "execution_count": 53,
     "metadata": {},
     "output_type": "execute_result"
    }
   ],
   "source": [
    "// Entraîner le modèle de régression linéaire\n",
    "val lr = new LinearRegression()\n",
    "  .setLabelCol(\"salesAmount\")\n",
    "val lrModel = lr.fit(assembledData)"
   ]
  },
  {
   "cell_type": "code",
   "execution_count": 54,
   "id": "3ed2e1c5",
   "metadata": {},
   "outputs": [
    {
     "name": "stdout",
     "output_type": "stream",
     "text": [
      "Coefficients: [530.4125874125868]\n",
      "Intercept: 12048.151515151521\n"
     ]
    }
   ],
   "source": [
    "// Afficher les coefficients et l'intercept du modèle\n",
    "println(s\"Coefficients: ${lrModel.coefficients}\")\n",
    "println(s\"Intercept: ${lrModel.intercept}\")"
   ]
  },
  {
   "cell_type": "code",
   "execution_count": 55,
   "id": "23c4cf3e",
   "metadata": {},
   "outputs": [
    {
     "data": {
      "text/plain": [
       "\u001b[36mfutureMonths\u001b[39m: \u001b[32mDataFrame\u001b[39m = [month: bigint]\r\n",
       "\u001b[36mfutureData\u001b[39m: \u001b[32mDataFrame\u001b[39m = [month: bigint, features: vector]\r\n",
       "\u001b[36mpredictions\u001b[39m: \u001b[32mDataFrame\u001b[39m = [month: bigint, features: vector ... 1 more field]"
      ]
     },
     "execution_count": 55,
     "metadata": {},
     "output_type": "execute_result"
    }
   ],
   "source": [
    "// Faire des prévisions pour les prochains mois\n",
    "val futureMonths = sparkSession.range(13, 24).toDF(\"month\")\n",
    "val futureData = assembler.transform(futureMonths)\n",
    "val predictions = lrModel.transform(futureData)"
   ]
  },
  {
   "cell_type": "code",
   "execution_count": 56,
   "id": "4530b2d8",
   "metadata": {},
   "outputs": [
    {
     "data": {
      "text/html": [
       "<div>\n",
       "  <span style=\"float: left;\">show at cmd55.sc:1</span>\n",
       "</div>\n"
      ]
     },
     "metadata": {},
     "output_type": "display_data"
    },
    {
     "data": {
      "text/html": [
       "<div class=\"progress\">\n",
       "  <div class=\"progress-bar\" role=\"progressbar\" style=\"background-color: blue; width: 100%; word-wrap: normal; white-space: nowrap; text-align: center; color: white\" aria-valuenow=\"100\" aria-valuemin=\"0\" aria-valuemax=\"100\">\n",
       "    1 / 1\n",
       "  </div>\n",
       "  <div class=\"progress-bar\" role=\"progressbar\" style=\"background-color: red; width: 0%\" aria-valuenow=\"0\" aria-valuemin=\"0\" aria-valuemax=\"100\"></div>\n",
       "</div>\n"
      ]
     },
     "metadata": {},
     "output_type": "display_data"
    },
    {
     "data": {
      "text/html": [
       "<div>\n",
       "  <span style=\"float: left;\">show at cmd55.sc:1</span>\n",
       "</div>\n"
      ]
     },
     "metadata": {},
     "output_type": "display_data"
    },
    {
     "data": {
      "text/html": [
       "<div class=\"progress\">\n",
       "  <div class=\"progress-bar\" role=\"progressbar\" style=\"background-color: blue; width: 100%; word-wrap: normal; white-space: nowrap; text-align: center; color: white\" aria-valuenow=\"100\" aria-valuemin=\"0\" aria-valuemax=\"100\">\n",
       "    3 / 3\n",
       "  </div>\n",
       "  <div class=\"progress-bar\" role=\"progressbar\" style=\"background-color: red; width: 0%\" aria-valuenow=\"0\" aria-valuemin=\"0\" aria-valuemax=\"100\"></div>\n",
       "</div>\n"
      ]
     },
     "metadata": {},
     "output_type": "display_data"
    },
    {
     "name": "stdout",
     "output_type": "stream",
     "text": [
      "+-----+--------+------------------+\n",
      "|month|features|        prediction|\n",
      "+-----+--------+------------------+\n",
      "|   13|  [13.0]|18943.515151515152|\n",
      "|   14|  [14.0]|19473.927738927738|\n",
      "|   15|  [15.0]|20004.340326340323|\n",
      "|   16|  [16.0]|20534.752913752913|\n",
      "|   17|  [17.0]|  21065.1655011655|\n",
      "|   18|  [18.0]|21595.578088578084|\n",
      "|   19|  [19.0]|22125.990675990673|\n",
      "|   20|  [20.0]|22656.403263403256|\n",
      "|   21|  [21.0]|23186.815850815845|\n",
      "|   22|  [22.0]|23717.228438228434|\n",
      "|   23|  [23.0]|24247.641025641016|\n",
      "+-----+--------+------------------+\n",
      "\n"
     ]
    }
   ],
   "source": [
    "// Afficher les prévisions pour les prochains mois\n",
    "predictions.show()"
   ]
  },
  {
   "cell_type": "code",
   "execution_count": 74,
   "id": "f896510e",
   "metadata": {},
   "outputs": [
    {
     "data": {
      "text/html": [
       "<div>\n",
       "  <span style=\"float: left;\">collect at cmd73.sc:1</span>\n",
       "</div>\n"
      ]
     },
     "metadata": {},
     "output_type": "display_data"
    },
    {
     "data": {
      "text/html": [
       "<div class=\"progress\">\n",
       "  <div class=\"progress-bar\" role=\"progressbar\" style=\"background-color: blue; width: 100%; word-wrap: normal; white-space: nowrap; text-align: center; color: white\" aria-valuenow=\"100\" aria-valuemin=\"0\" aria-valuemax=\"100\">\n",
       "    12 / 12\n",
       "  </div>\n",
       "  <div class=\"progress-bar\" role=\"progressbar\" style=\"background-color: red; width: 0%\" aria-valuenow=\"0\" aria-valuemin=\"0\" aria-valuemax=\"100\"></div>\n",
       "</div>\n"
      ]
     },
     "metadata": {},
     "output_type": "display_data"
    },
    {
     "data": {
      "text/html": [
       "<div>\n",
       "  <span style=\"float: left;\">collect at cmd73.sc:2</span>\n",
       "</div>\n"
      ]
     },
     "metadata": {},
     "output_type": "display_data"
    },
    {
     "data": {
      "text/html": [
       "<div class=\"progress\">\n",
       "  <div class=\"progress-bar\" role=\"progressbar\" style=\"background-color: blue; width: 100%; word-wrap: normal; white-space: nowrap; text-align: center; color: white\" aria-valuenow=\"100\" aria-valuemin=\"0\" aria-valuemax=\"100\">\n",
       "    12 / 12\n",
       "  </div>\n",
       "  <div class=\"progress-bar\" role=\"progressbar\" style=\"background-color: red; width: 0%\" aria-valuenow=\"0\" aria-valuemin=\"0\" aria-valuemax=\"100\"></div>\n",
       "</div>\n"
      ]
     },
     "metadata": {},
     "output_type": "display_data"
    },
    {
     "data": {
      "text/plain": [
       "\u001b[36mmonths\u001b[39m: \u001b[32mArray\u001b[39m[\u001b[32mString\u001b[39m] = \u001b[33mArray\u001b[39m(\n",
       "  \u001b[32m\"1\"\u001b[39m,\n",
       "  \u001b[32m\"2\"\u001b[39m,\n",
       "  \u001b[32m\"3\"\u001b[39m,\n",
       "  \u001b[32m\"4\"\u001b[39m,\n",
       "  \u001b[32m\"5\"\u001b[39m,\n",
       "  \u001b[32m\"6\"\u001b[39m,\n",
       "  \u001b[32m\"7\"\u001b[39m,\n",
       "  \u001b[32m\"8\"\u001b[39m,\n",
       "  \u001b[32m\"9\"\u001b[39m,\n",
       "  \u001b[32m\"10\"\u001b[39m,\n",
       "  \u001b[32m\"11\"\u001b[39m,\n",
       "  \u001b[32m\"12\"\u001b[39m\n",
       ")\r\n",
       "\u001b[36msales\u001b[39m: \u001b[32mArray\u001b[39m[\u001b[32mDouble\u001b[39m] = \u001b[33mArray\u001b[39m(\n",
       "  \u001b[32m11071.0\u001b[39m,\n",
       "  \u001b[32m12788.0\u001b[39m,\n",
       "  \u001b[32m16573.0\u001b[39m,\n",
       "  \u001b[32m17341.0\u001b[39m,\n",
       "  \u001b[32m15578.0\u001b[39m,\n",
       "  \u001b[32m13697.0\u001b[39m,\n",
       "  \u001b[32m13341.0\u001b[39m,\n",
       "  \u001b[32m12012.0\u001b[39m,\n",
       "  \u001b[32m14753.0\u001b[39m,\n",
       "  \u001b[32m19506.0\u001b[39m,\n",
       "  \u001b[32m20078.0\u001b[39m,\n",
       "  \u001b[32m19212.0\u001b[39m\n",
       ")"
      ]
     },
     "execution_count": 74,
     "metadata": {},
     "output_type": "execute_result"
    }
   ],
   "source": [
    "// Extraire les mois et les ventes en tant que listes\n",
    "val months = MonthLyData.collect().map(_.getInt(0).toString)\n",
    "val sales = MonthLyData.collect().map(_.getAs[Long](\"salesAmount\").toDouble)\n"
   ]
  },
  {
   "cell_type": "code",
   "execution_count": 68,
   "id": "110e9cfd",
   "metadata": {},
   "outputs": [
    {
     "data": {
      "text/plain": [
       "\u001b[36mbarChart\u001b[39m: \u001b[32mBar\u001b[39m = \u001b[33mBar\u001b[39m(\n",
       "  \u001b[33mStrings\u001b[39m(\n",
       "    \u001b[33mWrappedArray\u001b[39m(\u001b[32m\"1\"\u001b[39m, \u001b[32m\"2\"\u001b[39m, \u001b[32m\"3\"\u001b[39m, \u001b[32m\"4\"\u001b[39m, \u001b[32m\"5\"\u001b[39m, \u001b[32m\"6\"\u001b[39m, \u001b[32m\"7\"\u001b[39m, \u001b[32m\"8\"\u001b[39m, \u001b[32m\"9\"\u001b[39m, \u001b[32m\"10\"\u001b[39m, \u001b[32m\"11\"\u001b[39m, \u001b[32m\"12\"\u001b[39m)\n",
       "  ),\n",
       "  \u001b[33mDoubles\u001b[39m(\n",
       "    \u001b[33mWrappedArray\u001b[39m(\n",
       "      \u001b[32m11071.0\u001b[39m,\n",
       "      \u001b[32m12788.0\u001b[39m,\n",
       "      \u001b[32m16573.0\u001b[39m,\n",
       "      \u001b[32m17341.0\u001b[39m,\n",
       "      \u001b[32m15578.0\u001b[39m,\n",
       "      \u001b[32m13697.0\u001b[39m,\n",
       "      \u001b[32m13341.0\u001b[39m,\n",
       "      \u001b[32m12012.0\u001b[39m,\n",
       "      \u001b[32m14753.0\u001b[39m,\n",
       "      \u001b[32m19506.0\u001b[39m,\n",
       "      \u001b[32m20078.0\u001b[39m,\n",
       "      \u001b[32m19212.0\u001b[39m\n",
       "    )\n",
       "  ),\n",
       "  \u001b[32mNone\u001b[39m,\n",
       "  \u001b[32mNone\u001b[39m,\n",
       "  \u001b[32mNone\u001b[39m,\n",
       "  \u001b[32mNone\u001b[39m,\n",
       "  \u001b[32mNone\u001b[39m,\n",
       "  \u001b[32mNone\u001b[39m,\n",
       "  \u001b[32mNone\u001b[39m,\n",
       "  \u001b[32mNone\u001b[39m,\n",
       "  \u001b[32mNone\u001b[39m,\n",
       "  \u001b[32mNone\u001b[39m,\n",
       "  \u001b[32mNone\u001b[39m,\n",
       "  \u001b[32mNone\u001b[39m,\n",
       "  \u001b[32mNone\u001b[39m\n",
       ")"
      ]
     },
     "execution_count": 68,
     "metadata": {},
     "output_type": "execute_result"
    }
   ],
   "source": [
    "\n",
    "// Créer un graphique à barres avec les mois en tant que x et les ventes en tant que y\n",
    "val barChart = Bar(\n",
    "  x = months.toSeq,\n",
    "  y = sales.toSeq\n",
    ")"
   ]
  },
  {
   "cell_type": "code",
   "execution_count": 69,
   "id": "a18bd5f0",
   "metadata": {},
   "outputs": [
    {
     "data": {
      "text/plain": [
       "\u001b[36mlayout\u001b[39m: \u001b[32mLayout\u001b[39m = \u001b[33mLayout\u001b[39m(\n",
       "  \u001b[33mSome\u001b[39m(\u001b[32m\"Tendances de vente mensuelles\"\u001b[39m),\n",
       "  \u001b[32mNone\u001b[39m,\n",
       "  \u001b[32mNone\u001b[39m,\n",
       "  \u001b[32mNone\u001b[39m,\n",
       "  \u001b[32mNone\u001b[39m,\n",
       "  \u001b[33mSome\u001b[39m(\n",
       "    \u001b[33mAxis\u001b[39m(\n",
       "      \u001b[33mSome\u001b[39m(\u001b[32m\"Mois\"\u001b[39m),\n",
       "      \u001b[32mNone\u001b[39m,\n",
       "      \u001b[32mNone\u001b[39m,\n",
       "      \u001b[32mNone\u001b[39m,\n",
       "      \u001b[32mNone\u001b[39m,\n",
       "      \u001b[32mNone\u001b[39m,\n",
       "      \u001b[32mNone\u001b[39m,\n",
       "      \u001b[32mNone\u001b[39m,\n",
       "      \u001b[32mNone\u001b[39m,\n",
       "      \u001b[32mNone\u001b[39m,\n",
       "      \u001b[32mNone\u001b[39m,\n",
       "      \u001b[32mNone\u001b[39m,\n",
       "      \u001b[32mNone\u001b[39m,\n",
       "      \u001b[32mNone\u001b[39m,\n",
       "      \u001b[32mNone\u001b[39m,\n",
       "      \u001b[32mNone\u001b[39m,\n",
       "      \u001b[32mNone\u001b[39m,\n",
       "      \u001b[32mNone\u001b[39m,\n",
       "      \u001b[32mNone\u001b[39m,\n",
       "      \u001b[32mNone\u001b[39m,\n",
       "      \u001b[32mNone\u001b[39m,\n",
       "      \u001b[32mNone\u001b[39m,\n",
       "      \u001b[32mNone\u001b[39m,\n",
       "      \u001b[32mNone\u001b[39m,\n",
       "      \u001b[32mNone\u001b[39m,\n",
       "      \u001b[32mNone\u001b[39m,\n",
       "      \u001b[32mNone\u001b[39m,\n",
       "      \u001b[32mNone\u001b[39m,\n",
       "      \u001b[32mNone\u001b[39m,\n",
       "      \u001b[32mNone\u001b[39m,\n",
       "      \u001b[32mNone\u001b[39m,\n",
       "..."
      ]
     },
     "execution_count": 69,
     "metadata": {},
     "output_type": "execute_result"
    }
   ],
   "source": [
    "// Créer la mise en page du graphique\n",
    "val layout = Layout(\n",
    "  title = \"Tendances de vente mensuelles\",\n",
    "  xaxis = Axis(title = \"Mois\"),\n",
    "  yaxis = Axis(title = \"Ventes\")\n",
    ")"
   ]
  },
  {
   "cell_type": "code",
   "execution_count": 70,
   "id": "0027cb95",
   "metadata": {},
   "outputs": [
    {
     "data": {
      "application/vnd.plotly.v1+json": {
       "config": {},
       "data": [
        {
         "type": "bar",
         "x": [
          "1",
          "2",
          "3",
          "4",
          "5",
          "6",
          "7",
          "8",
          "9",
          "10",
          "11",
          "12"
         ],
         "y": [
          11071,
          12788,
          16573,
          17341,
          15578,
          13697,
          13341,
          12012,
          14753,
          19506,
          20078,
          19212
         ]
        }
       ],
       "layout": {
        "title": "Tendances de vente mensuelles",
        "xaxis": {
         "title": "Mois"
        },
        "yaxis": {
         "title": "Ventes"
        }
       }
      },
      "text/html": [
       "<div class=\"chart\" id=\"plot-ff657a0a-6c33-4fc8-a79f-371f43578113\"></div>\n",
       "<script>require(['plotly'], function(Plotly) {\n",
       "  (function () {\n",
       "  var data0 = {\"x\":[\"1\",\"2\",\"3\",\"4\",\"5\",\"6\",\"7\",\"8\",\"9\",\"10\",\"11\",\"12\"],\"y\":[11071.0,12788.0,16573.0,17341.0,15578.0,13697.0,13341.0,12012.0,14753.0,19506.0,20078.0,19212.0],\"type\":\"bar\"};\n",
       "\n",
       "  var data = [data0];\n",
       "  var layout = {\"title\":\"Tendances de vente mensuelles\",\"yaxis\":{\"title\":\"Ventes\"},\"xaxis\":{\"title\":\"Mois\"}};\n",
       " var config = {};\n",
       "\n",
       "  Plotly.plot('plot-ff657a0a-6c33-4fc8-a79f-371f43578113', data, layout, config);\n",
       "})();\n",
       "});\n",
       "      </script>\n",
       "           "
      ]
     },
     "metadata": {},
     "output_type": "display_data"
    },
    {
     "data": {
      "text/plain": [
       "\u001b[36mres69\u001b[39m: \u001b[32mString\u001b[39m = \u001b[32m\"plot-ff657a0a-6c33-4fc8-a79f-371f43578113\"\u001b[39m"
      ]
     },
     "execution_count": 70,
     "metadata": {},
     "output_type": "execute_result"
    }
   ],
   "source": [
    "// Afficher le graphique\n",
    "plot(Seq(barChart), layout)"
   ]
  },
  {
   "cell_type": "code",
   "execution_count": 75,
   "id": "77b0683b",
   "metadata": {},
   "outputs": [
    {
     "data": {
      "text/plain": [
       "\u001b[36mlineChart\u001b[39m: \u001b[32mScatter\u001b[39m = \u001b[33mScatter\u001b[39m(\n",
       "  \u001b[33mSome\u001b[39m(\n",
       "    \u001b[33mStrings\u001b[39m(\n",
       "      \u001b[33mWrappedArray\u001b[39m(\n",
       "        \u001b[32m\"1\"\u001b[39m,\n",
       "        \u001b[32m\"2\"\u001b[39m,\n",
       "        \u001b[32m\"3\"\u001b[39m,\n",
       "        \u001b[32m\"4\"\u001b[39m,\n",
       "        \u001b[32m\"5\"\u001b[39m,\n",
       "        \u001b[32m\"6\"\u001b[39m,\n",
       "        \u001b[32m\"7\"\u001b[39m,\n",
       "        \u001b[32m\"8\"\u001b[39m,\n",
       "        \u001b[32m\"9\"\u001b[39m,\n",
       "        \u001b[32m\"10\"\u001b[39m,\n",
       "        \u001b[32m\"11\"\u001b[39m,\n",
       "        \u001b[32m\"12\"\u001b[39m\n",
       "      )\n",
       "    )\n",
       "  ),\n",
       "  \u001b[33mSome\u001b[39m(\n",
       "    \u001b[33mDoubles\u001b[39m(\n",
       "      \u001b[33mWrappedArray\u001b[39m(\n",
       "        \u001b[32m11071.0\u001b[39m,\n",
       "        \u001b[32m12788.0\u001b[39m,\n",
       "        \u001b[32m16573.0\u001b[39m,\n",
       "        \u001b[32m17341.0\u001b[39m,\n",
       "        \u001b[32m15578.0\u001b[39m,\n",
       "        \u001b[32m13697.0\u001b[39m,\n",
       "        \u001b[32m13341.0\u001b[39m,\n",
       "        \u001b[32m12012.0\u001b[39m,\n",
       "        \u001b[32m14753.0\u001b[39m,\n",
       "        \u001b[32m19506.0\u001b[39m,\n",
       "        \u001b[32m20078.0\u001b[39m,\n",
       "        \u001b[32m19212.0\u001b[39m\n",
       "      )\n",
       "    )\n",
       "  ),\n",
       "  \u001b[32mNone\u001b[39m,\n",
       "  \u001b[32mNone\u001b[39m,\n",
       "..."
      ]
     },
     "execution_count": 75,
     "metadata": {},
     "output_type": "execute_result"
    }
   ],
   "source": [
    "// Créer un graphique linéaire avec les mois en tant que x et les ventes en tant que y\n",
    "val lineChart = Scatter(\n",
    "  x = months.toSeq,\n",
    "  y = sales.toSeq,\n",
    "//   mode = ScatterMode.Lines,\n",
    "//     marker = Marker(color = Color.RGB(31, 119, 180)),\n",
    "//   name = \"Ventes\"\n",
    ")"
   ]
  },
  {
   "cell_type": "code",
   "execution_count": 77,
   "id": "6da2c6bf",
   "metadata": {},
   "outputs": [
    {
     "name": "stderr",
     "output_type": "stream",
     "text": [
      "(console):9:2 expected \")\"\r\n",
      "// Créer la mise en page du graphique\n",
      "val layout = Layout(\n",
      "  title = \"Tendances de vente mensuelles\",\n",
      "  xaxis = Axis(title = \"Mois\"),\n",
      "  yaxis = Axis(title = \"Ventes\"),\n",
      "    barmode=\n",
      "    mode = ScatterMode.Lines,\n",
      "    marker = Marker(color = Color.RGB(31, 119, 180),\n",
      ")\r\n",
      "                                                                                                                                                                                                                                                                         ^"
     ]
    },
    {
     "ename": "",
     "evalue": "",
     "output_type": "error",
     "traceback": [
      "(console):9:2 expected \")\"\r\n// Créer la mise en page du graphique\nval layout = Layout(\n  title = \"Tendances de vente mensuelles\",\n  xaxis = Axis(title = \"Mois\"),\n  yaxis = Axis(title = \"Ventes\"),\n    barmode=\n    mode = ScatterMode.Lines,\n    marker = Marker(color = Color.RGB(31, 119, 180),\n)\r\n                                                                                                                                                                                                                                                                         ^"
     ]
    }
   ],
   "source": [
    "// Créer la mise en page du graphique\n",
    "val layout = Layout(\n",
    "  title = \"Tendances de vente mensuelles\",\n",
    "  xaxis = Axis(title = \"Mois\"),\n",
    "  yaxis = Axis(title = \"Ventes\"),\n",
    ")"
   ]
  },
  {
   "cell_type": "code",
   "execution_count": 77,
   "id": "249ff2de",
   "metadata": {},
   "outputs": [
    {
     "data": {
      "application/vnd.plotly.v1+json": {
       "config": {},
       "data": [
        {
         "type": "scatter",
         "x": [
          "1",
          "2",
          "3",
          "4",
          "5",
          "6",
          "7",
          "8",
          "9",
          "10",
          "11",
          "12"
         ],
         "y": [
          11071,
          12788,
          16573,
          17341,
          15578,
          13697,
          13341,
          12012,
          14753,
          19506,
          20078,
          19212
         ]
        }
       ],
       "layout": {
        "title": "Tendances de vente mensuelles",
        "xaxis": {
         "title": "Mois"
        },
        "yaxis": {
         "title": "Ventes"
        }
       }
      },
      "text/html": [
       "<div class=\"chart\" id=\"plot-d32fb321-cf8b-4efc-b5f8-6bfca030e29a\"></div>\n",
       "<script>require(['plotly'], function(Plotly) {\n",
       "  (function () {\n",
       "  var data0 = {\"x\":[\"1\",\"2\",\"3\",\"4\",\"5\",\"6\",\"7\",\"8\",\"9\",\"10\",\"11\",\"12\"],\"y\":[11071.0,12788.0,16573.0,17341.0,15578.0,13697.0,13341.0,12012.0,14753.0,19506.0,20078.0,19212.0],\"type\":\"scatter\"};\n",
       "\n",
       "  var data = [data0];\n",
       "  var layout = {\"title\":\"Tendances de vente mensuelles\",\"yaxis\":{\"title\":\"Ventes\"},\"xaxis\":{\"title\":\"Mois\"}};\n",
       " var config = {};\n",
       "\n",
       "  Plotly.plot('plot-d32fb321-cf8b-4efc-b5f8-6bfca030e29a', data, layout, config);\n",
       "})();\n",
       "});\n",
       "      </script>\n",
       "           "
      ]
     },
     "metadata": {},
     "output_type": "display_data"
    },
    {
     "data": {
      "text/plain": [
       "\u001b[36mres76\u001b[39m: \u001b[32mString\u001b[39m = \u001b[32m\"plot-d32fb321-cf8b-4efc-b5f8-6bfca030e29a\"\u001b[39m"
      ]
     },
     "execution_count": 77,
     "metadata": {},
     "output_type": "execute_result"
    }
   ],
   "source": [
    "// Afficher le graphique\n",
    "plot(Seq(lineChart), layout)"
   ]
  },
  {
   "cell_type": "code",
   "execution_count": null,
   "id": "dc0e75b7",
   "metadata": {},
   "outputs": [],
   "source": []
  }
 ],
 "metadata": {
  "kernelspec": {
   "display_name": "Scala",
   "language": "scala",
   "name": "scala"
  },
  "language_info": {
   "codemirror_mode": "text/x-scala",
   "file_extension": ".sc",
   "mimetype": "text/x-scala",
   "name": "scala",
   "nbconvert_exporter": "script",
   "version": "2.12.11"
  }
 },
 "nbformat": 4,
 "nbformat_minor": 5
}
