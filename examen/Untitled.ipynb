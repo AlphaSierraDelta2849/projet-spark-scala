{
 "cells": [
  {
   "cell_type": "code",
   "execution_count": 1,
   "id": "53fc581b",
   "metadata": {},
   "outputs": [
    {
     "data": {
      "text/plain": [
       "\u001b[32mimport \u001b[39m\u001b[36m$ivy.$                                  \n",
       "\u001b[39m\r\n",
       "\u001b[32mimport \u001b[39m\u001b[36m$ivy.$                                    \n",
       "\u001b[39m\r\n",
       "\u001b[32mimport \u001b[39m\u001b[36m$ivy.$                                      \n",
       "\u001b[39m\r\n",
       "\u001b[32mimport \u001b[39m\u001b[36mplotly._, plotly.element._, plotly.layout._, plotly.Almond._\u001b[39m"
      ]
     },
     "execution_count": 1,
     "metadata": {},
     "output_type": "execute_result"
    }
   ],
   "source": [
    "import $ivy.`org.apache.spark::spark-sql:2.4.5`\n",
    "import $ivy.`org.apache.spark::spark-mllib:2.4.5`\n",
    "import $ivy.`org.plotly-scala::plotly-almond:0.8.1`\n",
    "import plotly._, plotly.element._, plotly.layout._, plotly.Almond._"
   ]
  },
  {
   "cell_type": "code",
   "execution_count": 2,
   "id": "fb5faef9",
   "metadata": {},
   "outputs": [
    {
     "data": {
      "text/plain": [
       "\u001b[32mimport \u001b[39m\u001b[36morg.apache.log4j.{Level, Logger}\n",
       "\u001b[39m\r\n",
       "\u001b[32mimport \u001b[39m\u001b[36morg.apache.spark.storage.StorageLevel\n",
       "\u001b[39m\r\n",
       "\u001b[32mimport \u001b[39m\u001b[36morg.apache.spark.sql.functions._\n",
       "\u001b[39m\r\n",
       "\u001b[32mimport \u001b[39m\u001b[36morg.apache.spark.ml.evaluation.RegressionEvaluator \n",
       "\n",
       "\u001b[39m\r\n",
       "\u001b[36mrootLogger\u001b[39m: \u001b[32mLogger\u001b[39m = org.apache.log4j.spi.RootLogger@3357f11b"
      ]
     },
     "execution_count": 2,
     "metadata": {},
     "output_type": "execute_result"
    }
   ],
   "source": [
    "import org.apache.log4j.{Level, Logger}\n",
    "import org.apache.spark.storage.StorageLevel\n",
    "import org.apache.spark.sql.functions._\n",
    "import org.apache.spark.ml.evaluation.RegressionEvaluator \n",
    "\n",
    "val rootLogger = Logger.getRootLogger()\n",
    "rootLogger.setLevel(Level.ERROR)\n",
    "\n",
    "Logger.getLogger(\"org.apache.spark\").setLevel(Level.WARN)\n",
    "Logger.getLogger(\"org.spark-project\").setLevel(Level.WARN)"
   ]
  },
  {
   "cell_type": "code",
   "execution_count": 3,
   "id": "79f4b3ec",
   "metadata": {},
   "outputs": [
    {
     "name": "stdout",
     "output_type": "stream",
     "text": [
      "Loading spark-stubs\n",
      "Getting spark JARs\n",
      "Creating SparkSession\n"
     ]
    },
    {
     "name": "stderr",
     "output_type": "stream",
     "text": [
      "Using Spark's default log4j profile: org/apache/spark/log4j-defaults.properties\n",
      "23/05/27 15:01:10 WARN NativeCodeLoader: Unable to load native-hadoop library for your platform... using builtin-java classes where applicable\n",
      "23/05/27 15:01:10 ERROR Shell: Failed to locate the winutils binary in the hadoop binary path\n",
      "java.io.IOException: Could not locate executable null\\bin\\winutils.exe in the Hadoop binaries.\n",
      "\tat org.apache.hadoop.util.Shell.getQualifiedBinPath(Shell.java:378)\n",
      "\tat org.apache.hadoop.util.Shell.getWinUtilsPath(Shell.java:393)\n",
      "\tat org.apache.hadoop.util.Shell.<clinit>(Shell.java:386)\n",
      "\tat org.apache.hadoop.util.StringUtils.<clinit>(StringUtils.java:79)\n",
      "\tat org.apache.hadoop.security.Groups.parseStaticMapping(Groups.java:116)\n",
      "\tat org.apache.hadoop.security.Groups.<init>(Groups.java:93)\n",
      "\tat org.apache.hadoop.security.Groups.<init>(Groups.java:73)\n",
      "\tat org.apache.hadoop.security.Groups.getUserToGroupsMappingService(Groups.java:293)\n",
      "\tat org.apache.hadoop.security.UserGroupInformation.initialize(UserGroupInformation.java:283)\n",
      "\tat org.apache.hadoop.security.UserGroupInformation.ensureInitialized(UserGroupInformation.java:260)\n",
      "\tat org.apache.hadoop.security.UserGroupInformation.loginUserFromSubject(UserGroupInformation.java:789)\n",
      "\tat org.apache.hadoop.security.UserGroupInformation.getLoginUser(UserGroupInformation.java:774)\n",
      "\tat org.apache.hadoop.security.UserGroupInformation.getCurrentUser(UserGroupInformation.java:647)\n",
      "\tat org.apache.spark.util.Utils$.$anonfun$getCurrentUserName$1(Utils.scala:2422)\n",
      "\tat scala.Option.getOrElse(Option.scala:189)\n",
      "\tat org.apache.spark.util.Utils$.getCurrentUserName(Utils.scala:2422)\n",
      "\tat org.apache.spark.SparkContext.<init>(SparkContext.scala:293)\n",
      "\tat org.apache.spark.SparkContext$.getOrCreate(SparkContext.scala:2520)\n",
      "\tat org.apache.spark.sql.SparkSession$Builder.$anonfun$getOrCreate$5(SparkSession.scala:935)\n",
      "\tat scala.Option.getOrElse(Option.scala:189)\n",
      "\tat org.apache.spark.sql.SparkSession$Builder.getOrCreate(SparkSession.scala:926)\n",
      "\tat org.apache.spark.sql.ammonitesparkinternals.AmmoniteSparkSessionBuilder.getOrCreate(AmmoniteSparkSessionBuilder.scala:319)\n",
      "\tat org.apache.spark.sql.almondinternals.NotebookSparkSessionBuilder.getOrCreate(NotebookSparkSessionBuilder.scala:62)\n",
      "\tat ammonite.$sess.cmd2$Helper.<init>(cmd2.sc:11)\n",
      "\tat ammonite.$sess.cmd2$.<init>(cmd2.sc:7)\n",
      "\tat ammonite.$sess.cmd2$.<clinit>(cmd2.sc)\n",
      "\tat ammonite.$sess.cmd2.$main(cmd2.sc)\n",
      "\tat sun.reflect.NativeMethodAccessorImpl.invoke0(Native Method)\n",
      "\tat sun.reflect.NativeMethodAccessorImpl.invoke(NativeMethodAccessorImpl.java:62)\n",
      "\tat sun.reflect.DelegatingMethodAccessorImpl.invoke(DelegatingMethodAccessorImpl.java:43)\n",
      "\tat java.lang.reflect.Method.invoke(Method.java:498)\n",
      "\tat ammonite.runtime.Evaluator$$anon$1.$anonfun$evalMain$1(Evaluator.scala:108)\n",
      "\tat ammonite.util.Util$.withContextClassloader(Util.scala:24)\n",
      "\tat ammonite.runtime.Evaluator$$anon$1.evalMain(Evaluator.scala:90)\n",
      "\tat ammonite.runtime.Evaluator$$anon$1.$anonfun$processLine$2(Evaluator.scala:127)\n",
      "\tat ammonite.util.Catching.map(Res.scala:117)\n",
      "\tat ammonite.runtime.Evaluator$$anon$1.$anonfun$processLine$1(Evaluator.scala:121)\n",
      "\tat ammonite.util.Res$Success.flatMap(Res.scala:62)\n",
      "\tat ammonite.runtime.Evaluator$$anon$1.processLine(Evaluator.scala:120)\n",
      "\tat ammonite.interp.Interpreter.$anonfun$evaluateLine$4(Interpreter.scala:295)\n",
      "\tat ammonite.util.Res$Success.flatMap(Res.scala:62)\n",
      "\tat ammonite.interp.Interpreter.$anonfun$evaluateLine$2(Interpreter.scala:281)\n",
      "\tat ammonite.util.Catching.flatMap(Res.scala:115)\n",
      "\tat ammonite.interp.Interpreter.evaluateLine(Interpreter.scala:280)\n",
      "\tat ammonite.interp.Interpreter.$anonfun$processLine$6(Interpreter.scala:268)\n",
      "\tat ammonite.util.Res$Success.flatMap(Res.scala:62)\n",
      "\tat ammonite.interp.Interpreter.$anonfun$processLine$4(Interpreter.scala:251)\n",
      "\tat ammonite.util.Res$Success.flatMap(Res.scala:62)\n",
      "\tat ammonite.interp.Interpreter.$anonfun$processLine$2(Interpreter.scala:244)\n",
      "\tat ammonite.util.Catching.flatMap(Res.scala:115)\n",
      "\tat ammonite.interp.Interpreter.processLine(Interpreter.scala:243)\n",
      "\tat almond.Execute.$anonfun$ammResult$11(Execute.scala:238)\n",
      "\tat almond.internals.CaptureImpl.$anonfun$apply$2(CaptureImpl.scala:53)\n",
      "\tat scala.util.DynamicVariable.withValue(DynamicVariable.scala:62)\n",
      "\tat scala.Console$.withErr(Console.scala:196)\n",
      "\tat almond.internals.CaptureImpl.$anonfun$apply$1(CaptureImpl.scala:45)\n",
      "\tat scala.util.DynamicVariable.withValue(DynamicVariable.scala:62)\n",
      "\tat scala.Console$.withOut(Console.scala:167)\n",
      "\tat almond.internals.CaptureImpl.apply(CaptureImpl.scala:45)\n",
      "\tat almond.Execute.capturingOutput(Execute.scala:166)\n",
      "\tat almond.Execute.$anonfun$ammResult$10(Execute.scala:225)\n",
      "\tat almond.Execute.$anonfun$withClientStdin$1(Execute.scala:146)\n",
      "\tat scala.util.DynamicVariable.withValue(DynamicVariable.scala:62)\n",
      "\tat scala.Console$.withIn(Console.scala:230)\n",
      "\tat almond.Execute.withClientStdin(Execute.scala:142)\n",
      "\tat almond.Execute.$anonfun$ammResult$9(Execute.scala:225)\n",
      "\tat almond.Execute.withInputManager(Execute.scala:134)\n",
      "\tat almond.Execute.$anonfun$ammResult$8(Execute.scala:224)\n",
      "\tat ammonite.repl.Signaller.apply(Signaller.scala:28)\n",
      "\tat almond.Execute.interruptible(Execute.scala:183)\n",
      "\tat almond.Execute.$anonfun$ammResult$7(Execute.scala:223)\n",
      "\tat ammonite.util.Res$Success.flatMap(Res.scala:62)\n",
      "\tat almond.Execute.$anonfun$ammResult$1(Execute.scala:214)\n",
      "\tat almond.Execute.withOutputHandler(Execute.scala:157)\n",
      "\tat almond.Execute.ammResult(Execute.scala:214)\n",
      "\tat almond.Execute.apply(Execute.scala:311)\n",
      "\tat almond.ScalaInterpreter.execute(ScalaInterpreter.scala:127)\n",
      "\tat almond.interpreter.InterpreterToIOInterpreter.$anonfun$execute$2(InterpreterToIOInterpreter.scala:69)\n",
      "\tat cats.effect.internals.IORunLoop$.cats$effect$internals$IORunLoop$$loop(IORunLoop.scala:87)\n",
      "\tat cats.effect.internals.IORunLoop$RestartCallback.signal(IORunLoop.scala:366)\n",
      "\tat cats.effect.internals.IORunLoop$RestartCallback.apply(IORunLoop.scala:387)\n",
      "\tat cats.effect.internals.IORunLoop$RestartCallback.apply(IORunLoop.scala:330)\n",
      "\tat cats.effect.internals.IOShift$Tick.run(IOShift.scala:36)\n",
      "\tat java.util.concurrent.ThreadPoolExecutor.runWorker(ThreadPoolExecutor.java:1149)\n",
      "\tat java.util.concurrent.ThreadPoolExecutor$Worker.run(ThreadPoolExecutor.java:624)\n",
      "\tat java.lang.Thread.run(Thread.java:748)\n"
     ]
    },
    {
     "data": {
      "text/html": [
       "<a target=\"_blank\" href=\"http://DESKTOP-3JG57AE.home:4040\">Spark UI</a>"
      ]
     },
     "metadata": {},
     "output_type": "display_data"
    },
    {
     "data": {
      "text/plain": [
       "\u001b[32mimport \u001b[39m\u001b[36morg.apache.spark.sql._\n",
       "\u001b[39m\r\n",
       "\u001b[32mimport \u001b[39m\u001b[36morg.apache.spark.sql.{DataFrame, SparkSession}\n",
       "\u001b[39m\r\n",
       "\u001b[32mimport \u001b[39m\u001b[36morg.apache.spark.sql.types._\n",
       "\u001b[39m\r\n",
       "\u001b[32mimport \u001b[39m\u001b[36morg.apache.spark.sql.functions._\n",
       "\u001b[39m\r\n",
       "\u001b[32mimport \u001b[39m\u001b[36morg.apache.spark.ml.feature.VectorAssembler\n",
       "\u001b[39m\r\n",
       "\u001b[32mimport \u001b[39m\u001b[36morg.apache.spark.ml.regression.LinearRegression\n",
       "\n",
       "\n",
       "\u001b[39m\r\n",
       "\u001b[36msparkSession\u001b[39m: \u001b[32mSparkSession\u001b[39m = org.apache.spark.sql.SparkSession@1cfbb39a"
      ]
     },
     "execution_count": 3,
     "metadata": {},
     "output_type": "execute_result"
    }
   ],
   "source": [
    "import org.apache.spark.sql._\n",
    "import org.apache.spark.sql.{DataFrame, SparkSession}\n",
    "import org.apache.spark.sql.types._\n",
    "import org.apache.spark.sql.functions._\n",
    "import org.apache.spark.ml.feature.VectorAssembler\n",
    "import org.apache.spark.ml.regression.LinearRegression\n",
    "\n",
    "\n",
    "val sparkSession = {\n",
    "  NotebookSparkSession.builder()\n",
    "    .master(\"local[*]\")\n",
    "    .getOrCreate()\n",
    "}"
   ]
  },
  {
   "cell_type": "code",
   "execution_count": 4,
   "id": "c347bead",
   "metadata": {},
   "outputs": [
    {
     "data": {
      "text/html": [
       "<div class=\"jp-RenderedText\">\n",
       "<pre><code><span style=\"color: rgb(0, 187, 187)\"><span class=\"ansi-cyan-fg\">fireSchema</span></span>: <span style=\"color: rgb(0, 187, 0)\"><span class=\"ansi-green-fg\">StructType</span></span> = <span style=\"color: yellow\"><span class=\"ansi-yellow-fg\">StructType</span></span>(\n",
       "  <span style=\"color: yellow\"><span class=\"ansi-yellow-fg\">StructField</span></span>(<span style=\"color: rgb(0, 187, 0)\"><span class=\"ansi-green-fg\">&quot;Order ID&quot;</span></span>, StringType, true, {}),\n",
       "  <span style=\"color: yellow\"><span class=\"ansi-yellow-fg\">StructField</span></span>(<span style=\"color: rgb(0, 187, 0)\"><span class=\"ansi-green-fg\">&quot;Product&quot;</span></span>, StringType, true, {}),\n",
       "  <span style=\"color: yellow\"><span class=\"ansi-yellow-fg\">StructField</span></span>(<span style=\"color: rgb(0, 187, 0)\"><span class=\"ansi-green-fg\">&quot;Quantity Ordered&quot;</span></span>, IntegerType, true, {}),\n",
       "  <span style=\"color: yellow\"><span class=\"ansi-yellow-fg\">StructField</span></span>(<span style=\"color: rgb(0, 187, 0)\"><span class=\"ansi-green-fg\">&quot;Price Each&quot;</span></span>, FloatType, true, {}),\n",
       "  <span style=\"color: yellow\"><span class=\"ansi-yellow-fg\">StructField</span></span>(<span style=\"color: rgb(0, 187, 0)\"><span class=\"ansi-green-fg\">&quot;Order Date&quot;</span></span>, StringType, true, {}),\n",
       "  <span style=\"color: yellow\"><span class=\"ansi-yellow-fg\">StructField</span></span>(<span style=\"color: rgb(0, 187, 0)\"><span class=\"ansi-green-fg\">&quot;Purchase Address&quot;</span></span>, StringType, true, {})\n",
       ")\r\n",
       "<span style=\"color: rgb(0, 187, 187)\"><span class=\"ansi-cyan-fg\">annualDf</span></span>: <span style=\"color: rgb(0, 187, 0)\"><span class=\"ansi-green-fg\">DataFrame</span></span> = [Order ID: string, Product: string ... 4 more fields]\r\n",
       "defined <span style=\"color: rgb(0, 187, 0)\"><span class=\"ansi-green-fg\">function</span></span> <span style=\"color: rgb(0, 187, 187)\"><span class=\"ansi-cyan-fg\">loadCsvFile</span></span>\r\n",
       "<span style=\"color: rgb(0, 187, 187)\"><span class=\"ansi-cyan-fg\">dataframes</span></span>: <span style=\"color: rgb(0, 187, 0)\"><span class=\"ansi-green-fg\">List</span></span>[<span style=\"color: rgb(0, 187, 0)\"><span class=\"ansi-green-fg\">DataFrame</span></span>] = <span style=\"color: yellow\"><span class=\"ansi-yellow-fg\">List</span></span>()\r\n",
       "<span style=\"color: rgb(0, 187, 187)\"><span class=\"ansi-cyan-fg\">months</span></span>: <span style=\"color: rgb(0, 187, 0)\"><span class=\"ansi-green-fg\">List</span></span>[<span style=\"color: rgb(0, 187, 0)\"><span class=\"ansi-green-fg\">String</span></span>] = <span style=\"color: yellow\"><span class=\"ansi-yellow-fg\">List</span></span>(\n",
       "  <span style=\"color: rgb(0, 187, 0)\"><span class=\"ansi-green-fg\">&quot;January&quot;</span></span>,\n",
       "  <span style=\"color: rgb(0, 187, 0)\"><span class=\"ansi-green-fg\">&quot;February&quot;</span></span>,\n",
       "  <span style=\"color: rgb(0, 187, 0)\"><span class=\"ansi-green-fg\">&quot;March&quot;</span></span>,\n",
       "  <span style=\"color: rgb(0, 187, 0)\"><span class=\"ansi-green-fg\">&quot;April&quot;</span></span>,\n",
       "  <span style=\"color: rgb(0, 187, 0)\"><span class=\"ansi-green-fg\">&quot;May&quot;</span></span>,\n",
       "  <span style=\"color: rgb(0, 187, 0)\"><span class=\"ansi-green-fg\">&quot;June&quot;</span></span>,\n",
       "  <span style=\"color: rgb(0, 187, 0)\"><span class=\"ansi-green-fg\">&quot;July&quot;</span></span>,\n",
       "  <span style=\"color: rgb(0, 187, 0)\"><span class=\"ansi-green-fg\">&quot;August&quot;</span></span>,\n",
       "  <span style=\"color: rgb(0, 187, 0)\"><span class=\"ansi-green-fg\">&quot;September&quot;</span></span>,\n",
       "  <span style=\"color: rgb(0, 187, 0)\"><span class=\"ansi-green-fg\">&quot;October&quot;</span></span>,\n",
       "  <span style=\"color: rgb(0, 187, 0)\"><span class=\"ansi-green-fg\">&quot;November&quot;</span></span>,\n",
       "  <span style=\"color: rgb(0, 187, 0)\"><span class=\"ansi-green-fg\">&quot;December&quot;</span></span>\n",
       ")\r\n",
       "<span style=\"color: rgb(0, 187, 187)\"><span class=\"ansi-cyan-fg\">i</span></span>: <span style=\"color: rgb(0, 187, 0)\"><span class=\"ansi-green-fg\">Int</span></span> = <span style=\"color: rgb(0, 187, 0)\"><span class=\"ansi-green-fg\">0</span></span>\r\n",
       "<span style=\"color: rgb(0, 187, 187)\"><span class=\"ansi-cyan-fg\">df</span></span>: <span style=\"color: rgb(0, 187, 0)\"><span class=\"ansi-green-fg\">DataFrame</span></span> = [Order ID: string, Product: string ... 4 more fields]\r\n",
       "<span style=\"color: rgb(0, 187, 187)\"><span class=\"ansi-cyan-fg\">res3_8</span></span>: <span style=\"color: rgb(0, 187, 0)\"><span class=\"ansi-green-fg\">DataFrame</span></span> = [Order ID: string, Product: string ... 4 more fields]</code></pre>\n",
       "</div>"
      ],
      "text/plain": [
       "\u001b[36mfireSchema\u001b[39m: \u001b[32mStructType\u001b[39m = \u001b[33mStructType\u001b[39m(\n",
       "  \u001b[33mStructField\u001b[39m(\u001b[32m\"Order ID\"\u001b[39m, StringType, true, {}),\n",
       "  \u001b[33mStructField\u001b[39m(\u001b[32m\"Product\"\u001b[39m, StringType, true, {}),\n",
       "  \u001b[33mStructField\u001b[39m(\u001b[32m\"Quantity Ordered\"\u001b[39m, IntegerType, true, {}),\n",
       "  \u001b[33mStructField\u001b[39m(\u001b[32m\"Price Each\"\u001b[39m, FloatType, true, {}),\n",
       "  \u001b[33mStructField\u001b[39m(\u001b[32m\"Order Date\"\u001b[39m, StringType, true, {}),\n",
       "  \u001b[33mStructField\u001b[39m(\u001b[32m\"Purchase Address\"\u001b[39m, StringType, true, {})\n",
       ")\r\n",
       "\u001b[36mannualDf\u001b[39m: \u001b[32mDataFrame\u001b[39m = [Order ID: string, Product: string ... 4 more fields]\r\n",
       "defined \u001b[32mfunction\u001b[39m \u001b[36mloadCsvFile\u001b[39m\r\n",
       "\u001b[36mdataframes\u001b[39m: \u001b[32mList\u001b[39m[\u001b[32mDataFrame\u001b[39m] = \u001b[33mList\u001b[39m()\r\n",
       "\u001b[36mmonths\u001b[39m: \u001b[32mList\u001b[39m[\u001b[32mString\u001b[39m] = \u001b[33mList\u001b[39m(\n",
       "  \u001b[32m\"January\"\u001b[39m,\n",
       "  \u001b[32m\"February\"\u001b[39m,\n",
       "  \u001b[32m\"March\"\u001b[39m,\n",
       "  \u001b[32m\"April\"\u001b[39m,\n",
       "  \u001b[32m\"May\"\u001b[39m,\n",
       "  \u001b[32m\"June\"\u001b[39m,\n",
       "  \u001b[32m\"July\"\u001b[39m,\n",
       "  \u001b[32m\"August\"\u001b[39m,\n",
       "  \u001b[32m\"September\"\u001b[39m,\n",
       "  \u001b[32m\"October\"\u001b[39m,\n",
       "  \u001b[32m\"November\"\u001b[39m,\n",
       "  \u001b[32m\"December\"\u001b[39m\n",
       ")\r\n",
       "\u001b[36mi\u001b[39m: \u001b[32mInt\u001b[39m = \u001b[32m0\u001b[39m\r\n",
       "\u001b[36mdf\u001b[39m: \u001b[32mDataFrame\u001b[39m = [Order ID: string, Product: string ... 4 more fields]\r\n",
       "\u001b[36mres3_8\u001b[39m: \u001b[32mDataFrame\u001b[39m = [Order ID: string, Product: string ... 4 more fields]"
      ]
     },
     "metadata": {},
     "output_type": "display_data"
    }
   ],
   "source": [
    "val fireSchema = StructType(Array(StructField(\"Order ID\", StringType),\n",
    "                 StructField(\"Product\", StringType, true),\n",
    "                 StructField(\"Quantity Ordered\", IntegerType, true),\n",
    "                 StructField(\"Price Each\", FloatType, true),\n",
    "                 StructField(\"Order Date\", StringType, true),\n",
    "                 StructField(\"Purchase Address\", StringType, true),\n",
    "))\n",
    "\n",
    "var annualDf:DataFrame=null\n",
    "\n",
    "def loadCsvFile(fileName: String): DataFrame = {\n",
    "    val pathName=\"csv/Sales_\"+fileName+\"_2019.csv\"\n",
    "  val df = sparkSession.read\n",
    "    .format(\"csv\")\n",
    "    .option(\"header\", \"true\")\n",
    "    .option(\"delimiter\", \",\")\n",
    "    .schema(fireSchema)\n",
    "    .load(pathName)\n",
    "\n",
    "  df\n",
    "}\n",
    "var dataframes: List[DataFrame]=List()\n",
    "val months = List(\"January\", \"February\", \"March\", \"April\", \"May\", \"June\", \"July\", \"August\", \"September\", \"October\", \"November\", \"December\")\n",
    "var i=0\n",
    "months.foreach{(month)=>\n",
    "           val df=loadCsvFile(month)\n",
    "            if(annualDf==null) annualDf = df  else annualDf=annualDf.union(df)\n",
    "}\n",
    "val df=annualDf\n",
    "df.cache()"
   ]
  },
  {
   "cell_type": "markdown",
   "id": "c0f9a6ad",
   "metadata": {},
   "source": [
    "## 2.Quel mois a été le meilleur en termes de ventes ? Combien a-t-on gagné ce mois-là ?\n",
    "C'est le mois de Novembre avec un pic à 3715537.4414711 ."
   ]
  },
  {
   "cell_type": "code",
   "execution_count": 5,
   "id": "7189a5f5",
   "metadata": {},
   "outputs": [
    {
     "data": {
      "text/html": [
       "<script>\n",
       "var comm = Jupyter.notebook.kernel.comm_manager.new_comm('cancel-stage-cd208983-1fd8-45df-aa2e-eaff4cf455e2', {});\n",
       "\n",
       "function cancelStage(stageId) {\n",
       "  console.log('Cancelling stage ' + stageId);\n",
       "  comm.send({ 'stageId': stageId });\n",
       "}\n",
       "</script>\n",
       "          "
      ]
     },
     "metadata": {},
     "output_type": "display_data"
    },
    {
     "data": {
      "text/html": [
       "<div>\n",
       "  <span style=\"float: left;\">show at cmd4.sc:3</span>\n",
       "</div>\n"
      ]
     },
     "metadata": {},
     "output_type": "display_data"
    },
    {
     "data": {
      "text/html": [
       "<div class=\"progress\">\n",
       "  <div class=\"progress-bar\" role=\"progressbar\" style=\"background-color: blue; width: 100%; word-wrap: normal; white-space: nowrap; text-align: center; color: white\" aria-valuenow=\"100\" aria-valuemin=\"0\" aria-valuemax=\"100\">\n",
       "    12 / 12\n",
       "  </div>\n",
       "  <div class=\"progress-bar\" role=\"progressbar\" style=\"background-color: red; width: 0%\" aria-valuenow=\"0\" aria-valuemin=\"0\" aria-valuemax=\"100\"></div>\n",
       "</div>\n"
      ]
     },
     "metadata": {},
     "output_type": "display_data"
    },
    {
     "data": {
      "text/html": [
       "<div>\n",
       "  <span style=\"float: left;\">show at cmd4.sc:3</span>\n",
       "</div>\n"
      ]
     },
     "metadata": {},
     "output_type": "display_data"
    },
    {
     "data": {
      "text/html": [
       "<div class=\"progress\">\n",
       "  <div class=\"progress-bar\" role=\"progressbar\" style=\"background-color: blue; width: 100%; word-wrap: normal; white-space: nowrap; text-align: center; color: white\" aria-valuenow=\"100\" aria-valuemin=\"0\" aria-valuemax=\"100\">\n",
       "    200 / 200\n",
       "  </div>\n",
       "  <div class=\"progress-bar\" role=\"progressbar\" style=\"background-color: red; width: 0%\" aria-valuenow=\"0\" aria-valuemin=\"0\" aria-valuemax=\"100\"></div>\n",
       "</div>\n"
      ]
     },
     "metadata": {},
     "output_type": "display_data"
    },
    {
     "name": "stdout",
     "output_type": "stream",
     "text": [
      "+-----------------------------------------------+---------------+\n",
      "|month(to_timestamp(`Order Date`, 'MM/dd/yyyy'))|    TotalAmount|\n",
      "+-----------------------------------------------+---------------+\n",
      "|                                             11|3715537.4414711|\n",
      "+-----------------------------------------------+---------------+\n",
      "only showing top 1 row\n",
      "\n"
     ]
    },
    {
     "data": {
      "text/plain": [
       "\u001b[36mresultDf\u001b[39m: \u001b[32mDataset\u001b[39m[\u001b[32mRow\u001b[39m] = [month(to_timestamp(`Order Date`, 'MM/dd/yyyy')): int, TotalAmount: double]"
      ]
     },
     "execution_count": 5,
     "metadata": {},
     "output_type": "execute_result"
    }
   ],
   "source": [
    "//2 Quel mois a été le meilleur en termes de ventes ? Combien a-t-on gagné ce mois-là ?\n",
    "val resultDf= df.groupBy(month(to_timestamp(col(\"Order Date\"), \"MM/dd/yyyy\"))).agg(sum(col(\"Price Each\") * col(\"Quantity Ordered\")).as(\"TotalAmount\")).orderBy(col(\"TotalAmount\").desc)\n",
    "                                   \n",
    " resultDf.show(1)"
   ]
  },
  {
   "cell_type": "markdown",
   "id": "4d524adc",
   "metadata": {},
   "source": [
    "## 3.Quelle ville a enregistré le plus grand nombre de ventes ?\n",
    "C'est la ville de San Francisco"
   ]
  },
  {
   "cell_type": "code",
   "execution_count": 6,
   "id": "3b0c99ee",
   "metadata": {
    "scrolled": false
   },
   "outputs": [
    {
     "data": {
      "text/html": [
       "<div>\n",
       "  <span style=\"float: left;\">show at cmd5.sc:3</span>\n",
       "</div>\n"
      ]
     },
     "metadata": {},
     "output_type": "display_data"
    },
    {
     "data": {
      "text/html": [
       "<div class=\"progress\">\n",
       "  <div class=\"progress-bar\" role=\"progressbar\" style=\"background-color: blue; width: 100%; word-wrap: normal; white-space: nowrap; text-align: center; color: white\" aria-valuenow=\"100\" aria-valuemin=\"0\" aria-valuemax=\"100\">\n",
       "    12 / 12\n",
       "  </div>\n",
       "  <div class=\"progress-bar\" role=\"progressbar\" style=\"background-color: red; width: 0%\" aria-valuenow=\"0\" aria-valuemin=\"0\" aria-valuemax=\"100\"></div>\n",
       "</div>\n"
      ]
     },
     "metadata": {},
     "output_type": "display_data"
    },
    {
     "data": {
      "text/html": [
       "<div>\n",
       "  <span style=\"float: left;\">show at cmd5.sc:3</span>\n",
       "</div>\n"
      ]
     },
     "metadata": {},
     "output_type": "display_data"
    },
    {
     "data": {
      "text/html": [
       "<div class=\"progress\">\n",
       "  <div class=\"progress-bar\" role=\"progressbar\" style=\"background-color: blue; width: 100%; word-wrap: normal; white-space: nowrap; text-align: center; color: white\" aria-valuenow=\"100\" aria-valuemin=\"0\" aria-valuemax=\"100\">\n",
       "    200 / 200\n",
       "  </div>\n",
       "  <div class=\"progress-bar\" role=\"progressbar\" style=\"background-color: red; width: 0%\" aria-valuenow=\"0\" aria-valuemin=\"0\" aria-valuemax=\"100\"></div>\n",
       "</div>\n"
      ]
     },
     "metadata": {},
     "output_type": "display_data"
    },
    {
     "name": "stdout",
     "output_type": "stream",
     "text": [
      "+-----------------------------+----------+\n",
      "|split(Purchase Address, ,)[1]|salesCount|\n",
      "+-----------------------------+----------+\n",
      "|                San Francisco|     50239|\n",
      "+-----------------------------+----------+\n",
      "only showing top 1 row\n",
      "\n"
     ]
    },
    {
     "data": {
      "text/plain": [
       "\u001b[36mresultDf\u001b[39m: \u001b[32mDataset\u001b[39m[\u001b[32mRow\u001b[39m] = [split(Purchase Address, ,)[1]: string, salesCount: bigint]"
      ]
     },
     "execution_count": 6,
     "metadata": {},
     "output_type": "execute_result"
    }
   ],
   "source": [
    "// 3 Quelle ville a enregistré le plus grand nombre de ventes ?\n",
    "val resultDf= df.groupBy(split(col(\"Purchase Address\"),\",\")(1)).agg(sum(col(\"Quantity Ordered\")).alias(\"salesCount\")).orderBy(col(\"salesCount\").desc)\n",
    "                                   \n",
    " resultDf.show(1)"
   ]
  },
  {
   "cell_type": "markdown",
   "id": "c0bf011b",
   "metadata": {},
   "source": [
    "## 4.À quelle heure devraient-ils diffuser des publicités pour maximiser les chances que les clients achètent le produit ?\n",
    "Pour maximiser les chances que les clients achètent ils devraient diffuser des publicités entre 19h et 20h"
   ]
  },
  {
   "cell_type": "code",
   "execution_count": 7,
   "id": "dba800f0",
   "metadata": {},
   "outputs": [
    {
     "data": {
      "text/html": [
       "<div>\n",
       "  <span style=\"float: left;\">show at cmd6.sc:3</span>\n",
       "</div>\n"
      ]
     },
     "metadata": {},
     "output_type": "display_data"
    },
    {
     "data": {
      "text/html": [
       "<div class=\"progress\">\n",
       "  <div class=\"progress-bar\" role=\"progressbar\" style=\"background-color: blue; width: 100%; word-wrap: normal; white-space: nowrap; text-align: center; color: white\" aria-valuenow=\"100\" aria-valuemin=\"0\" aria-valuemax=\"100\">\n",
       "    12 / 12\n",
       "  </div>\n",
       "  <div class=\"progress-bar\" role=\"progressbar\" style=\"background-color: red; width: 0%\" aria-valuenow=\"0\" aria-valuemin=\"0\" aria-valuemax=\"100\"></div>\n",
       "</div>\n"
      ]
     },
     "metadata": {},
     "output_type": "display_data"
    },
    {
     "data": {
      "text/html": [
       "<div>\n",
       "  <span style=\"float: left; word-wrap: normal; white-space: nowrap; text-align: center\">show at cmd6.sc:3</span>\n",
       "  <span style=\"float: right; word-wrap: normal; white-space: nowrap; text-align: center\"><a href=\"#\" onclick=\"cancelStage(5);\">(kill)</a></span>\n",
       "</div>\n",
       "<br>\n"
      ]
     },
     "metadata": {},
     "output_type": "display_data"
    },
    {
     "data": {
      "text/html": [
       "<div class=\"progress\">\n",
       "  <div class=\"progress-bar\" role=\"progressbar\" style=\"background-color: blue; width: 100%; word-wrap: normal; white-space: nowrap; text-align: center; color: white\" aria-valuenow=\"100\" aria-valuemin=\"0\" aria-valuemax=\"100\">\n",
       "    199 + 1 / 200\n",
       "  </div>\n",
       "  <div class=\"progress-bar\" role=\"progressbar\" style=\"background-color: red; width: 1%\" aria-valuenow=\"1\" aria-valuemin=\"0\" aria-valuemax=\"100\"></div>\n",
       "</div>\n"
      ]
     },
     "metadata": {},
     "output_type": "display_data"
    },
    {
     "name": "stdout",
     "output_type": "stream",
     "text": [
      "+----------------------------------------------------+-----+\n",
      "|hour(to_timestamp(`Order Date`, 'MM/dd/yyyy HH:mm'))|count|\n",
      "+----------------------------------------------------+-----+\n",
      "|                                                  19|12905|\n",
      "+----------------------------------------------------+-----+\n",
      "only showing top 1 row\n",
      "\n"
     ]
    },
    {
     "data": {
      "text/plain": [
       "\u001b[36mresultDf\u001b[39m: \u001b[32mDataset\u001b[39m[\u001b[32mRow\u001b[39m] = [hour(to_timestamp(`Order Date`, 'MM/dd/yyyy HH:mm')): int, count: bigint]"
      ]
     },
     "execution_count": 7,
     "metadata": {},
     "output_type": "execute_result"
    }
   ],
   "source": [
    "//4 À quelle heure devraient-ils diffuser des publicités pour maximiser les chances que les clients\n",
    "//achètent le produit ?\n",
    "val resultDf= df.groupBy(hour(to_timestamp(col(\"Order Date\"),\"MM/dd/yyyy HH:mm\"))).count().orderBy(col(\"count\").desc)\n",
    "                                   \n",
    " resultDf.show(1)"
   ]
  },
  {
   "cell_type": "markdown",
   "id": "1d38e7f8",
   "metadata": {},
   "source": [
    "## 5.Quels produits sont le plus souvent vendus ensemble ?\n",
    "Voici les 10 produits les plus vendus ensemble"
   ]
  },
  {
   "cell_type": "code",
   "execution_count": 8,
   "id": "15bf060c",
   "metadata": {},
   "outputs": [
    {
     "data": {
      "text/html": [
       "<div>\n",
       "  <span style=\"float: left;\">run at ThreadPoolExecutor.java:1149</span>\n",
       "</div>\n"
      ]
     },
     "metadata": {},
     "output_type": "display_data"
    },
    {
     "data": {
      "text/html": [
       "<div class=\"progress\">\n",
       "  <div class=\"progress-bar\" role=\"progressbar\" style=\"background-color: blue; width: 100%; word-wrap: normal; white-space: nowrap; text-align: center; color: white\" aria-valuenow=\"100\" aria-valuemin=\"0\" aria-valuemax=\"100\">\n",
       "    12 / 12\n",
       "  </div>\n",
       "  <div class=\"progress-bar\" role=\"progressbar\" style=\"background-color: red; width: 0%\" aria-valuenow=\"0\" aria-valuemin=\"0\" aria-valuemax=\"100\"></div>\n",
       "</div>\n"
      ]
     },
     "metadata": {},
     "output_type": "display_data"
    },
    {
     "data": {
      "text/html": [
       "<div>\n",
       "  <span style=\"float: left;\">run at ThreadPoolExecutor.java:1149</span>\n",
       "</div>\n"
      ]
     },
     "metadata": {},
     "output_type": "display_data"
    },
    {
     "data": {
      "text/html": [
       "<div class=\"progress\">\n",
       "  <div class=\"progress-bar\" role=\"progressbar\" style=\"background-color: blue; width: 100%; word-wrap: normal; white-space: nowrap; text-align: center; color: white\" aria-valuenow=\"100\" aria-valuemin=\"0\" aria-valuemax=\"100\">\n",
       "    200 / 200\n",
       "  </div>\n",
       "  <div class=\"progress-bar\" role=\"progressbar\" style=\"background-color: red; width: 0%\" aria-valuenow=\"0\" aria-valuemin=\"0\" aria-valuemax=\"100\"></div>\n",
       "</div>\n"
      ]
     },
     "metadata": {},
     "output_type": "display_data"
    },
    {
     "data": {
      "text/html": [
       "<div>\n",
       "  <span style=\"float: left;\">show at cmd7.sc:12</span>\n",
       "</div>\n"
      ]
     },
     "metadata": {},
     "output_type": "display_data"
    },
    {
     "data": {
      "text/html": [
       "<div class=\"progress\">\n",
       "  <div class=\"progress-bar\" role=\"progressbar\" style=\"background-color: blue; width: 100%; word-wrap: normal; white-space: nowrap; text-align: center; color: white\" aria-valuenow=\"100\" aria-valuemin=\"0\" aria-valuemax=\"100\">\n",
       "    12 / 12\n",
       "  </div>\n",
       "  <div class=\"progress-bar\" role=\"progressbar\" style=\"background-color: red; width: 0%\" aria-valuenow=\"0\" aria-valuemin=\"0\" aria-valuemax=\"100\"></div>\n",
       "</div>\n"
      ]
     },
     "metadata": {},
     "output_type": "display_data"
    },
    {
     "data": {
      "text/html": [
       "<div>\n",
       "  <span style=\"float: left;\">show at cmd7.sc:12</span>\n",
       "</div>\n"
      ]
     },
     "metadata": {},
     "output_type": "display_data"
    },
    {
     "data": {
      "text/html": [
       "<div class=\"progress\">\n",
       "  <div class=\"progress-bar\" role=\"progressbar\" style=\"background-color: blue; width: 100%; word-wrap: normal; white-space: nowrap; text-align: center; color: white\" aria-valuenow=\"100\" aria-valuemin=\"0\" aria-valuemax=\"100\">\n",
       "    200 / 200\n",
       "  </div>\n",
       "  <div class=\"progress-bar\" role=\"progressbar\" style=\"background-color: red; width: 0%\" aria-valuenow=\"0\" aria-valuemin=\"0\" aria-valuemax=\"100\"></div>\n",
       "</div>\n"
      ]
     },
     "metadata": {},
     "output_type": "display_data"
    },
    {
     "data": {
      "text/html": [
       "<div>\n",
       "  <span style=\"float: left;\">show at cmd7.sc:12</span>\n",
       "</div>\n"
      ]
     },
     "metadata": {},
     "output_type": "display_data"
    },
    {
     "data": {
      "text/html": [
       "<div class=\"progress\">\n",
       "  <div class=\"progress-bar\" role=\"progressbar\" style=\"background-color: blue; width: 100%; word-wrap: normal; white-space: nowrap; text-align: center; color: white\" aria-valuenow=\"100\" aria-valuemin=\"0\" aria-valuemax=\"100\">\n",
       "    200 / 200\n",
       "  </div>\n",
       "  <div class=\"progress-bar\" role=\"progressbar\" style=\"background-color: red; width: 0%\" aria-valuenow=\"0\" aria-valuemin=\"0\" aria-valuemax=\"100\"></div>\n",
       "</div>\n"
      ]
     },
     "metadata": {},
     "output_type": "display_data"
    },
    {
     "name": "stdout",
     "output_type": "stream",
     "text": [
      "+--------------------+--------------------+-----+\n",
      "|            product1|            product2|count|\n",
      "+--------------------+--------------------+-----+\n",
      "|Lightning Chargin...|              iPhone| 1015|\n",
      "|        Google Phone|USB-C Charging Cable|  999|\n",
      "|    Wired Headphones|              iPhone|  462|\n",
      "|        Google Phone|    Wired Headphones|  423|\n",
      "|Apple Airpods Hea...|              iPhone|  373|\n",
      "|USB-C Charging Cable|     Vareebadd Phone|  368|\n",
      "|Bose SoundSport H...|        Google Phone|  228|\n",
      "|USB-C Charging Cable|    Wired Headphones|  205|\n",
      "|     Vareebadd Phone|    Wired Headphones|  149|\n",
      "|Lightning Chargin...|    Wired Headphones|  129|\n",
      "+--------------------+--------------------+-----+\n",
      "only showing top 10 rows\n",
      "\n"
     ]
    },
    {
     "data": {
      "text/plain": [
       "\u001b[36mtransactionsDF\u001b[39m: \u001b[32mDataFrame\u001b[39m = [Order ID: string, produits: array<string>]\r\n",
       "\u001b[36mexplodedDF\u001b[39m: \u001b[32mDataFrame\u001b[39m = [Order ID: string, produits: array<string> ... 1 more field]\r\n",
       "\u001b[36mproductPairsDF\u001b[39m: \u001b[32mDataFrame\u001b[39m = [product1: string, product2: string]\r\n",
       "\u001b[36mproductPairCountsDF\u001b[39m: \u001b[32mDataset\u001b[39m[\u001b[32mRow\u001b[39m] = [product1: string, product2: string ... 1 more field]"
      ]
     },
     "execution_count": 8,
     "metadata": {},
     "output_type": "execute_result"
    }
   ],
   "source": [
    "//5 Quels produits sont le plus souvent vendus ensemble ?\n",
    "val transactionsDF = df.groupBy(\"Order ID\").agg(collect_list(\"Product\").as(\"produits\"))\n",
    "val explodedDF = transactionsDF.withColumn(\"product\", explode(col(\"produits\")))\n",
    "\n",
    "val productPairsDF = explodedDF.alias(\"df1\")\n",
    "  .join(explodedDF.alias(\"df2\"), col(\"df1.Order ID\") === col(\"df2.Order ID\") && col(\"df1.product\") < col(\"df2.product\"))\n",
    "  .select(col(\"df1.product\").as(\"product1\"), col(\"df2.product\").as(\"product2\"))\n",
    "\n",
    "val productPairCountsDF = productPairsDF.groupBy(\"product1\", \"product2\")\n",
    "  .count()\n",
    "  .orderBy(desc(\"count\"))\n",
    "\n",
    "productPairCountsDF.show(10)"
   ]
  },
  {
   "cell_type": "markdown",
   "id": "ae0f7076",
   "metadata": {},
   "source": [
    "## 6.Quel produit s'est le plus vendu ? Pourquoi pensez-vous qu'il se soit autant vendu ?\n",
    "    Le produit le plus vendu est le cable de chargement usb-c. Ce résultat est compréhensible car c'est un cable adapté à plusieurs types d'appareils(smartphones,tablettes,ordinateurs) et à plusieurs systèmes d'exploitaion(android,apple): Ce qui fait sa popularité.\n"
   ]
  },
  {
   "cell_type": "code",
   "execution_count": null,
   "id": "6e0c96a1",
   "metadata": {},
   "outputs": [
    {
     "data": {
      "text/html": [
       "<div>\n",
       "  <span style=\"float: left; word-wrap: normal; white-space: nowrap; text-align: center\">show at cmd61.sc:2</span>\n",
       "  <span style=\"float: right; word-wrap: normal; white-space: nowrap; text-align: center\"><a href=\"#\" onclick=\"cancelStage(118);\">(kill)</a></span>\n",
       "</div>\n",
       "<br>\n"
      ]
     },
     "metadata": {},
     "output_type": "display_data"
    },
    {
     "data": {
      "text/html": [
       "<div class=\"progress\">\n",
       "  <div class=\"progress-bar\" role=\"progressbar\" style=\"background-color: blue; width: 0%; word-wrap: normal; white-space: nowrap; text-align: center; color: white\" aria-valuenow=\"0\" aria-valuemin=\"0\" aria-valuemax=\"100\">\n",
       "    0 + 1 / 12\n",
       "  </div>\n",
       "  <div class=\"progress-bar\" role=\"progressbar\" style=\"background-color: red; width: 8%\" aria-valuenow=\"8\" aria-valuemin=\"0\" aria-valuemax=\"100\"></div>\n",
       "</div>\n"
      ]
     },
     "metadata": {},
     "output_type": "display_data"
    }
   ],
   "source": [
    "// 6 Quel produit s'est le plus vendu ? Pourquoi pensez-vous qu'il se soit autant vendu ?\n",
    "val mostOrderedProduct= df.groupBy(\"Product\").count().orderBy(col(\"count\").desc)\n",
    "mostOrderedProduct.show(5)"
   ]
  },
  {
   "cell_type": "markdown",
   "id": "edd3d151",
   "metadata": {},
   "source": [
    "## 7.Quelle est la probabilité que les prochains clients commandent un câble de chargement USB-C ?\n",
    "Nous allons calculer la probabilité basée sur les tendances de ventes actuelle du dataset."
   ]
  },
  {
   "cell_type": "code",
   "execution_count": 17,
   "id": "b56b217c",
   "metadata": {},
   "outputs": [
    {
     "data": {
      "text/html": [
       "<div>\n",
       "  <span style=\"float: left;\">count at cmd16.sc:1</span>\n",
       "</div>\n"
      ]
     },
     "metadata": {},
     "output_type": "display_data"
    },
    {
     "data": {
      "text/html": [
       "<div class=\"progress\">\n",
       "  <div class=\"progress-bar\" role=\"progressbar\" style=\"background-color: blue; width: 100%; word-wrap: normal; white-space: nowrap; text-align: center; color: white\" aria-valuenow=\"100\" aria-valuemin=\"0\" aria-valuemax=\"100\">\n",
       "    12 / 12\n",
       "  </div>\n",
       "  <div class=\"progress-bar\" role=\"progressbar\" style=\"background-color: red; width: 0%\" aria-valuenow=\"0\" aria-valuemin=\"0\" aria-valuemax=\"100\"></div>\n",
       "</div>\n"
      ]
     },
     "metadata": {},
     "output_type": "display_data"
    },
    {
     "data": {
      "text/html": [
       "<div>\n",
       "  <span style=\"float: left;\">count at cmd16.sc:1</span>\n",
       "</div>\n"
      ]
     },
     "metadata": {},
     "output_type": "display_data"
    },
    {
     "data": {
      "text/html": [
       "<div class=\"progress\">\n",
       "  <div class=\"progress-bar\" role=\"progressbar\" style=\"background-color: blue; width: 100%; word-wrap: normal; white-space: nowrap; text-align: center; color: white\" aria-valuenow=\"100\" aria-valuemin=\"0\" aria-valuemax=\"100\">\n",
       "    1 / 1\n",
       "  </div>\n",
       "  <div class=\"progress-bar\" role=\"progressbar\" style=\"background-color: red; width: 0%\" aria-valuenow=\"0\" aria-valuemin=\"0\" aria-valuemax=\"100\"></div>\n",
       "</div>\n"
      ]
     },
     "metadata": {},
     "output_type": "display_data"
    },
    {
     "data": {
      "text/html": [
       "<div>\n",
       "  <span style=\"float: left;\">count at cmd16.sc:2</span>\n",
       "</div>\n"
      ]
     },
     "metadata": {},
     "output_type": "display_data"
    },
    {
     "data": {
      "text/html": [
       "<div class=\"progress\">\n",
       "  <div class=\"progress-bar\" role=\"progressbar\" style=\"background-color: blue; width: 100%; word-wrap: normal; white-space: nowrap; text-align: center; color: white\" aria-valuenow=\"100\" aria-valuemin=\"0\" aria-valuemax=\"100\">\n",
       "    12 / 12\n",
       "  </div>\n",
       "  <div class=\"progress-bar\" role=\"progressbar\" style=\"background-color: red; width: 0%\" aria-valuenow=\"0\" aria-valuemin=\"0\" aria-valuemax=\"100\"></div>\n",
       "</div>\n"
      ]
     },
     "metadata": {},
     "output_type": "display_data"
    },
    {
     "data": {
      "text/html": [
       "<div>\n",
       "  <span style=\"float: left;\">count at cmd16.sc:2</span>\n",
       "</div>\n"
      ]
     },
     "metadata": {},
     "output_type": "display_data"
    },
    {
     "data": {
      "text/html": [
       "<div class=\"progress\">\n",
       "  <div class=\"progress-bar\" role=\"progressbar\" style=\"background-color: blue; width: 100%; word-wrap: normal; white-space: nowrap; text-align: center; color: white\" aria-valuenow=\"100\" aria-valuemin=\"0\" aria-valuemax=\"100\">\n",
       "    1 / 1\n",
       "  </div>\n",
       "  <div class=\"progress-bar\" role=\"progressbar\" style=\"background-color: red; width: 0%\" aria-valuenow=\"0\" aria-valuemin=\"0\" aria-valuemax=\"100\"></div>\n",
       "</div>\n"
      ]
     },
     "metadata": {},
     "output_type": "display_data"
    },
    {
     "name": "stdout",
     "output_type": "stream",
     "text": [
      "0.11722237088573723"
     ]
    },
    {
     "data": {
      "text/plain": [
       "\u001b[36musbCount\u001b[39m: \u001b[32mDouble\u001b[39m = \u001b[32m21903.0\u001b[39m\r\n",
       "\u001b[36mtotalProducts\u001b[39m: \u001b[32mDouble\u001b[39m = \u001b[32m186850.0\u001b[39m\r\n",
       "\u001b[36mprobabUsbC\u001b[39m: \u001b[32mDouble\u001b[39m = \u001b[32m0.11722237088573723\u001b[39m"
      ]
     },
     "execution_count": 17,
     "metadata": {},
     "output_type": "execute_result"
    }
   ],
   "source": [
    "//7 Quelle est la probabilité que les prochains clients commandent un câble de chargement USB-C ?\n",
    "val usbCount=df.filter(col(\"Product\")===\"USB-C Charging Cable\").count().toDouble\n",
    "val totalProducts=df.count().toDouble\n",
    "val probabUsbC=(usbCount/totalProducts).toDouble\n",
    "print(probabUsbC)"
   ]
  },
  {
   "cell_type": "markdown",
   "id": "53b99757",
   "metadata": {},
   "source": [
    "## 8 Quelle est la probabilité que les prochains clients commandent un iPhone ?"
   ]
  },
  {
   "cell_type": "code",
   "execution_count": 18,
   "id": "0c457ab9",
   "metadata": {},
   "outputs": [
    {
     "data": {
      "text/html": [
       "<div>\n",
       "  <span style=\"float: left;\">count at cmd17.sc:1</span>\n",
       "</div>\n"
      ]
     },
     "metadata": {},
     "output_type": "display_data"
    },
    {
     "data": {
      "text/html": [
       "<div class=\"progress\">\n",
       "  <div class=\"progress-bar\" role=\"progressbar\" style=\"background-color: blue; width: 100%; word-wrap: normal; white-space: nowrap; text-align: center; color: white\" aria-valuenow=\"100\" aria-valuemin=\"0\" aria-valuemax=\"100\">\n",
       "    12 / 12\n",
       "  </div>\n",
       "  <div class=\"progress-bar\" role=\"progressbar\" style=\"background-color: red; width: 0%\" aria-valuenow=\"0\" aria-valuemin=\"0\" aria-valuemax=\"100\"></div>\n",
       "</div>\n"
      ]
     },
     "metadata": {},
     "output_type": "display_data"
    },
    {
     "data": {
      "text/html": [
       "<div>\n",
       "  <span style=\"float: left;\">count at cmd17.sc:1</span>\n",
       "</div>\n"
      ]
     },
     "metadata": {},
     "output_type": "display_data"
    },
    {
     "data": {
      "text/html": [
       "<div class=\"progress\">\n",
       "  <div class=\"progress-bar\" role=\"progressbar\" style=\"background-color: blue; width: 100%; word-wrap: normal; white-space: nowrap; text-align: center; color: white\" aria-valuenow=\"100\" aria-valuemin=\"0\" aria-valuemax=\"100\">\n",
       "    1 / 1\n",
       "  </div>\n",
       "  <div class=\"progress-bar\" role=\"progressbar\" style=\"background-color: red; width: 0%\" aria-valuenow=\"0\" aria-valuemin=\"0\" aria-valuemax=\"100\"></div>\n",
       "</div>\n"
      ]
     },
     "metadata": {},
     "output_type": "display_data"
    },
    {
     "name": "stdout",
     "output_type": "stream",
     "text": [
      "0.03661760770671662"
     ]
    },
    {
     "data": {
      "text/plain": [
       "\u001b[36miphoneCount\u001b[39m: \u001b[32mDouble\u001b[39m = \u001b[32m6842.0\u001b[39m\r\n",
       "\u001b[36mprobabIphone\u001b[39m: \u001b[32mDouble\u001b[39m = \u001b[32m0.03661760770671662\u001b[39m"
      ]
     },
     "execution_count": 18,
     "metadata": {},
     "output_type": "execute_result"
    }
   ],
   "source": [
    "//8 Quelle est la probabilité que les prochains clients commandent un iPhone ?\n",
    "val iphoneCount=df.filter(col(\"Product\")===\"iPhone\").count().toDouble\n",
    "val probabIphone=(iphoneCount/totalProducts).toDouble\n",
    "print(probabIphone)"
   ]
  },
  {
   "cell_type": "markdown",
   "id": "7611fe34",
   "metadata": {},
   "source": [
    "## 9.Quelle est la probabilité que les prochains clients commandent un téléphone Google ?"
   ]
  },
  {
   "cell_type": "code",
   "execution_count": 19,
   "id": "c17f78c3",
   "metadata": {},
   "outputs": [
    {
     "data": {
      "text/html": [
       "<div>\n",
       "  <span style=\"float: left;\">count at cmd18.sc:1</span>\n",
       "</div>\n"
      ]
     },
     "metadata": {},
     "output_type": "display_data"
    },
    {
     "data": {
      "text/html": [
       "<div class=\"progress\">\n",
       "  <div class=\"progress-bar\" role=\"progressbar\" style=\"background-color: blue; width: 100%; word-wrap: normal; white-space: nowrap; text-align: center; color: white\" aria-valuenow=\"100\" aria-valuemin=\"0\" aria-valuemax=\"100\">\n",
       "    12 / 12\n",
       "  </div>\n",
       "  <div class=\"progress-bar\" role=\"progressbar\" style=\"background-color: red; width: 0%\" aria-valuenow=\"0\" aria-valuemin=\"0\" aria-valuemax=\"100\"></div>\n",
       "</div>\n"
      ]
     },
     "metadata": {},
     "output_type": "display_data"
    },
    {
     "data": {
      "text/html": [
       "<div>\n",
       "  <span style=\"float: left;\">count at cmd18.sc:1</span>\n",
       "</div>\n"
      ]
     },
     "metadata": {},
     "output_type": "display_data"
    },
    {
     "data": {
      "text/html": [
       "<div class=\"progress\">\n",
       "  <div class=\"progress-bar\" role=\"progressbar\" style=\"background-color: blue; width: 100%; word-wrap: normal; white-space: nowrap; text-align: center; color: white\" aria-valuenow=\"100\" aria-valuemin=\"0\" aria-valuemax=\"100\">\n",
       "    1 / 1\n",
       "  </div>\n",
       "  <div class=\"progress-bar\" role=\"progressbar\" style=\"background-color: red; width: 0%\" aria-valuenow=\"0\" aria-valuemin=\"0\" aria-valuemax=\"100\"></div>\n",
       "</div>\n"
      ]
     },
     "metadata": {},
     "output_type": "display_data"
    },
    {
     "name": "stdout",
     "output_type": "stream",
     "text": [
      "0.02956917313352957"
     ]
    },
    {
     "data": {
      "text/plain": [
       "\u001b[36mgooglePhoneCount\u001b[39m: \u001b[32mDouble\u001b[39m = \u001b[32m5525.0\u001b[39m\r\n",
       "\u001b[36mprobabGooglePhone\u001b[39m: \u001b[32mDouble\u001b[39m = \u001b[32m0.02956917313352957\u001b[39m"
      ]
     },
     "execution_count": 19,
     "metadata": {},
     "output_type": "execute_result"
    }
   ],
   "source": [
    "// 9 Quelle est la probabilité que les prochains clients commandent un téléphone Google ?\n",
    "val googlePhoneCount=df.filter(col(\"Product\")===\"Google Phone\").count().toDouble\n",
    "val probabGooglePhone=(googlePhoneCount/totalProducts).toDouble\n",
    "print(probabGooglePhone)"
   ]
  },
  {
   "cell_type": "markdown",
   "id": "befbc05c",
   "metadata": {},
   "source": [
    "## 10.Quelle est la probabilité que d'autres personnes commandent des écouteurs filaires ?"
   ]
  },
  {
   "cell_type": "code",
   "execution_count": 20,
   "id": "394dafd0",
   "metadata": {},
   "outputs": [
    {
     "data": {
      "text/html": [
       "<div>\n",
       "  <span style=\"float: left;\">count at cmd19.sc:1</span>\n",
       "</div>\n"
      ]
     },
     "metadata": {},
     "output_type": "display_data"
    },
    {
     "data": {
      "text/html": [
       "<div class=\"progress\">\n",
       "  <div class=\"progress-bar\" role=\"progressbar\" style=\"background-color: blue; width: 100%; word-wrap: normal; white-space: nowrap; text-align: center; color: white\" aria-valuenow=\"100\" aria-valuemin=\"0\" aria-valuemax=\"100\">\n",
       "    12 / 12\n",
       "  </div>\n",
       "  <div class=\"progress-bar\" role=\"progressbar\" style=\"background-color: red; width: 0%\" aria-valuenow=\"0\" aria-valuemin=\"0\" aria-valuemax=\"100\"></div>\n",
       "</div>\n"
      ]
     },
     "metadata": {},
     "output_type": "display_data"
    },
    {
     "data": {
      "text/html": [
       "<div>\n",
       "  <span style=\"float: left;\">count at cmd19.sc:1</span>\n",
       "</div>\n"
      ]
     },
     "metadata": {},
     "output_type": "display_data"
    },
    {
     "data": {
      "text/html": [
       "<div class=\"progress\">\n",
       "  <div class=\"progress-bar\" role=\"progressbar\" style=\"background-color: blue; width: 100%; word-wrap: normal; white-space: nowrap; text-align: center; color: white\" aria-valuenow=\"100\" aria-valuemin=\"0\" aria-valuemax=\"100\">\n",
       "    1 / 1\n",
       "  </div>\n",
       "  <div class=\"progress-bar\" role=\"progressbar\" style=\"background-color: red; width: 0%\" aria-valuenow=\"0\" aria-valuemin=\"0\" aria-valuemax=\"100\"></div>\n",
       "</div>\n"
      ]
     },
     "metadata": {},
     "output_type": "display_data"
    },
    {
     "name": "stdout",
     "output_type": "stream",
     "text": [
      "0.10105432164838106"
     ]
    },
    {
     "data": {
      "text/plain": [
       "\u001b[36mwiredHeadPhonesCount\u001b[39m: \u001b[32mDouble\u001b[39m = \u001b[32m18882.0\u001b[39m\r\n",
       "\u001b[36mprobabWiredHeadPhones\u001b[39m: \u001b[32mDouble\u001b[39m = \u001b[32m0.10105432164838106\u001b[39m"
      ]
     },
     "execution_count": 20,
     "metadata": {},
     "output_type": "execute_result"
    }
   ],
   "source": [
    "// 10 Quelle est la probabilité que d'autres personnes commandent des écouteurs filaires ?\n",
    "val wiredHeadPhonesCount=df.filter(col(\"Product\")===\"Wired Headphones\").count().toDouble\n",
    "val probabWiredHeadPhones=(wiredHeadPhonesCount/totalProducts).toDouble\n",
    "print(probabWiredHeadPhones)"
   ]
  },
  {
   "cell_type": "markdown",
   "id": "7c0ac1eb",
   "metadata": {},
   "source": [
    "# Proposition un cas d utilisation concret de Machine Learning\n",
    "## Analyse et prévisions de la tendance des ventes en fonction de la période:\n",
    "Cela va permettre à l'interprise d'avoir une connaissance sur la demande du marché et optimiser son stock en fonction. Ainsi, la satisfaction des clients sera améliorée et les ruptures et les pénuries de stock peuvent etre évitées. Ce qui va accroitre les gains de l'entreprise."
   ]
  },
  {
   "cell_type": "markdown",
   "id": "df419079",
   "metadata": {},
   "source": [
    "# Prepocessing des données"
   ]
  },
  {
   "cell_type": "code",
   "execution_count": 21,
   "id": "7141bbec",
   "metadata": {},
   "outputs": [
    {
     "data": {
      "text/html": [
       "<div>\n",
       "  <span style=\"float: left;\">show at cmd20.sc:1</span>\n",
       "</div>\n"
      ]
     },
     "metadata": {},
     "output_type": "display_data"
    },
    {
     "data": {
      "text/html": [
       "<div class=\"progress\">\n",
       "  <div class=\"progress-bar\" role=\"progressbar\" style=\"background-color: blue; width: 100%; word-wrap: normal; white-space: nowrap; text-align: center; color: white\" aria-valuenow=\"100\" aria-valuemin=\"0\" aria-valuemax=\"100\">\n",
       "    1 / 1\n",
       "  </div>\n",
       "  <div class=\"progress-bar\" role=\"progressbar\" style=\"background-color: red; width: 0%\" aria-valuenow=\"0\" aria-valuemin=\"0\" aria-valuemax=\"100\"></div>\n",
       "</div>\n"
      ]
     },
     "metadata": {},
     "output_type": "display_data"
    },
    {
     "name": "stdout",
     "output_type": "stream",
     "text": [
      "+--------+--------------------+----------------+----------+--------------+--------------------+\n",
      "|Order ID|             Product|Quantity Ordered|Price Each|    Order Date|    Purchase Address|\n",
      "+--------+--------------------+----------------+----------+--------------+--------------------+\n",
      "|  141234|              iPhone|               1|     700.0|01/22/19 21:25|944 Walnut St, Bo...|\n",
      "|  141235|Lightning Chargin...|               1|     14.95|01/28/19 14:15|185 Maple St, Por...|\n",
      "|  141236|    Wired Headphones|               2|     11.99|01/17/19 13:33|538 Adams St, San...|\n",
      "|  141237|    27in FHD Monitor|               1|    149.99|01/05/19 20:33|738 10th St, Los ...|\n",
      "|  141238|    Wired Headphones|               1|     11.99|01/25/19 11:59|387 10th St, Aust...|\n",
      "|  141239|AAA Batteries (4-...|               1|      2.99|01/29/19 20:22|775 Willow St, Sa...|\n",
      "|  141240|27in 4K Gaming Mo...|               1|    389.99|01/26/19 12:16|979 Park St, Los ...|\n",
      "|  141241|USB-C Charging Cable|               1|     11.95|01/05/19 12:04|181 6th St, San F...|\n",
      "|  141242|Bose SoundSport H...|               1|     99.99|01/01/19 10:30|867 Willow St, Lo...|\n",
      "|  141243|Apple Airpods Hea...|               1|     150.0|01/22/19 21:20|657 Johnson St, S...|\n",
      "|  141244|Apple Airpods Hea...|               1|     150.0|01/07/19 11:29|492 Walnut St, Sa...|\n",
      "|  141245|  Macbook Pro Laptop|               1|    1700.0|01/31/19 10:12|322 6th St, San F...|\n",
      "|  141246|AAA Batteries (4-...|               3|      2.99|01/09/19 18:57|618 7th St, Los A...|\n",
      "|  141247|    27in FHD Monitor|               1|    149.99|01/25/19 19:19|512 Wilson St, Sa...|\n",
      "|  141248|       Flatscreen TV|               1|     300.0|01/03/19 21:54|363 Spruce St, Au...|\n",
      "|  141249|    27in FHD Monitor|               1|    149.99|01/05/19 17:20|440 Cedar St, Por...|\n",
      "|  141250|     Vareebadd Phone|               1|     400.0|01/10/19 11:20|471 Center St, Lo...|\n",
      "|  141251|Apple Airpods Hea...|               1|     150.0|01/24/19 08:13|414 Walnut St, Bo...|\n",
      "|  141252|USB-C Charging Cable|               1|     11.95|01/30/19 09:28|220 9th St, Los A...|\n",
      "|  141253|AA Batteries (4-p...|               1|      3.84|01/17/19 00:09|385 11th St, Atla...|\n",
      "+--------+--------------------+----------------+----------+--------------+--------------------+\n",
      "only showing top 20 rows\n",
      "\n"
     ]
    }
   ],
   "source": [
    "df.show()"
   ]
  },
  {
   "cell_type": "markdown",
   "id": "d768fc9c",
   "metadata": {},
   "source": [
    "## Calcul du nombre de données manquantes dans chaque colonne"
   ]
  },
  {
   "cell_type": "code",
   "execution_count": 22,
   "id": "e1beb09b",
   "metadata": {},
   "outputs": [
    {
     "data": {
      "text/html": [
       "<div>\n",
       "  <span style=\"float: left;\">show at cmd21.sc:11</span>\n",
       "</div>\n"
      ]
     },
     "metadata": {},
     "output_type": "display_data"
    },
    {
     "data": {
      "text/html": [
       "<div class=\"progress\">\n",
       "  <div class=\"progress-bar\" role=\"progressbar\" style=\"background-color: blue; width: 100%; word-wrap: normal; white-space: nowrap; text-align: center; color: white\" aria-valuenow=\"100\" aria-valuemin=\"0\" aria-valuemax=\"100\">\n",
       "    12 / 12\n",
       "  </div>\n",
       "  <div class=\"progress-bar\" role=\"progressbar\" style=\"background-color: red; width: 0%\" aria-valuenow=\"0\" aria-valuemin=\"0\" aria-valuemax=\"100\"></div>\n",
       "</div>\n"
      ]
     },
     "metadata": {},
     "output_type": "display_data"
    },
    {
     "data": {
      "text/html": [
       "<div>\n",
       "  <span style=\"float: left;\">show at cmd21.sc:11</span>\n",
       "</div>\n"
      ]
     },
     "metadata": {},
     "output_type": "display_data"
    },
    {
     "data": {
      "text/html": [
       "<div class=\"progress\">\n",
       "  <div class=\"progress-bar\" role=\"progressbar\" style=\"background-color: blue; width: 100%; word-wrap: normal; white-space: nowrap; text-align: center; color: white\" aria-valuenow=\"100\" aria-valuemin=\"0\" aria-valuemax=\"100\">\n",
       "    1 / 1\n",
       "  </div>\n",
       "  <div class=\"progress-bar\" role=\"progressbar\" style=\"background-color: red; width: 0%\" aria-valuenow=\"0\" aria-valuemin=\"0\" aria-valuemax=\"100\"></div>\n",
       "</div>\n"
      ]
     },
     "metadata": {},
     "output_type": "display_data"
    },
    {
     "name": "stdout",
     "output_type": "stream",
     "text": [
      "+-------------+---------------+-----------+-------------+------------+--------------+\n",
      "|missing_order|missing_product|missing_qte|missing_price|missing_date|missing_adress|\n",
      "+-------------+---------------+-----------+-------------+------------+--------------+\n",
      "|          900|            900|        900|          900|         900|           900|\n",
      "+-------------+---------------+-----------+-------------+------------+--------------+\n",
      "\n"
     ]
    },
    {
     "data": {
      "text/plain": [
       "\u001b[36mmissingCounts\u001b[39m: \u001b[32mDataFrame\u001b[39m = [missing_order: bigint, missing_product: bigint ... 4 more fields]"
      ]
     },
     "execution_count": 22,
     "metadata": {},
     "output_type": "execute_result"
    }
   ],
   "source": [
    "val missingCounts = annualDf.agg(\n",
    "  sum(when(col(\"Order ID\").isNull || col(\"Order ID\").isNaN, 1).otherwise(0)).alias(\"missing_order\"),\n",
    "  sum(when(col(\"Product\").isNull || col(\"Product\").isNaN, 1).otherwise(0)).alias(\"missing_product\"),\n",
    "  sum(when(col(\"Quantity Ordered\").isNull || col(\"Quantity Ordered\").isNaN, 1).otherwise(0)).alias(\"missing_qte\"),\n",
    "  sum(when(col(\"Price Each\").isNull || col(\"Price Each\").isNaN, 1).otherwise(0)).alias(\"missing_price\"),\n",
    "  sum(when(col(\"Order Date\").isNull || col(\"Order Date\").isNaN, 1).otherwise(0)).alias(\"missing_date\"),\n",
    "  sum(when(col(\"Purchase Address\").isNull || col(\"Purchase Address\").isNaN, 1).otherwise(0)).alias(\"missing_adress\")\n",
    ")\n",
    "\n",
    "// Affichage des résultats\n",
    "missingCounts.show()"
   ]
  },
  {
   "cell_type": "markdown",
   "id": "febde350",
   "metadata": {},
   "source": [
    "## suppression des donnees manquantes\n",
    "Nous avons 900 données manquantes. Ce qui est négligeable comparé au volume de notre dataset(plus de 186000)"
   ]
  },
  {
   "cell_type": "code",
   "execution_count": 5,
   "id": "13857e3d",
   "metadata": {},
   "outputs": [
    {
     "data": {
      "text/html": [
       "<script>\n",
       "var comm = Jupyter.notebook.kernel.comm_manager.new_comm('cancel-stage-43b0321c-2baa-4577-8194-5ff7a62efe8e', {});\n",
       "\n",
       "function cancelStage(stageId) {\n",
       "  console.log('Cancelling stage ' + stageId);\n",
       "  comm.send({ 'stageId': stageId });\n",
       "}\n",
       "</script>\n",
       "          "
      ]
     },
     "metadata": {},
     "output_type": "display_data"
    },
    {
     "data": {
      "text/html": [
       "<div>\n",
       "  <span style=\"float: left;\">show at cmd4.sc:2</span>\n",
       "</div>\n"
      ]
     },
     "metadata": {},
     "output_type": "display_data"
    },
    {
     "data": {
      "text/html": [
       "<div class=\"progress\">\n",
       "  <div class=\"progress-bar\" role=\"progressbar\" style=\"background-color: blue; width: 100%; word-wrap: normal; white-space: nowrap; text-align: center; color: white\" aria-valuenow=\"100\" aria-valuemin=\"0\" aria-valuemax=\"100\">\n",
       "    1 / 1\n",
       "  </div>\n",
       "  <div class=\"progress-bar\" role=\"progressbar\" style=\"background-color: red; width: 0%\" aria-valuenow=\"0\" aria-valuemin=\"0\" aria-valuemax=\"100\"></div>\n",
       "</div>\n"
      ]
     },
     "metadata": {},
     "output_type": "display_data"
    },
    {
     "name": "stdout",
     "output_type": "stream",
     "text": [
      "+--------+--------------------+----------------+----------+--------------+--------------------+\n",
      "|Order ID|             Product|Quantity Ordered|Price Each|    Order Date|    Purchase Address|\n",
      "+--------+--------------------+----------------+----------+--------------+--------------------+\n",
      "|  141234|              iPhone|               1|     700.0|01/22/19 21:25|944 Walnut St, Bo...|\n",
      "|  141235|Lightning Chargin...|               1|     14.95|01/28/19 14:15|185 Maple St, Por...|\n",
      "|  141236|    Wired Headphones|               2|     11.99|01/17/19 13:33|538 Adams St, San...|\n",
      "|  141237|    27in FHD Monitor|               1|    149.99|01/05/19 20:33|738 10th St, Los ...|\n",
      "|  141238|    Wired Headphones|               1|     11.99|01/25/19 11:59|387 10th St, Aust...|\n",
      "|  141239|AAA Batteries (4-...|               1|      2.99|01/29/19 20:22|775 Willow St, Sa...|\n",
      "|  141240|27in 4K Gaming Mo...|               1|    389.99|01/26/19 12:16|979 Park St, Los ...|\n",
      "|  141241|USB-C Charging Cable|               1|     11.95|01/05/19 12:04|181 6th St, San F...|\n",
      "|  141242|Bose SoundSport H...|               1|     99.99|01/01/19 10:30|867 Willow St, Lo...|\n",
      "|  141243|Apple Airpods Hea...|               1|     150.0|01/22/19 21:20|657 Johnson St, S...|\n",
      "|  141244|Apple Airpods Hea...|               1|     150.0|01/07/19 11:29|492 Walnut St, Sa...|\n",
      "|  141245|  Macbook Pro Laptop|               1|    1700.0|01/31/19 10:12|322 6th St, San F...|\n",
      "|  141246|AAA Batteries (4-...|               3|      2.99|01/09/19 18:57|618 7th St, Los A...|\n",
      "|  141247|    27in FHD Monitor|               1|    149.99|01/25/19 19:19|512 Wilson St, Sa...|\n",
      "|  141248|       Flatscreen TV|               1|     300.0|01/03/19 21:54|363 Spruce St, Au...|\n",
      "|  141249|    27in FHD Monitor|               1|    149.99|01/05/19 17:20|440 Cedar St, Por...|\n",
      "|  141250|     Vareebadd Phone|               1|     400.0|01/10/19 11:20|471 Center St, Lo...|\n",
      "|  141251|Apple Airpods Hea...|               1|     150.0|01/24/19 08:13|414 Walnut St, Bo...|\n",
      "|  141252|USB-C Charging Cable|               1|     11.95|01/30/19 09:28|220 9th St, Los A...|\n",
      "|  141253|AA Batteries (4-p...|               1|      3.84|01/17/19 00:09|385 11th St, Atla...|\n",
      "+--------+--------------------+----------------+----------+--------------+--------------------+\n",
      "only showing top 20 rows\n",
      "\n"
     ]
    },
    {
     "data": {
      "text/plain": [
       "\u001b[36mcleanedData\u001b[39m: \u001b[32mDataFrame\u001b[39m = [Order ID: string, Product: string ... 4 more fields]"
      ]
     },
     "execution_count": 5,
     "metadata": {},
     "output_type": "execute_result"
    }
   ],
   "source": [
    "val cleanedData = annualDf.na.drop()\n",
    " cleanedData.show()"
   ]
  },
  {
   "cell_type": "markdown",
   "id": "28bb1c05",
   "metadata": {},
   "source": [
    "## Vérification après suppression"
   ]
  },
  {
   "cell_type": "code",
   "execution_count": 8,
   "id": "8798d6fa",
   "metadata": {},
   "outputs": [
    {
     "data": {
      "text/html": [
       "<div>\n",
       "  <span style=\"float: left;\">show at cmd7.sc:9</span>\n",
       "</div>\n"
      ]
     },
     "metadata": {},
     "output_type": "display_data"
    },
    {
     "data": {
      "text/html": [
       "<div class=\"progress\">\n",
       "  <div class=\"progress-bar\" role=\"progressbar\" style=\"background-color: blue; width: 100%; word-wrap: normal; white-space: nowrap; text-align: center; color: white\" aria-valuenow=\"100\" aria-valuemin=\"0\" aria-valuemax=\"100\">\n",
       "    12 / 12\n",
       "  </div>\n",
       "  <div class=\"progress-bar\" role=\"progressbar\" style=\"background-color: red; width: 0%\" aria-valuenow=\"0\" aria-valuemin=\"0\" aria-valuemax=\"100\"></div>\n",
       "</div>\n"
      ]
     },
     "metadata": {},
     "output_type": "display_data"
    },
    {
     "data": {
      "text/html": [
       "<div>\n",
       "  <span style=\"float: left;\">show at cmd7.sc:9</span>\n",
       "</div>\n"
      ]
     },
     "metadata": {},
     "output_type": "display_data"
    },
    {
     "data": {
      "text/html": [
       "<div class=\"progress\">\n",
       "  <div class=\"progress-bar\" role=\"progressbar\" style=\"background-color: blue; width: 100%; word-wrap: normal; white-space: nowrap; text-align: center; color: white\" aria-valuenow=\"100\" aria-valuemin=\"0\" aria-valuemax=\"100\">\n",
       "    1 / 1\n",
       "  </div>\n",
       "  <div class=\"progress-bar\" role=\"progressbar\" style=\"background-color: red; width: 0%\" aria-valuenow=\"0\" aria-valuemin=\"0\" aria-valuemax=\"100\"></div>\n",
       "</div>\n"
      ]
     },
     "metadata": {},
     "output_type": "display_data"
    },
    {
     "name": "stdout",
     "output_type": "stream",
     "text": [
      "+-------------+---------------+-----------+-------------+------------+--------------+\n",
      "|missing_order|missing_product|missing_qte|missing_price|missing_date|missing_adress|\n",
      "+-------------+---------------+-----------+-------------+------------+--------------+\n",
      "|            0|              0|          0|            0|           0|             0|\n",
      "+-------------+---------------+-----------+-------------+------------+--------------+\n",
      "\n"
     ]
    },
    {
     "data": {
      "text/plain": [
       "\u001b[36mmissingCountsAfterClean\u001b[39m: \u001b[32mDataFrame\u001b[39m = [missing_order: bigint, missing_product: bigint ... 4 more fields]"
      ]
     },
     "execution_count": 8,
     "metadata": {},
     "output_type": "execute_result"
    }
   ],
   "source": [
    "val missingCountsAfterClean = cleanedData.agg(\n",
    "  sum(when(col(\"Order ID\").isNull || col(\"Order ID\").isNaN, 1).otherwise(0)).alias(\"missing_order\"),\n",
    "  sum(when(col(\"Product\").isNull || col(\"Product\").isNaN, 1).otherwise(0)).alias(\"missing_product\"),\n",
    "  sum(when(col(\"Quantity Ordered\").isNull || col(\"Quantity Ordered\").isNaN, 1).otherwise(0)).alias(\"missing_qte\"),\n",
    "  sum(when(col(\"Price Each\").isNull || col(\"Price Each\").isNaN, 1).otherwise(0)).alias(\"missing_price\"),\n",
    "  sum(when(col(\"Order Date\").isNull || col(\"Order Date\").isNaN, 1).otherwise(0)).alias(\"missing_date\"),\n",
    "  sum(when(col(\"Purchase Address\").isNull || col(\"Purchase Address\").isNaN, 1).otherwise(0)).alias(\"missing_adress\")\n",
    ")\n",
    " missingCountsAfterClean.show()"
   ]
  },
  {
   "cell_type": "markdown",
   "id": "07b3b5eb",
   "metadata": {},
   "source": [
    "## Agrégation des données de ventes en fonction du mois"
   ]
  },
  {
   "cell_type": "code",
   "execution_count": 6,
   "id": "1abdb714",
   "metadata": {},
   "outputs": [
    {
     "data": {
      "text/html": [
       "<div>\n",
       "  <span style=\"float: left;\">show at cmd5.sc:2</span>\n",
       "</div>\n"
      ]
     },
     "metadata": {},
     "output_type": "display_data"
    },
    {
     "data": {
      "text/html": [
       "<div class=\"progress\">\n",
       "  <div class=\"progress-bar\" role=\"progressbar\" style=\"background-color: blue; width: 100%; word-wrap: normal; white-space: nowrap; text-align: center; color: white\" aria-valuenow=\"100\" aria-valuemin=\"0\" aria-valuemax=\"100\">\n",
       "    12 / 12\n",
       "  </div>\n",
       "  <div class=\"progress-bar\" role=\"progressbar\" style=\"background-color: red; width: 0%\" aria-valuenow=\"0\" aria-valuemin=\"0\" aria-valuemax=\"100\"></div>\n",
       "</div>\n"
      ]
     },
     "metadata": {},
     "output_type": "display_data"
    },
    {
     "data": {
      "text/html": [
       "<div>\n",
       "  <span style=\"float: left;\">show at cmd5.sc:2</span>\n",
       "</div>\n"
      ]
     },
     "metadata": {},
     "output_type": "display_data"
    },
    {
     "data": {
      "text/html": [
       "<div class=\"progress\">\n",
       "  <div class=\"progress-bar\" role=\"progressbar\" style=\"background-color: blue; width: 100%; word-wrap: normal; white-space: nowrap; text-align: center; color: white\" aria-valuenow=\"100\" aria-valuemin=\"0\" aria-valuemax=\"100\">\n",
       "    200 / 200\n",
       "  </div>\n",
       "  <div class=\"progress-bar\" role=\"progressbar\" style=\"background-color: red; width: 0%\" aria-valuenow=\"0\" aria-valuemin=\"0\" aria-valuemax=\"100\"></div>\n",
       "</div>\n"
      ]
     },
     "metadata": {},
     "output_type": "display_data"
    },
    {
     "name": "stdout",
     "output_type": "stream",
     "text": [
      "+-----+------------------+\n",
      "|month|       salesAmount|\n",
      "+-----+------------------+\n",
      "|    1|2065599.3996958733|\n",
      "|    2|2345457.7183713913|\n",
      "|    3|3043415.1442615986|\n",
      "|    4| 3320523.313942671|\n",
      "|    5|2943146.8557178974|\n",
      "|    6|2553346.2173449993|\n",
      "|    7| 2532465.747330904|\n",
      "|    8| 2192137.809127569|\n",
      "|    9| 2674799.235773325|\n",
      "|   10| 3587664.421559572|\n",
      "|   11|   3715537.4414711|\n",
      "|   12| 3517942.491746187|\n",
      "+-----+------------------+\n",
      "\n"
     ]
    },
    {
     "data": {
      "text/plain": [
       "\u001b[36mMonthLyData\u001b[39m: \u001b[32mDataset\u001b[39m[\u001b[32mRow\u001b[39m] = [month: int, salesAmount: double]"
      ]
     },
     "execution_count": 6,
     "metadata": {},
     "output_type": "execute_result"
    }
   ],
   "source": [
    "val MonthLyData=cleanedData.groupBy(month(to_timestamp(col(\"Order Date\"),\"MM/dd/yyyy\")).alias(\"month\")).agg(sum(col(\"Price Each\") * col(\"Quantity Ordered\")).alias(\"salesAmount\")).orderBy(col(\"month\"))\n",
    "MonthLyData.show()"
   ]
  },
  {
   "cell_type": "markdown",
   "id": "ae3232b5",
   "metadata": {},
   "source": [
    "# Modélisation"
   ]
  },
  {
   "cell_type": "markdown",
   "id": "6c57ac49",
   "metadata": {},
   "source": [
    "## Séparation entre données de test et données d entrainement"
   ]
  },
  {
   "cell_type": "code",
   "execution_count": 23,
   "id": "e334a8ba",
   "metadata": {},
   "outputs": [
    {
     "data": {
      "text/plain": [
       "\u001b[36mtrainData\u001b[39m: \u001b[32mDataset\u001b[39m[\u001b[32mRow\u001b[39m] = [month: int, salesAmount: double]\r\n",
       "\u001b[36mtestData\u001b[39m: \u001b[32mDataset\u001b[39m[\u001b[32mRow\u001b[39m] = [month: int, salesAmount: double]"
      ]
     },
     "execution_count": 23,
     "metadata": {},
     "output_type": "execute_result"
    }
   ],
   "source": [
    "val Array(trainData, testData) = MonthLyData.randomSplit(Array(0.8, 0.2), seed = 42)"
   ]
  },
  {
   "cell_type": "markdown",
   "id": "25d551a2",
   "metadata": {},
   "source": [
    "## Préparation des données pour l entraînement du modèle de régression linéaire"
   ]
  },
  {
   "cell_type": "code",
   "execution_count": 24,
   "id": "db1842af",
   "metadata": {},
   "outputs": [
    {
     "data": {
      "text/plain": [
       "\u001b[36massembler\u001b[39m: \u001b[32mVectorAssembler\u001b[39m = vecAssembler_4385bbf4eaa5\r\n",
       "\u001b[36massembledData\u001b[39m: \u001b[32mDataFrame\u001b[39m = [month: int, salesAmount: double ... 1 more field]"
      ]
     },
     "execution_count": 24,
     "metadata": {},
     "output_type": "execute_result"
    }
   ],
   "source": [
    "val assembler = new VectorAssembler()\n",
    "  .setInputCols(Array(\"month\"))\n",
    "  .setOutputCol(\"features\")\n",
    "val assembledData = assembler.transform(trainData)\n"
   ]
  },
  {
   "cell_type": "markdown",
   "id": "6d576e02",
   "metadata": {},
   "source": [
    "## Entraînement du modèle"
   ]
  },
  {
   "cell_type": "code",
   "execution_count": 25,
   "id": "4d40225a",
   "metadata": {},
   "outputs": [
    {
     "data": {
      "text/html": [
       "<div>\n",
       "  <span style=\"float: left;\">first at LinearRegression.scala:322</span>\n",
       "</div>\n"
      ]
     },
     "metadata": {},
     "output_type": "display_data"
    },
    {
     "data": {
      "text/html": [
       "<div class=\"progress\">\n",
       "  <div class=\"progress-bar\" role=\"progressbar\" style=\"background-color: blue; width: 100%; word-wrap: normal; white-space: nowrap; text-align: center; color: white\" aria-valuenow=\"100\" aria-valuemin=\"0\" aria-valuemax=\"100\">\n",
       "    12 / 12\n",
       "  </div>\n",
       "  <div class=\"progress-bar\" role=\"progressbar\" style=\"background-color: red; width: 0%\" aria-valuenow=\"0\" aria-valuemin=\"0\" aria-valuemax=\"100\"></div>\n",
       "</div>\n"
      ]
     },
     "metadata": {},
     "output_type": "display_data"
    },
    {
     "data": {
      "text/html": [
       "<div>\n",
       "  <span style=\"float: left;\">first at LinearRegression.scala:322</span>\n",
       "</div>\n"
      ]
     },
     "metadata": {},
     "output_type": "display_data"
    },
    {
     "data": {
      "text/html": [
       "<div class=\"progress\">\n",
       "  <div class=\"progress-bar\" role=\"progressbar\" style=\"background-color: blue; width: 100%; word-wrap: normal; white-space: nowrap; text-align: center; color: white\" aria-valuenow=\"100\" aria-valuemin=\"0\" aria-valuemax=\"100\">\n",
       "    1 / 1\n",
       "  </div>\n",
       "  <div class=\"progress-bar\" role=\"progressbar\" style=\"background-color: red; width: 0%\" aria-valuenow=\"0\" aria-valuemin=\"0\" aria-valuemax=\"100\"></div>\n",
       "</div>\n"
      ]
     },
     "metadata": {},
     "output_type": "display_data"
    },
    {
     "data": {
      "text/html": [
       "<div>\n",
       "  <span style=\"float: left;\">first at LinearRegression.scala:322</span>\n",
       "</div>\n"
      ]
     },
     "metadata": {},
     "output_type": "display_data"
    },
    {
     "data": {
      "text/html": [
       "<div class=\"progress\">\n",
       "  <div class=\"progress-bar\" role=\"progressbar\" style=\"background-color: blue; width: 100%; word-wrap: normal; white-space: nowrap; text-align: center; color: white\" aria-valuenow=\"100\" aria-valuemin=\"0\" aria-valuemax=\"100\">\n",
       "    4 / 4\n",
       "  </div>\n",
       "  <div class=\"progress-bar\" role=\"progressbar\" style=\"background-color: red; width: 0%\" aria-valuenow=\"0\" aria-valuemin=\"0\" aria-valuemax=\"100\"></div>\n",
       "</div>\n"
      ]
     },
     "metadata": {},
     "output_type": "display_data"
    },
    {
     "data": {
      "text/html": [
       "<div>\n",
       "  <span style=\"float: left;\">first at LinearRegression.scala:322</span>\n",
       "</div>\n"
      ]
     },
     "metadata": {},
     "output_type": "display_data"
    },
    {
     "data": {
      "text/html": [
       "<div class=\"progress\">\n",
       "  <div class=\"progress-bar\" role=\"progressbar\" style=\"background-color: blue; width: 100%; word-wrap: normal; white-space: nowrap; text-align: center; color: white\" aria-valuenow=\"100\" aria-valuemin=\"0\" aria-valuemax=\"100\">\n",
       "    20 / 20\n",
       "  </div>\n",
       "  <div class=\"progress-bar\" role=\"progressbar\" style=\"background-color: red; width: 0%\" aria-valuenow=\"0\" aria-valuemin=\"0\" aria-valuemax=\"100\"></div>\n",
       "</div>\n"
      ]
     },
     "metadata": {},
     "output_type": "display_data"
    },
    {
     "name": "stderr",
     "output_type": "stream",
     "text": [
      "23/05/27 15:47:28 WARN Instrumentation: [e834fa0e] regParam is zero, which might cause numerical instability and overfitting.\r\n"
     ]
    },
    {
     "data": {
      "text/html": [
       "<div>\n",
       "  <span style=\"float: left;\">rdd at LinearRegression.scala:326</span>\n",
       "</div>\n"
      ]
     },
     "metadata": {},
     "output_type": "display_data"
    },
    {
     "data": {
      "text/html": [
       "<div class=\"progress\">\n",
       "  <div class=\"progress-bar\" role=\"progressbar\" style=\"background-color: blue; width: 100%; word-wrap: normal; white-space: nowrap; text-align: center; color: white\" aria-valuenow=\"100\" aria-valuemin=\"0\" aria-valuemax=\"100\">\n",
       "    12 / 12\n",
       "  </div>\n",
       "  <div class=\"progress-bar\" role=\"progressbar\" style=\"background-color: red; width: 0%\" aria-valuenow=\"0\" aria-valuemin=\"0\" aria-valuemax=\"100\"></div>\n",
       "</div>\n"
      ]
     },
     "metadata": {},
     "output_type": "display_data"
    },
    {
     "data": {
      "text/html": [
       "<div>\n",
       "  <span style=\"float: left;\">treeAggregate at WeightedLeastSquares.scala:105</span>\n",
       "</div>\n"
      ]
     },
     "metadata": {},
     "output_type": "display_data"
    },
    {
     "data": {
      "text/html": [
       "<div class=\"progress\">\n",
       "  <div class=\"progress-bar\" role=\"progressbar\" style=\"background-color: blue; width: 100%; word-wrap: normal; white-space: nowrap; text-align: center; color: white\" aria-valuenow=\"100\" aria-valuemin=\"0\" aria-valuemax=\"100\">\n",
       "    200 / 200\n",
       "  </div>\n",
       "  <div class=\"progress-bar\" role=\"progressbar\" style=\"background-color: red; width: 0%\" aria-valuenow=\"0\" aria-valuemin=\"0\" aria-valuemax=\"100\"></div>\n",
       "</div>\n"
      ]
     },
     "metadata": {},
     "output_type": "display_data"
    },
    {
     "data": {
      "text/html": [
       "<div>\n",
       "  <span style=\"float: left;\">treeAggregate at WeightedLeastSquares.scala:105</span>\n",
       "</div>\n"
      ]
     },
     "metadata": {},
     "output_type": "display_data"
    },
    {
     "data": {
      "text/html": [
       "<div class=\"progress\">\n",
       "  <div class=\"progress-bar\" role=\"progressbar\" style=\"background-color: blue; width: 100%; word-wrap: normal; white-space: nowrap; text-align: center; color: white\" aria-valuenow=\"100\" aria-valuemin=\"0\" aria-valuemax=\"100\">\n",
       "    13 / 13\n",
       "  </div>\n",
       "  <div class=\"progress-bar\" role=\"progressbar\" style=\"background-color: red; width: 0%\" aria-valuenow=\"0\" aria-valuemin=\"0\" aria-valuemax=\"100\"></div>\n",
       "</div>\n"
      ]
     },
     "metadata": {},
     "output_type": "display_data"
    },
    {
     "data": {
      "text/html": [
       "<div>\n",
       "  <span style=\"float: left;\">rdd at LinearRegression.scala:872</span>\n",
       "</div>\n"
      ]
     },
     "metadata": {},
     "output_type": "display_data"
    },
    {
     "data": {
      "text/html": [
       "<div class=\"progress\">\n",
       "  <div class=\"progress-bar\" role=\"progressbar\" style=\"background-color: blue; width: 100%; word-wrap: normal; white-space: nowrap; text-align: center; color: white\" aria-valuenow=\"100\" aria-valuemin=\"0\" aria-valuemax=\"100\">\n",
       "    12 / 12\n",
       "  </div>\n",
       "  <div class=\"progress-bar\" role=\"progressbar\" style=\"background-color: red; width: 0%\" aria-valuenow=\"0\" aria-valuemin=\"0\" aria-valuemax=\"100\"></div>\n",
       "</div>\n"
      ]
     },
     "metadata": {},
     "output_type": "display_data"
    },
    {
     "data": {
      "text/html": [
       "<div>\n",
       "  <span style=\"float: left;\">treeAggregate at RegressionMetrics.scala:57</span>\n",
       "</div>\n"
      ]
     },
     "metadata": {},
     "output_type": "display_data"
    },
    {
     "data": {
      "text/html": [
       "<div class=\"progress\">\n",
       "  <div class=\"progress-bar\" role=\"progressbar\" style=\"background-color: blue; width: 100%; word-wrap: normal; white-space: nowrap; text-align: center; color: white\" aria-valuenow=\"100\" aria-valuemin=\"0\" aria-valuemax=\"100\">\n",
       "    200 / 200\n",
       "  </div>\n",
       "  <div class=\"progress-bar\" role=\"progressbar\" style=\"background-color: red; width: 0%\" aria-valuenow=\"0\" aria-valuemin=\"0\" aria-valuemax=\"100\"></div>\n",
       "</div>\n"
      ]
     },
     "metadata": {},
     "output_type": "display_data"
    },
    {
     "data": {
      "text/html": [
       "<div>\n",
       "  <span style=\"float: left;\">treeAggregate at RegressionMetrics.scala:57</span>\n",
       "</div>\n"
      ]
     },
     "metadata": {},
     "output_type": "display_data"
    },
    {
     "data": {
      "text/html": [
       "<div class=\"progress\">\n",
       "  <div class=\"progress-bar\" role=\"progressbar\" style=\"background-color: blue; width: 100%; word-wrap: normal; white-space: nowrap; text-align: center; color: white\" aria-valuenow=\"100\" aria-valuemin=\"0\" aria-valuemax=\"100\">\n",
       "    13 / 13\n",
       "  </div>\n",
       "  <div class=\"progress-bar\" role=\"progressbar\" style=\"background-color: red; width: 0%\" aria-valuenow=\"0\" aria-valuemin=\"0\" aria-valuemax=\"100\"></div>\n",
       "</div>\n"
      ]
     },
     "metadata": {},
     "output_type": "display_data"
    },
    {
     "data": {
      "text/html": [
       "<div>\n",
       "  <span style=\"float: left;\">sum at RegressionMetrics.scala:69</span>\n",
       "</div>\n"
      ]
     },
     "metadata": {},
     "output_type": "display_data"
    },
    {
     "data": {
      "text/html": [
       "<div class=\"progress\">\n",
       "  <div class=\"progress-bar\" role=\"progressbar\" style=\"background-color: blue; width: 100%; word-wrap: normal; white-space: nowrap; text-align: center; color: white\" aria-valuenow=\"100\" aria-valuemin=\"0\" aria-valuemax=\"100\">\n",
       "    200 / 200\n",
       "  </div>\n",
       "  <div class=\"progress-bar\" role=\"progressbar\" style=\"background-color: red; width: 0%\" aria-valuenow=\"0\" aria-valuemin=\"0\" aria-valuemax=\"100\"></div>\n",
       "</div>\n"
      ]
     },
     "metadata": {},
     "output_type": "display_data"
    },
    {
     "data": {
      "text/html": [
       "<div>\n",
       "  <span style=\"float: left;\">count at LinearRegression.scala:953</span>\n",
       "</div>\n"
      ]
     },
     "metadata": {},
     "output_type": "display_data"
    },
    {
     "data": {
      "text/html": [
       "<div class=\"progress\">\n",
       "  <div class=\"progress-bar\" role=\"progressbar\" style=\"background-color: blue; width: 100%; word-wrap: normal; white-space: nowrap; text-align: center; color: white\" aria-valuenow=\"100\" aria-valuemin=\"0\" aria-valuemax=\"100\">\n",
       "    12 / 12\n",
       "  </div>\n",
       "  <div class=\"progress-bar\" role=\"progressbar\" style=\"background-color: red; width: 0%\" aria-valuenow=\"0\" aria-valuemin=\"0\" aria-valuemax=\"100\"></div>\n",
       "</div>\n"
      ]
     },
     "metadata": {},
     "output_type": "display_data"
    },
    {
     "data": {
      "text/html": [
       "<div>\n",
       "  <span style=\"float: left;\">count at LinearRegression.scala:953</span>\n",
       "</div>\n"
      ]
     },
     "metadata": {},
     "output_type": "display_data"
    },
    {
     "data": {
      "text/html": [
       "<div class=\"progress\">\n",
       "  <div class=\"progress-bar\" role=\"progressbar\" style=\"background-color: blue; width: 100%; word-wrap: normal; white-space: nowrap; text-align: center; color: white\" aria-valuenow=\"100\" aria-valuemin=\"0\" aria-valuemax=\"100\">\n",
       "    200 / 200\n",
       "  </div>\n",
       "  <div class=\"progress-bar\" role=\"progressbar\" style=\"background-color: red; width: 0%\" aria-valuenow=\"0\" aria-valuemin=\"0\" aria-valuemax=\"100\"></div>\n",
       "</div>\n"
      ]
     },
     "metadata": {},
     "output_type": "display_data"
    },
    {
     "data": {
      "text/html": [
       "<div>\n",
       "  <span style=\"float: left;\">count at LinearRegression.scala:953</span>\n",
       "</div>\n"
      ]
     },
     "metadata": {},
     "output_type": "display_data"
    },
    {
     "data": {
      "text/html": [
       "<div class=\"progress\">\n",
       "  <div class=\"progress-bar\" role=\"progressbar\" style=\"background-color: blue; width: 100%; word-wrap: normal; white-space: nowrap; text-align: center; color: white\" aria-valuenow=\"100\" aria-valuemin=\"0\" aria-valuemax=\"100\">\n",
       "    1 / 1\n",
       "  </div>\n",
       "  <div class=\"progress-bar\" role=\"progressbar\" style=\"background-color: red; width: 0%\" aria-valuenow=\"0\" aria-valuemin=\"0\" aria-valuemax=\"100\"></div>\n",
       "</div>\n"
      ]
     },
     "metadata": {},
     "output_type": "display_data"
    },
    {
     "data": {
      "text/plain": [
       "\u001b[36mlr\u001b[39m: \u001b[32mLinearRegression\u001b[39m = linReg_b0e8ca9175c4\r\n",
       "\u001b[36mlrModel\u001b[39m: \u001b[32morg\u001b[39m.\u001b[32mapache\u001b[39m.\u001b[32mspark\u001b[39m.\u001b[32mml\u001b[39m.\u001b[32mregression\u001b[39m.\u001b[32mLinearRegressionModel\u001b[39m = linReg_b0e8ca9175c4"
      ]
     },
     "execution_count": 25,
     "metadata": {},
     "output_type": "execute_result"
    }
   ],
   "source": [
    "val lr = new LinearRegression()\n",
    "  .setLabelCol(\"salesAmount\")\n",
    ".setFeaturesCol(\"features\")\n",
    "\n",
    "val lrModel = lr.fit(assembledData)"
   ]
  },
  {
   "cell_type": "markdown",
   "id": "5df5328c",
   "metadata": {},
   "source": [
    "## coefficients et intercept du modèle"
   ]
  },
  {
   "cell_type": "code",
   "execution_count": 26,
   "id": "3ed2e1c5",
   "metadata": {},
   "outputs": [
    {
     "name": "stdout",
     "output_type": "stream",
     "text": [
      "Coefficients: [107885.07801221141]\n",
      "Intercept: 2122755.223881867\n"
     ]
    }
   ],
   "source": [
    "println(s\"Coefficients: ${lrModel.coefficients}\")\n",
    "println(s\"Intercept: ${lrModel.intercept}\")\n"
   ]
  },
  {
   "cell_type": "markdown",
   "id": "ce6209a8",
   "metadata": {},
   "source": [
    "## Prédictions"
   ]
  },
  {
   "cell_type": "code",
   "execution_count": 27,
   "id": "23c4cf3e",
   "metadata": {},
   "outputs": [
    {
     "data": {
      "text/plain": [
       "\u001b[36mtestDataFeatures\u001b[39m: \u001b[32mDataFrame\u001b[39m = [month: int, salesAmount: double ... 1 more field]\r\n",
       "\u001b[36mtestPredictions\u001b[39m: \u001b[32mDataFrame\u001b[39m = [month: int, salesAmount: double ... 2 more fields]\r\n",
       "\u001b[36mfutureMonths\u001b[39m: \u001b[32mDataFrame\u001b[39m = [month: bigint]\r\n",
       "\u001b[36mfutureData\u001b[39m: \u001b[32mDataFrame\u001b[39m = [month: bigint, features: vector]\r\n",
       "\u001b[36mpredictions\u001b[39m: \u001b[32mDataFrame\u001b[39m = [month: bigint, features: vector ... 1 more field]"
      ]
     },
     "execution_count": 27,
     "metadata": {},
     "output_type": "execute_result"
    }
   ],
   "source": [
    "// Faire des prédictions sur les données de test\n",
    "val testDataFeatures = assembler.transform(testData)\n",
    "val testPredictions = lrModel.transform(testDataFeatures)\n",
    "\n",
    "// Afficher les prédictions\n",
    "// predictions.select(\"month\", \"prediction\").show()\n",
    "// Faire des prévisions pour les prochains mois\n",
    "val futureMonths = sparkSession.range(1, 12).toDF(\"month\")\n",
    "val futureData = assembler.transform(futureMonths)\n",
    "val predictions = lrModel.transform(futureData)"
   ]
  },
  {
   "cell_type": "markdown",
   "id": "ddf2d7df",
   "metadata": {},
   "source": [
    "## Evaluation"
   ]
  },
  {
   "cell_type": "code",
   "execution_count": 28,
   "id": "254272d0",
   "metadata": {},
   "outputs": [
    {
     "data": {
      "text/html": [
       "<div>\n",
       "  <span style=\"float: left;\">rdd at RegressionEvaluator.scala:81</span>\n",
       "</div>\n"
      ]
     },
     "metadata": {},
     "output_type": "display_data"
    },
    {
     "data": {
      "text/html": [
       "<div class=\"progress\">\n",
       "  <div class=\"progress-bar\" role=\"progressbar\" style=\"background-color: blue; width: 100%; word-wrap: normal; white-space: nowrap; text-align: center; color: white\" aria-valuenow=\"100\" aria-valuemin=\"0\" aria-valuemax=\"100\">\n",
       "    12 / 12\n",
       "  </div>\n",
       "  <div class=\"progress-bar\" role=\"progressbar\" style=\"background-color: red; width: 0%\" aria-valuenow=\"0\" aria-valuemin=\"0\" aria-valuemax=\"100\"></div>\n",
       "</div>\n"
      ]
     },
     "metadata": {},
     "output_type": "display_data"
    },
    {
     "data": {
      "text/html": [
       "<div>\n",
       "  <span style=\"float: left;\">treeAggregate at RegressionMetrics.scala:57</span>\n",
       "</div>\n"
      ]
     },
     "metadata": {},
     "output_type": "display_data"
    },
    {
     "data": {
      "text/html": [
       "<div class=\"progress\">\n",
       "  <div class=\"progress-bar\" role=\"progressbar\" style=\"background-color: blue; width: 100%; word-wrap: normal; white-space: nowrap; text-align: center; color: white\" aria-valuenow=\"100\" aria-valuemin=\"0\" aria-valuemax=\"100\">\n",
       "    200 / 200\n",
       "  </div>\n",
       "  <div class=\"progress-bar\" role=\"progressbar\" style=\"background-color: red; width: 0%\" aria-valuenow=\"0\" aria-valuemin=\"0\" aria-valuemax=\"100\"></div>\n",
       "</div>\n"
      ]
     },
     "metadata": {},
     "output_type": "display_data"
    },
    {
     "data": {
      "text/html": [
       "<div>\n",
       "  <span style=\"float: left;\">treeAggregate at RegressionMetrics.scala:57</span>\n",
       "</div>\n"
      ]
     },
     "metadata": {},
     "output_type": "display_data"
    },
    {
     "data": {
      "text/html": [
       "<div class=\"progress\">\n",
       "  <div class=\"progress-bar\" role=\"progressbar\" style=\"background-color: blue; width: 100%; word-wrap: normal; white-space: nowrap; text-align: center; color: white\" aria-valuenow=\"100\" aria-valuemin=\"0\" aria-valuemax=\"100\">\n",
       "    13 / 13\n",
       "  </div>\n",
       "  <div class=\"progress-bar\" role=\"progressbar\" style=\"background-color: red; width: 0%\" aria-valuenow=\"0\" aria-valuemin=\"0\" aria-valuemax=\"100\"></div>\n",
       "</div>\n"
      ]
     },
     "metadata": {},
     "output_type": "display_data"
    },
    {
     "name": "stdout",
     "output_type": "stream",
     "text": [
      "Root Mean Squared Error (RMSE): 422174.521277762\n"
     ]
    },
    {
     "data": {
      "text/plain": [
       "\u001b[36mevaluator\u001b[39m: \u001b[32mRegressionEvaluator\u001b[39m = regEval_f6a416092c05\r\n",
       "\u001b[36mrmse\u001b[39m: \u001b[32mDouble\u001b[39m = \u001b[32m422174.521277762\u001b[39m"
      ]
     },
     "execution_count": 28,
     "metadata": {},
     "output_type": "execute_result"
    }
   ],
   "source": [
    "// Évaluation des performances du modèle\n",
    "val evaluator = new RegressionEvaluator()\n",
    "  .setLabelCol(\"salesAmount\")\n",
    "  .setPredictionCol(\"prediction\")\n",
    "  .setMetricName(\"rmse\")\n",
    "\n",
    "val rmse = evaluator.evaluate(testPredictions)\n",
    "println(s\"Root Mean Squared Error (RMSE): $rmse\")\n"
   ]
  },
  {
   "cell_type": "code",
   "execution_count": 29,
   "id": "4530b2d8",
   "metadata": {},
   "outputs": [
    {
     "data": {
      "text/html": [
       "<div>\n",
       "  <span style=\"float: left;\">show at cmd28.sc:1</span>\n",
       "</div>\n"
      ]
     },
     "metadata": {},
     "output_type": "display_data"
    },
    {
     "data": {
      "text/html": [
       "<div class=\"progress\">\n",
       "  <div class=\"progress-bar\" role=\"progressbar\" style=\"background-color: blue; width: 100%; word-wrap: normal; white-space: nowrap; text-align: center; color: white\" aria-valuenow=\"100\" aria-valuemin=\"0\" aria-valuemax=\"100\">\n",
       "    1 / 1\n",
       "  </div>\n",
       "  <div class=\"progress-bar\" role=\"progressbar\" style=\"background-color: red; width: 0%\" aria-valuenow=\"0\" aria-valuemin=\"0\" aria-valuemax=\"100\"></div>\n",
       "</div>\n"
      ]
     },
     "metadata": {},
     "output_type": "display_data"
    },
    {
     "data": {
      "text/html": [
       "<div>\n",
       "  <span style=\"float: left;\">show at cmd28.sc:1</span>\n",
       "</div>\n"
      ]
     },
     "metadata": {},
     "output_type": "display_data"
    },
    {
     "data": {
      "text/html": [
       "<div class=\"progress\">\n",
       "  <div class=\"progress-bar\" role=\"progressbar\" style=\"background-color: blue; width: 100%; word-wrap: normal; white-space: nowrap; text-align: center; color: white\" aria-valuenow=\"100\" aria-valuemin=\"0\" aria-valuemax=\"100\">\n",
       "    3 / 3\n",
       "  </div>\n",
       "  <div class=\"progress-bar\" role=\"progressbar\" style=\"background-color: red; width: 0%\" aria-valuenow=\"0\" aria-valuemin=\"0\" aria-valuemax=\"100\"></div>\n",
       "</div>\n"
      ]
     },
     "metadata": {},
     "output_type": "display_data"
    },
    {
     "name": "stdout",
     "output_type": "stream",
     "text": [
      "+-----+--------+------------------+\n",
      "|month|features|        prediction|\n",
      "+-----+--------+------------------+\n",
      "|    1|   [1.0]| 2230640.301894078|\n",
      "|    2|   [2.0]|2338525.3799062897|\n",
      "|    3|   [3.0]| 2446410.457918501|\n",
      "|    4|   [4.0]|2554295.5359307122|\n",
      "|    5|   [5.0]| 2662180.613942924|\n",
      "|    6|   [6.0]| 2770065.691955135|\n",
      "|    7|   [7.0]|2877950.7699673465|\n",
      "|    8|   [8.0]| 2985835.847979558|\n",
      "|    9|   [9.0]|3093720.9259917694|\n",
      "|   10|  [10.0]| 3201606.004003981|\n",
      "|   11|  [11.0]|3309491.0820161924|\n",
      "+-----+--------+------------------+\n",
      "\n"
     ]
    }
   ],
   "source": [
    "// Afficher les prévisions pour les prochains mois\n",
    "predictions.show()"
   ]
  },
  {
   "cell_type": "code",
   "execution_count": 30,
   "id": "f896510e",
   "metadata": {},
   "outputs": [
    {
     "data": {
      "text/html": [
       "<div>\n",
       "  <span style=\"float: left;\">collect at cmd29.sc:2</span>\n",
       "</div>\n"
      ]
     },
     "metadata": {},
     "output_type": "display_data"
    },
    {
     "data": {
      "text/html": [
       "<div class=\"progress\">\n",
       "  <div class=\"progress-bar\" role=\"progressbar\" style=\"background-color: blue; width: 100%; word-wrap: normal; white-space: nowrap; text-align: center; color: white\" aria-valuenow=\"100\" aria-valuemin=\"0\" aria-valuemax=\"100\">\n",
       "    12 / 12\n",
       "  </div>\n",
       "  <div class=\"progress-bar\" role=\"progressbar\" style=\"background-color: red; width: 0%\" aria-valuenow=\"0\" aria-valuemin=\"0\" aria-valuemax=\"100\"></div>\n",
       "</div>\n"
      ]
     },
     "metadata": {},
     "output_type": "display_data"
    },
    {
     "data": {
      "text/html": [
       "<div>\n",
       "  <span style=\"float: left;\">collect at cmd29.sc:2</span>\n",
       "</div>\n"
      ]
     },
     "metadata": {},
     "output_type": "display_data"
    },
    {
     "data": {
      "text/html": [
       "<div class=\"progress\">\n",
       "  <div class=\"progress-bar\" role=\"progressbar\" style=\"background-color: blue; width: 100%; word-wrap: normal; white-space: nowrap; text-align: center; color: white\" aria-valuenow=\"100\" aria-valuemin=\"0\" aria-valuemax=\"100\">\n",
       "    200 / 200\n",
       "  </div>\n",
       "  <div class=\"progress-bar\" role=\"progressbar\" style=\"background-color: red; width: 0%\" aria-valuenow=\"0\" aria-valuemin=\"0\" aria-valuemax=\"100\"></div>\n",
       "</div>\n"
      ]
     },
     "metadata": {},
     "output_type": "display_data"
    },
    {
     "data": {
      "text/html": [
       "<div>\n",
       "  <span style=\"float: left;\">collect at cmd29.sc:2</span>\n",
       "</div>\n"
      ]
     },
     "metadata": {},
     "output_type": "display_data"
    },
    {
     "data": {
      "text/html": [
       "<div class=\"progress\">\n",
       "  <div class=\"progress-bar\" role=\"progressbar\" style=\"background-color: blue; width: 100%; word-wrap: normal; white-space: nowrap; text-align: center; color: white\" aria-valuenow=\"100\" aria-valuemin=\"0\" aria-valuemax=\"100\">\n",
       "    200 / 200\n",
       "  </div>\n",
       "  <div class=\"progress-bar\" role=\"progressbar\" style=\"background-color: red; width: 0%\" aria-valuenow=\"0\" aria-valuemin=\"0\" aria-valuemax=\"100\"></div>\n",
       "</div>\n"
      ]
     },
     "metadata": {},
     "output_type": "display_data"
    },
    {
     "data": {
      "text/html": [
       "<div>\n",
       "  <span style=\"float: left;\">collect at cmd29.sc:2</span>\n",
       "</div>\n"
      ]
     },
     "metadata": {},
     "output_type": "display_data"
    },
    {
     "data": {
      "text/html": [
       "<div class=\"progress\">\n",
       "  <div class=\"progress-bar\" role=\"progressbar\" style=\"background-color: blue; width: 100%; word-wrap: normal; white-space: nowrap; text-align: center; color: white\" aria-valuenow=\"100\" aria-valuemin=\"0\" aria-valuemax=\"100\">\n",
       "    12 / 12\n",
       "  </div>\n",
       "  <div class=\"progress-bar\" role=\"progressbar\" style=\"background-color: red; width: 0%\" aria-valuenow=\"0\" aria-valuemin=\"0\" aria-valuemax=\"100\"></div>\n",
       "</div>\n"
      ]
     },
     "metadata": {},
     "output_type": "display_data"
    },
    {
     "data": {
      "text/html": [
       "<div>\n",
       "  <span style=\"float: left;\">collect at cmd29.sc:3</span>\n",
       "</div>\n"
      ]
     },
     "metadata": {},
     "output_type": "display_data"
    },
    {
     "data": {
      "text/html": [
       "<div class=\"progress\">\n",
       "  <div class=\"progress-bar\" role=\"progressbar\" style=\"background-color: blue; width: 100%; word-wrap: normal; white-space: nowrap; text-align: center; color: white\" aria-valuenow=\"100\" aria-valuemin=\"0\" aria-valuemax=\"100\">\n",
       "    4 / 4\n",
       "  </div>\n",
       "  <div class=\"progress-bar\" role=\"progressbar\" style=\"background-color: red; width: 0%\" aria-valuenow=\"0\" aria-valuemin=\"0\" aria-valuemax=\"100\"></div>\n",
       "</div>\n"
      ]
     },
     "metadata": {},
     "output_type": "display_data"
    },
    {
     "data": {
      "text/plain": [
       "\u001b[36mmonthsSeq\u001b[39m: \u001b[32mSeq\u001b[39m[\u001b[32mString\u001b[39m] = \u001b[33mList\u001b[39m(\n",
       "  \u001b[32m\"Jan\"\u001b[39m,\n",
       "  \u001b[32m\"F\\u00e9v\"\u001b[39m,\n",
       "  \u001b[32m\"Mar\"\u001b[39m,\n",
       "  \u001b[32m\"Avr\"\u001b[39m,\n",
       "  \u001b[32m\"Mai\"\u001b[39m,\n",
       "  \u001b[32m\"Juin\"\u001b[39m,\n",
       "  \u001b[32m\"Juil\"\u001b[39m,\n",
       "  \u001b[32m\"Aout\"\u001b[39m,\n",
       "  \u001b[32m\"Sep\"\u001b[39m,\n",
       "  \u001b[32m\"Oct\"\u001b[39m,\n",
       "  \u001b[32m\"Nov\"\u001b[39m,\n",
       "  \u001b[32m\"D\\u00e9c\"\u001b[39m\n",
       ")\r\n",
       "\u001b[36msales\u001b[39m: \u001b[32mArray\u001b[39m[\u001b[32mDouble\u001b[39m] = \u001b[33mArray\u001b[39m(\n",
       "  \u001b[32m2065599.3996958733\u001b[39m,\n",
       "  \u001b[32m2345457.7183713913\u001b[39m,\n",
       "  \u001b[32m3043415.1442615986\u001b[39m,\n",
       "  \u001b[32m3320523.313942671\u001b[39m,\n",
       "  \u001b[32m2943146.8557178974\u001b[39m,\n",
       "  \u001b[32m2553346.2173449993\u001b[39m,\n",
       "  \u001b[32m2532465.747330904\u001b[39m,\n",
       "  \u001b[32m2192137.809127569\u001b[39m,\n",
       "  \u001b[32m2674799.235773325\u001b[39m,\n",
       "  \u001b[32m3587664.421559572\u001b[39m,\n",
       "  \u001b[32m3715537.4414711\u001b[39m,\n",
       "  \u001b[32m3517942.491746187\u001b[39m\n",
       ")\r\n",
       "\u001b[36mpredSales\u001b[39m: \u001b[32mArray\u001b[39m[\u001b[32mDouble\u001b[39m] = \u001b[33mArray\u001b[39m(\n",
       "  \u001b[32m2230640.301894078\u001b[39m,\n",
       "  \u001b[32m2338525.3799062897\u001b[39m,\n",
       "  \u001b[32m2446410.457918501\u001b[39m,\n",
       "  \u001b[32m2554295.5359307122\u001b[39m,\n",
       "  \u001b[32m2662180.613942924\u001b[39m,\n",
       "  \u001b[32m2770065.691955135\u001b[39m,\n",
       "  \u001b[32m2877950.7699673465\u001b[39m,\n",
       "  \u001b[32m2985835.847979558\u001b[39m,\n",
       "  \u001b[32m3093720.9259917694\u001b[39m,\n",
       "  \u001b[32m3201606.004003981\u001b[39m,\n",
       "  \u001b[32m3309491.0820161924\u001b[39m\n",
       ")"
      ]
     },
     "execution_count": 30,
     "metadata": {},
     "output_type": "execute_result"
    }
   ],
   "source": [
    "// Extraire les mois et les ventes en tant que listes\n",
    "val monthsSeq = Seq(\"Jan\", \"Fév\", \"Mar\", \"Avr\", \"Mai\", \"Juin\", \"Juil\", \"Aout\", \"Sep\", \"Oct\", \"Nov\", \"Déc\")\n",
    "val sales = MonthLyData.collect().map(_.getDouble(1))\n",
    "val predSales = predictions.collect().map(_.getDouble(2))\n"
   ]
  },
  {
   "cell_type": "code",
   "execution_count": 31,
   "id": "110e9cfd",
   "metadata": {},
   "outputs": [
    {
     "data": {
      "text/plain": [
       "\u001b[36mbarChart\u001b[39m: \u001b[32mBar\u001b[39m = \u001b[33mBar\u001b[39m(\n",
       "  \u001b[33mStrings\u001b[39m(\n",
       "    \u001b[33mList\u001b[39m(\n",
       "      \u001b[32m\"Jan\"\u001b[39m,\n",
       "      \u001b[32m\"F\\u00e9v\"\u001b[39m,\n",
       "      \u001b[32m\"Mar\"\u001b[39m,\n",
       "      \u001b[32m\"Avr\"\u001b[39m,\n",
       "      \u001b[32m\"Mai\"\u001b[39m,\n",
       "      \u001b[32m\"Juin\"\u001b[39m,\n",
       "      \u001b[32m\"Juil\"\u001b[39m,\n",
       "      \u001b[32m\"Aout\"\u001b[39m,\n",
       "      \u001b[32m\"Sep\"\u001b[39m,\n",
       "      \u001b[32m\"Oct\"\u001b[39m,\n",
       "      \u001b[32m\"Nov\"\u001b[39m,\n",
       "      \u001b[32m\"D\\u00e9c\"\u001b[39m\n",
       "    )\n",
       "  ),\n",
       "  \u001b[33mDoubles\u001b[39m(\n",
       "    \u001b[33mWrappedArray\u001b[39m(\n",
       "      \u001b[32m2065599.3996958733\u001b[39m,\n",
       "      \u001b[32m2345457.7183713913\u001b[39m,\n",
       "      \u001b[32m3043415.1442615986\u001b[39m,\n",
       "      \u001b[32m3320523.313942671\u001b[39m,\n",
       "      \u001b[32m2943146.8557178974\u001b[39m,\n",
       "      \u001b[32m2553346.2173449993\u001b[39m,\n",
       "      \u001b[32m2532465.747330904\u001b[39m,\n",
       "      \u001b[32m2192137.809127569\u001b[39m,\n",
       "      \u001b[32m2674799.235773325\u001b[39m,\n",
       "      \u001b[32m3587664.421559572\u001b[39m,\n",
       "      \u001b[32m3715537.4414711\u001b[39m,\n",
       "      \u001b[32m3517942.491746187\u001b[39m\n",
       "    )\n",
       "  ),\n",
       "  \u001b[32mNone\u001b[39m,\n",
       "  \u001b[32mNone\u001b[39m,\n",
       "  \u001b[32mNone\u001b[39m,\n",
       "  \u001b[32mNone\u001b[39m,\n",
       "  \u001b[32mNone\u001b[39m,\n",
       "  \u001b[32mNone\u001b[39m,\n",
       "..."
      ]
     },
     "execution_count": 31,
     "metadata": {},
     "output_type": "execute_result"
    }
   ],
   "source": [
    "\n",
    "//Diagramme en barres\n",
    "val barChart = Bar(\n",
    "  x = monthsSeq,\n",
    "  y = sales.toSeq\n",
    ")"
   ]
  },
  {
   "cell_type": "code",
   "execution_count": 32,
   "id": "a18bd5f0",
   "metadata": {},
   "outputs": [
    {
     "data": {
      "text/plain": [
       "\u001b[36mlayout\u001b[39m: \u001b[32mLayout\u001b[39m = \u001b[33mLayout\u001b[39m(\n",
       "  \u001b[33mSome\u001b[39m(\u001b[32m\"Tendances de vente mensuelles\"\u001b[39m),\n",
       "  \u001b[32mNone\u001b[39m,\n",
       "  \u001b[32mNone\u001b[39m,\n",
       "  \u001b[32mNone\u001b[39m,\n",
       "  \u001b[32mNone\u001b[39m,\n",
       "  \u001b[33mSome\u001b[39m(\n",
       "    \u001b[33mAxis\u001b[39m(\n",
       "      \u001b[33mSome\u001b[39m(\u001b[32m\"Mois\"\u001b[39m),\n",
       "      \u001b[32mNone\u001b[39m,\n",
       "      \u001b[32mNone\u001b[39m,\n",
       "      \u001b[32mNone\u001b[39m,\n",
       "      \u001b[32mNone\u001b[39m,\n",
       "      \u001b[32mNone\u001b[39m,\n",
       "      \u001b[32mNone\u001b[39m,\n",
       "      \u001b[32mNone\u001b[39m,\n",
       "      \u001b[32mNone\u001b[39m,\n",
       "      \u001b[32mNone\u001b[39m,\n",
       "      \u001b[32mNone\u001b[39m,\n",
       "      \u001b[32mNone\u001b[39m,\n",
       "      \u001b[32mNone\u001b[39m,\n",
       "      \u001b[32mNone\u001b[39m,\n",
       "      \u001b[32mNone\u001b[39m,\n",
       "      \u001b[32mNone\u001b[39m,\n",
       "      \u001b[32mNone\u001b[39m,\n",
       "      \u001b[32mNone\u001b[39m,\n",
       "      \u001b[32mNone\u001b[39m,\n",
       "      \u001b[32mNone\u001b[39m,\n",
       "      \u001b[32mNone\u001b[39m,\n",
       "      \u001b[32mNone\u001b[39m,\n",
       "      \u001b[32mNone\u001b[39m,\n",
       "      \u001b[32mNone\u001b[39m,\n",
       "      \u001b[32mNone\u001b[39m,\n",
       "      \u001b[32mNone\u001b[39m,\n",
       "      \u001b[32mNone\u001b[39m,\n",
       "      \u001b[32mNone\u001b[39m,\n",
       "      \u001b[32mNone\u001b[39m,\n",
       "      \u001b[32mNone\u001b[39m,\n",
       "      \u001b[32mNone\u001b[39m,\n",
       "..."
      ]
     },
     "execution_count": 32,
     "metadata": {},
     "output_type": "execute_result"
    }
   ],
   "source": [
    "// Créer la mise en page du graphique\n",
    "val layout = Layout(\n",
    "  title = \"Tendances de vente mensuelles\",\n",
    "  xaxis = Axis(title = \"Mois\"),\n",
    "  yaxis = Axis(title = \"Ventes\")\n",
    ")"
   ]
  },
  {
   "cell_type": "code",
   "execution_count": 33,
   "id": "0027cb95",
   "metadata": {},
   "outputs": [
    {
     "data": {
      "text/html": [
       "\n",
       "      <script type=\"text/javascript\">\n",
       "        require.config({\n",
       "  paths: {\n",
       "    d3: 'https://cdnjs.cloudflare.com/ajax/libs/d3/3.5.17/d3.min',\n",
       "    plotly: 'https://cdn.plot.ly/plotly-1.52.2.min',\n",
       "    jquery: 'https://code.jquery.com/jquery-3.3.1.min'\n",
       "  },\n",
       "\n",
       "  shim: {\n",
       "    plotly: {\n",
       "      deps: ['d3', 'jquery'],\n",
       "      exports: 'plotly'\n",
       "    }\n",
       "  }\n",
       "});\n",
       "        \n",
       "\n",
       "        require(['plotly'], function(Plotly) {\n",
       "          window.Plotly = Plotly;\n",
       "        });\n",
       "      </script>\n",
       "    "
      ]
     },
     "metadata": {},
     "output_type": "display_data"
    },
    {
     "data": {
      "application/vnd.plotly.v1+json": {
       "config": {},
       "data": [
        {
         "type": "bar",
         "x": [
          "Jan",
          "Fév",
          "Mar",
          "Avr",
          "Mai",
          "Juin",
          "Juil",
          "Aout",
          "Sep",
          "Oct",
          "Nov",
          "Déc"
         ],
         "y": [
          2065599.3996958733,
          2345457.7183713913,
          3043415.1442615986,
          3320523.313942671,
          2943146.8557178974,
          2553346.2173449993,
          2532465.747330904,
          2192137.809127569,
          2674799.235773325,
          3587664.421559572,
          3715537.4414711,
          3517942.491746187
         ]
        }
       ],
       "layout": {
        "title": "Tendances de vente mensuelles",
        "xaxis": {
         "title": "Mois"
        },
        "yaxis": {
         "title": "Ventes"
        }
       }
      },
      "text/html": [
       "<div class=\"chart\" id=\"plot-c5bcc8ad-87f5-494b-921c-84e3128eb90a\"></div>\n",
       "<script>require(['plotly'], function(Plotly) {\n",
       "  (function () {\n",
       "  var data0 = {\"x\":[\"Jan\",\"Fév\",\"Mar\",\"Avr\",\"Mai\",\"Juin\",\"Juil\",\"Aout\",\"Sep\",\"Oct\",\"Nov\",\"Déc\"],\"y\":[2065599.3996958733,2345457.7183713913,3043415.1442615986,3320523.313942671,2943146.8557178974,2553346.2173449993,2532465.747330904,2192137.809127569,2674799.235773325,3587664.421559572,3715537.4414711,3517942.491746187],\"type\":\"bar\"};\n",
       "\n",
       "  var data = [data0];\n",
       "  var layout = {\"title\":\"Tendances de vente mensuelles\",\"yaxis\":{\"title\":\"Ventes\"},\"xaxis\":{\"title\":\"Mois\"}};\n",
       " var config = {};\n",
       "\n",
       "  Plotly.plot('plot-c5bcc8ad-87f5-494b-921c-84e3128eb90a', data, layout, config);\n",
       "})();\n",
       "});\n",
       "      </script>\n",
       "           "
      ]
     },
     "metadata": {},
     "output_type": "display_data"
    },
    {
     "data": {
      "text/plain": [
       "\u001b[36mres32\u001b[39m: \u001b[32mString\u001b[39m = \u001b[32m\"plot-c5bcc8ad-87f5-494b-921c-84e3128eb90a\"\u001b[39m"
      ]
     },
     "execution_count": 33,
     "metadata": {},
     "output_type": "execute_result"
    }
   ],
   "source": [
    "// Afficher le graphique\n",
    "plot(Seq(barChart), layout)"
   ]
  },
  {
   "cell_type": "code",
   "execution_count": 34,
   "id": "77b0683b",
   "metadata": {},
   "outputs": [
    {
     "data": {
      "text/plain": [
       "\u001b[36mlineChart1\u001b[39m: \u001b[32mScatter\u001b[39m = \u001b[33mScatter\u001b[39m(\n",
       "  \u001b[33mSome\u001b[39m(\n",
       "    \u001b[33mStrings\u001b[39m(\n",
       "      \u001b[33mList\u001b[39m(\n",
       "        \u001b[32m\"Jan\"\u001b[39m,\n",
       "        \u001b[32m\"F\\u00e9v\"\u001b[39m,\n",
       "        \u001b[32m\"Mar\"\u001b[39m,\n",
       "        \u001b[32m\"Avr\"\u001b[39m,\n",
       "        \u001b[32m\"Mai\"\u001b[39m,\n",
       "        \u001b[32m\"Juin\"\u001b[39m,\n",
       "        \u001b[32m\"Juil\"\u001b[39m,\n",
       "        \u001b[32m\"Aout\"\u001b[39m,\n",
       "        \u001b[32m\"Sep\"\u001b[39m,\n",
       "        \u001b[32m\"Oct\"\u001b[39m,\n",
       "        \u001b[32m\"Nov\"\u001b[39m,\n",
       "        \u001b[32m\"D\\u00e9c\"\u001b[39m\n",
       "      )\n",
       "    )\n",
       "  ),\n",
       "  \u001b[33mSome\u001b[39m(\n",
       "    \u001b[33mDoubles\u001b[39m(\n",
       "      \u001b[33mWrappedArray\u001b[39m(\n",
       "        \u001b[32m2065599.3996958733\u001b[39m,\n",
       "        \u001b[32m2345457.7183713913\u001b[39m,\n",
       "        \u001b[32m3043415.1442615986\u001b[39m,\n",
       "        \u001b[32m3320523.313942671\u001b[39m,\n",
       "        \u001b[32m2943146.8557178974\u001b[39m,\n",
       "        \u001b[32m2553346.2173449993\u001b[39m,\n",
       "        \u001b[32m2532465.747330904\u001b[39m,\n",
       "        \u001b[32m2192137.809127569\u001b[39m,\n",
       "        \u001b[32m2674799.235773325\u001b[39m,\n",
       "        \u001b[32m3587664.421559572\u001b[39m,\n",
       "        \u001b[32m3715537.4414711\u001b[39m,\n",
       "        \u001b[32m3517942.491746187\u001b[39m\n",
       "      )\n",
       "    )\n",
       "  ),\n",
       "  \u001b[32mNone\u001b[39m,\n",
       "  \u001b[32mNone\u001b[39m,\n",
       "...\r\n",
       "\u001b[36mlineChart2\u001b[39m: \u001b[32mScatter\u001b[39m = \u001b[33mScatter\u001b[39m(\n",
       "  \u001b[33mSome\u001b[39m(\n",
       "    \u001b[33mStrings\u001b[39m(\n",
       "      \u001b[33mList\u001b[39m(\n",
       "        \u001b[32m\"Jan\"\u001b[39m,\n",
       "        \u001b[32m\"F\\u00e9v\"\u001b[39m,\n",
       "        \u001b[32m\"Mar\"\u001b[39m,\n",
       "        \u001b[32m\"Avr\"\u001b[39m,\n",
       "        \u001b[32m\"Mai\"\u001b[39m,\n",
       "        \u001b[32m\"Juin\"\u001b[39m,\n",
       "        \u001b[32m\"Juil\"\u001b[39m,\n",
       "        \u001b[32m\"Aout\"\u001b[39m,\n",
       "        \u001b[32m\"Sep\"\u001b[39m,\n",
       "        \u001b[32m\"Oct\"\u001b[39m,\n",
       "        \u001b[32m\"Nov\"\u001b[39m,\n",
       "        \u001b[32m\"D\\u00e9c\"\u001b[39m\n",
       "      )\n",
       "    )\n",
       "  ),\n",
       "  \u001b[33mSome\u001b[39m(\n",
       "    \u001b[33mDoubles\u001b[39m(\n",
       "      \u001b[33mWrappedArray\u001b[39m(\n",
       "        \u001b[32m2230640.301894078\u001b[39m,\n",
       "        \u001b[32m2338525.3799062897\u001b[39m,\n",
       "        \u001b[32m2446410.457918501\u001b[39m,\n",
       "        \u001b[32m2554295.5359307122\u001b[39m,\n",
       "        \u001b[32m2662180.613942924\u001b[39m,\n",
       "        \u001b[32m2770065.691955135\u001b[39m,\n",
       "        \u001b[32m2877950.7699673465\u001b[39m,\n",
       "        \u001b[32m2985835.847979558\u001b[39m,\n",
       "        \u001b[32m3093720.9259917694\u001b[39m,\n",
       "        \u001b[32m3201606.004003981\u001b[39m,\n",
       "        \u001b[32m3309491.0820161924\u001b[39m\n",
       "      )\n",
       "    )\n",
       "  ),\n",
       "  \u001b[32mNone\u001b[39m,\n",
       "  \u001b[32mNone\u001b[39m,\n",
       "  \u001b[32mNone\u001b[39m,\n",
       "..."
      ]
     },
     "execution_count": 34,
     "metadata": {},
     "output_type": "execute_result"
    }
   ],
   "source": [
    "// Créer un graphique linéaire avec les mois en tant que x et les ventes en tant que y\n",
    "val lineChart1 = Scatter(\n",
    "  x = monthsSeq,\n",
    "  y = sales.toSeq,\n",
    ")\n",
    "val lineChart2 = Scatter(\n",
    "  x = monthsSeq,\n",
    "  y = predSales.toSeq,\n",
    "\n",
    ")"
   ]
  },
  {
   "cell_type": "code",
   "execution_count": 39,
   "id": "6da2c6bf",
   "metadata": {},
   "outputs": [
    {
     "data": {
      "text/plain": [
       "\u001b[36mlayout1\u001b[39m: \u001b[32mLayout\u001b[39m = \u001b[33mLayout\u001b[39m(\n",
       "  \u001b[33mSome\u001b[39m(\u001b[32m\"Tendances de vente mensuelles\"\u001b[39m),\n",
       "  \u001b[32mNone\u001b[39m,\n",
       "  \u001b[32mNone\u001b[39m,\n",
       "  \u001b[32mNone\u001b[39m,\n",
       "  \u001b[32mNone\u001b[39m,\n",
       "  \u001b[33mSome\u001b[39m(\n",
       "    \u001b[33mAxis\u001b[39m(\n",
       "      \u001b[33mSome\u001b[39m(\u001b[32m\"Mois\"\u001b[39m),\n",
       "      \u001b[32mNone\u001b[39m,\n",
       "      \u001b[32mNone\u001b[39m,\n",
       "      \u001b[32mNone\u001b[39m,\n",
       "      \u001b[32mNone\u001b[39m,\n",
       "      \u001b[32mNone\u001b[39m,\n",
       "      \u001b[32mNone\u001b[39m,\n",
       "      \u001b[32mNone\u001b[39m,\n",
       "      \u001b[32mNone\u001b[39m,\n",
       "      \u001b[32mNone\u001b[39m,\n",
       "      \u001b[32mNone\u001b[39m,\n",
       "      \u001b[32mNone\u001b[39m,\n",
       "      \u001b[32mNone\u001b[39m,\n",
       "      \u001b[32mNone\u001b[39m,\n",
       "      \u001b[32mNone\u001b[39m,\n",
       "      \u001b[32mNone\u001b[39m,\n",
       "      \u001b[32mNone\u001b[39m,\n",
       "      \u001b[32mNone\u001b[39m,\n",
       "      \u001b[32mNone\u001b[39m,\n",
       "      \u001b[32mNone\u001b[39m,\n",
       "      \u001b[32mNone\u001b[39m,\n",
       "      \u001b[32mNone\u001b[39m,\n",
       "      \u001b[32mNone\u001b[39m,\n",
       "      \u001b[32mNone\u001b[39m,\n",
       "      \u001b[32mNone\u001b[39m,\n",
       "      \u001b[32mNone\u001b[39m,\n",
       "      \u001b[32mNone\u001b[39m,\n",
       "      \u001b[32mNone\u001b[39m,\n",
       "      \u001b[32mNone\u001b[39m,\n",
       "      \u001b[32mNone\u001b[39m,\n",
       "      \u001b[32mNone\u001b[39m,\n",
       "...\r\n",
       "\u001b[36mlayout2\u001b[39m: \u001b[32mLayout\u001b[39m = \u001b[33mLayout\u001b[39m(\n",
       "  \u001b[33mSome\u001b[39m(\u001b[32m\"Pr\\u00e9visions pour la prochaine ann\\u00e9e de vente mensuelles\"\u001b[39m),\n",
       "  \u001b[32mNone\u001b[39m,\n",
       "  \u001b[32mNone\u001b[39m,\n",
       "  \u001b[32mNone\u001b[39m,\n",
       "  \u001b[32mNone\u001b[39m,\n",
       "  \u001b[33mSome\u001b[39m(\n",
       "    \u001b[33mAxis\u001b[39m(\n",
       "      \u001b[33mSome\u001b[39m(\u001b[32m\"Mois\"\u001b[39m),\n",
       "      \u001b[32mNone\u001b[39m,\n",
       "      \u001b[32mNone\u001b[39m,\n",
       "      \u001b[32mNone\u001b[39m,\n",
       "      \u001b[32mNone\u001b[39m,\n",
       "      \u001b[32mNone\u001b[39m,\n",
       "      \u001b[32mNone\u001b[39m,\n",
       "      \u001b[32mNone\u001b[39m,\n",
       "      \u001b[32mNone\u001b[39m,\n",
       "      \u001b[32mNone\u001b[39m,\n",
       "      \u001b[32mNone\u001b[39m,\n",
       "      \u001b[32mNone\u001b[39m,\n",
       "      \u001b[32mNone\u001b[39m,\n",
       "      \u001b[32mNone\u001b[39m,\n",
       "      \u001b[32mNone\u001b[39m,\n",
       "      \u001b[32mNone\u001b[39m,\n",
       "      \u001b[32mNone\u001b[39m,\n",
       "      \u001b[32mNone\u001b[39m,\n",
       "      \u001b[32mNone\u001b[39m,\n",
       "      \u001b[32mNone\u001b[39m,\n",
       "      \u001b[32mNone\u001b[39m,\n",
       "      \u001b[32mNone\u001b[39m,\n",
       "      \u001b[32mNone\u001b[39m,\n",
       "      \u001b[32mNone\u001b[39m,\n",
       "      \u001b[32mNone\u001b[39m,\n",
       "      \u001b[32mNone\u001b[39m,\n",
       "      \u001b[32mNone\u001b[39m,\n",
       "      \u001b[32mNone\u001b[39m,\n",
       "      \u001b[32mNone\u001b[39m,\n",
       "      \u001b[32mNone\u001b[39m,\n",
       "      \u001b[32mNone\u001b[39m,\n",
       "..."
      ]
     },
     "execution_count": 39,
     "metadata": {},
     "output_type": "execute_result"
    }
   ],
   "source": [
    "// Créer la mise en page du graphique\n",
    "val layout1 = Layout(\n",
    "  title = \"Tendances de vente mensuelles\",\n",
    "  xaxis = Axis(title = \"Mois\"),\n",
    "  yaxis = Axis(title = \"Ventes\"),\n",
    ")\n",
    "// Créer la mise en page du graphique\n",
    "val layout2 = Layout(\n",
    "  title = \"Prévisions pour la prochaine année de vente mensuelles\",\n",
    "  xaxis = Axis(title = \"Mois\"),\n",
    "  yaxis = Axis(title = \"Ventes\"),\n",
    ")"
   ]
  },
  {
   "cell_type": "code",
   "execution_count": 40,
   "id": "249ff2de",
   "metadata": {},
   "outputs": [
    {
     "data": {
      "application/vnd.plotly.v1+json": {
       "config": {},
       "data": [
        {
         "type": "scatter",
         "x": [
          "Jan",
          "Fév",
          "Mar",
          "Avr",
          "Mai",
          "Juin",
          "Juil",
          "Aout",
          "Sep",
          "Oct",
          "Nov",
          "Déc"
         ],
         "y": [
          2065599.3996958733,
          2345457.7183713913,
          3043415.1442615986,
          3320523.313942671,
          2943146.8557178974,
          2553346.2173449993,
          2532465.747330904,
          2192137.809127569,
          2674799.235773325,
          3587664.421559572,
          3715537.4414711,
          3517942.491746187
         ]
        }
       ],
       "layout": {
        "title": "Tendances de vente mensuelles",
        "xaxis": {
         "title": "Mois"
        },
        "yaxis": {
         "title": "Ventes"
        }
       }
      },
      "text/html": [
       "<div class=\"chart\" id=\"plot-936c8b12-b347-422b-a514-f0af82248eca\"></div>\n",
       "<script>require(['plotly'], function(Plotly) {\n",
       "  (function () {\n",
       "  var data0 = {\"x\":[\"Jan\",\"Fév\",\"Mar\",\"Avr\",\"Mai\",\"Juin\",\"Juil\",\"Aout\",\"Sep\",\"Oct\",\"Nov\",\"Déc\"],\"y\":[2065599.3996958733,2345457.7183713913,3043415.1442615986,3320523.313942671,2943146.8557178974,2553346.2173449993,2532465.747330904,2192137.809127569,2674799.235773325,3587664.421559572,3715537.4414711,3517942.491746187],\"type\":\"scatter\"};\n",
       "\n",
       "  var data = [data0];\n",
       "  var layout = {\"title\":\"Tendances de vente mensuelles\",\"yaxis\":{\"title\":\"Ventes\"},\"xaxis\":{\"title\":\"Mois\"}};\n",
       " var config = {};\n",
       "\n",
       "  Plotly.plot('plot-936c8b12-b347-422b-a514-f0af82248eca', data, layout, config);\n",
       "})();\n",
       "});\n",
       "      </script>\n",
       "           "
      ]
     },
     "metadata": {},
     "output_type": "display_data"
    },
    {
     "data": {
      "application/vnd.plotly.v1+json": {
       "config": {},
       "data": [
        {
         "type": "scatter",
         "x": [
          "Jan",
          "Fév",
          "Mar",
          "Avr",
          "Mai",
          "Juin",
          "Juil",
          "Aout",
          "Sep",
          "Oct",
          "Nov",
          "Déc"
         ],
         "y": [
          2230640.301894078,
          2338525.3799062897,
          2446410.457918501,
          2554295.5359307122,
          2662180.613942924,
          2770065.691955135,
          2877950.7699673465,
          2985835.847979558,
          3093720.9259917694,
          3201606.004003981,
          3309491.0820161924
         ]
        }
       ],
       "layout": {
        "title": "Prévisions pour la prochaine année de vente mensuelles",
        "xaxis": {
         "title": "Mois"
        },
        "yaxis": {
         "title": "Ventes"
        }
       }
      },
      "text/html": [
       "<div class=\"chart\" id=\"plot-1fc3c8c0-e679-48b8-8388-511e122d786c\"></div>\n",
       "<script>require(['plotly'], function(Plotly) {\n",
       "  (function () {\n",
       "  var data0 = {\"x\":[\"Jan\",\"Fév\",\"Mar\",\"Avr\",\"Mai\",\"Juin\",\"Juil\",\"Aout\",\"Sep\",\"Oct\",\"Nov\",\"Déc\"],\"y\":[2230640.301894078,2338525.3799062897,2446410.457918501,2554295.5359307122,2662180.613942924,2770065.691955135,2877950.7699673465,2985835.847979558,3093720.9259917694,3201606.004003981,3309491.0820161924],\"type\":\"scatter\"};\n",
       "\n",
       "  var data = [data0];\n",
       "  var layout = {\"title\":\"Prévisions pour la prochaine année de vente mensuelles\",\"yaxis\":{\"title\":\"Ventes\"},\"xaxis\":{\"title\":\"Mois\"}};\n",
       " var config = {};\n",
       "\n",
       "  Plotly.plot('plot-1fc3c8c0-e679-48b8-8388-511e122d786c', data, layout, config);\n",
       "})();\n",
       "});\n",
       "      </script>\n",
       "           "
      ]
     },
     "metadata": {},
     "output_type": "display_data"
    },
    {
     "data": {
      "text/plain": [
       "\u001b[36mres39_0\u001b[39m: \u001b[32mString\u001b[39m = \u001b[32m\"plot-936c8b12-b347-422b-a514-f0af82248eca\"\u001b[39m\r\n",
       "\u001b[36mres39_1\u001b[39m: \u001b[32mString\u001b[39m = \u001b[32m\"plot-1fc3c8c0-e679-48b8-8388-511e122d786c\"\u001b[39m"
      ]
     },
     "execution_count": 40,
     "metadata": {},
     "output_type": "execute_result"
    }
   ],
   "source": [
    "// Afficher le graphique\n",
    "plot(Seq(lineChart1), layout1)\n",
    "plot(Seq(lineChart2), layout2)"
   ]
  },
  {
   "cell_type": "code",
   "execution_count": 54,
   "id": "df9132e9",
   "metadata": {},
   "outputs": [
    {
     "data": {
      "text/plain": [
       "\u001b[32mimport \u001b[39m\u001b[36morg.apache.spark.ml.feature.PolynomialExpansion\n",
       "\u001b[39m\r\n",
       "\u001b[32mimport \u001b[39m\u001b[36morg.apache.spark.ml.regression.LinearRegression\n",
       "\u001b[39m\r\n",
       "\u001b[32mimport \u001b[39m\u001b[36morg.apache.spark.ml.{Pipeline, PipelineModel}\n",
       "\u001b[39m\r\n",
       "\u001b[32mimport \u001b[39m\u001b[36morg.apache.spark.ml.linalg.Vector\n",
       "\u001b[39m\r\n",
       "\u001b[32mimport \u001b[39m\u001b[36morg.apache.spark.sql.{SparkSession, DataFrame}\n",
       "\u001b[39m\r\n",
       "\u001b[32mimport \u001b[39m\u001b[36morg.apache.spark.sql.functions._\n",
       "\u001b[39m\r\n",
       "\u001b[32mimport \u001b[39m\u001b[36morg.apache.spark.sql.types.{IntegerType, DoubleType}\n",
       "\u001b[39m"
      ]
     },
     "execution_count": 54,
     "metadata": {},
     "output_type": "execute_result"
    }
   ],
   "source": [
    "import org.apache.spark.ml.feature.PolynomialExpansion\n",
    "import org.apache.spark.ml.regression.LinearRegression\n",
    "import org.apache.spark.ml.{Pipeline, PipelineModel}\n",
    "import org.apache.spark.ml.linalg.Vector\n",
    "import org.apache.spark.sql.{SparkSession, DataFrame}\n",
    "import org.apache.spark.sql.functions._\n",
    "import org.apache.spark.sql.types.{IntegerType, DoubleType}\n"
   ]
  },
  {
   "cell_type": "code",
   "execution_count": 57,
   "id": "1837657c",
   "metadata": {},
   "outputs": [
    {
     "data": {
      "text/plain": [
       "\u001b[36minputCol\u001b[39m: \u001b[32mString\u001b[39m = \u001b[32m\"month\"\u001b[39m\r\n",
       "\u001b[36moutputCol\u001b[39m: \u001b[32mString\u001b[39m = \u001b[32m\"salesAmount\"\u001b[39m\r\n",
       "\u001b[36msalesDataWithIntegerMonth\u001b[39m: \u001b[32mDataFrame\u001b[39m = [month: int, salesAmount: double]\r\n",
       "\u001b[36mdegree\u001b[39m: \u001b[32mInt\u001b[39m = \u001b[32m3\u001b[39m\r\n",
       "\u001b[36mpolynomialExpansion\u001b[39m: \u001b[32mPolynomialExpansion\u001b[39m = poly_c333f99cce9d\r\n",
       "\u001b[36mregression\u001b[39m: \u001b[32mLinearRegression\u001b[39m = linReg_85a80ccb8153\r\n",
       "\u001b[36mpipeline\u001b[39m: \u001b[32mPipeline\u001b[39m = pipeline_995fc075237d"
      ]
     },
     "execution_count": 57,
     "metadata": {},
     "output_type": "execute_result"
    }
   ],
   "source": [
    "// Step 2: Prepare the data for polynomial regression\n",
    "val inputCol = \"month\" // Assuming \"month\" is the column name in salesData containing the month number\n",
    "val outputCol = \"salesAmount\" // Assuming \"salesAmount\" is the column name in salesData containing the sales amount\n",
    "// Add polynomial terms to the features\n",
    "val salesDataWithIntegerMonth = trainData.withColumn(\"month\", col(inputCol).cast(IntegerType))\n",
    "\n",
    "val degree = 3 // Choose the degree of the polynomial curve\n",
    "val polynomialExpansion = new PolynomialExpansion()\n",
    "  .setInputCol(inputCol)\n",
    "  .setOutputCol(\"features\")\n",
    "  .setDegree(degree)\n",
    "\n",
    "\n",
    "\n",
    "// Step 3: Train the polynomial regression model\n",
    "val regression = new LinearRegression()\n",
    "  .setLabelCol(outputCol)\n",
    "  .setFeaturesCol(\"features\")\n",
    "\n",
    "val pipeline = new Pipeline()\n",
    "  .setStages(Array(polynomialExpansion, regression))\n",
    "\n",
    "\n",
    "\n"
   ]
  },
  {
   "cell_type": "code",
   "execution_count": 58,
   "id": "a63ac6f5",
   "metadata": {},
   "outputs": [
    {
     "data": {
      "text/html": [
       "<div>\n",
       "  <span style=\"float: left;\">first at LinearRegression.scala:322</span>\n",
       "</div>\n"
      ]
     },
     "metadata": {},
     "output_type": "display_data"
    },
    {
     "data": {
      "text/html": [
       "<div class=\"progress\">\n",
       "  <div class=\"progress-bar\" role=\"progressbar\" style=\"background-color: blue; width: 100%; word-wrap: normal; white-space: nowrap; text-align: center; color: white\" aria-valuenow=\"100\" aria-valuemin=\"0\" aria-valuemax=\"100\">\n",
       "    12 / 12\n",
       "  </div>\n",
       "  <div class=\"progress-bar\" role=\"progressbar\" style=\"background-color: red; width: 0%\" aria-valuenow=\"0\" aria-valuemin=\"0\" aria-valuemax=\"100\"></div>\n",
       "</div>\n"
      ]
     },
     "metadata": {},
     "output_type": "display_data"
    },
    {
     "data": {
      "text/html": [
       "<div>\n",
       "  <span style=\"float: left;\">first at LinearRegression.scala:322</span>\n",
       "</div>\n"
      ]
     },
     "metadata": {},
     "output_type": "display_data"
    },
    {
     "data": {
      "text/html": [
       "<div class=\"progress\">\n",
       "  <div class=\"progress-bar\" role=\"progressbar\" style=\"background-color: blue; width: 100%; word-wrap: normal; white-space: nowrap; text-align: center; color: white\" aria-valuenow=\"100\" aria-valuemin=\"0\" aria-valuemax=\"100\">\n",
       "    1 / 1\n",
       "  </div>\n",
       "  <div class=\"progress-bar\" role=\"progressbar\" style=\"background-color: red; width: 0%\" aria-valuenow=\"0\" aria-valuemin=\"0\" aria-valuemax=\"100\"></div>\n",
       "</div>\n"
      ]
     },
     "metadata": {},
     "output_type": "display_data"
    },
    {
     "data": {
      "text/html": [
       "<div>\n",
       "  <span style=\"float: left;\">first at LinearRegression.scala:322</span>\n",
       "</div>\n"
      ]
     },
     "metadata": {},
     "output_type": "display_data"
    },
    {
     "data": {
      "text/html": [
       "<div class=\"progress\">\n",
       "  <div class=\"progress-bar\" role=\"progressbar\" style=\"background-color: blue; width: 100%; word-wrap: normal; white-space: nowrap; text-align: center; color: white\" aria-valuenow=\"100\" aria-valuemin=\"0\" aria-valuemax=\"100\">\n",
       "    4 / 4\n",
       "  </div>\n",
       "  <div class=\"progress-bar\" role=\"progressbar\" style=\"background-color: red; width: 0%\" aria-valuenow=\"0\" aria-valuemin=\"0\" aria-valuemax=\"100\"></div>\n",
       "</div>\n"
      ]
     },
     "metadata": {},
     "output_type": "display_data"
    },
    {
     "data": {
      "text/html": [
       "<div>\n",
       "  <span style=\"float: left;\">first at LinearRegression.scala:322</span>\n",
       "</div>\n"
      ]
     },
     "metadata": {},
     "output_type": "display_data"
    },
    {
     "data": {
      "text/html": [
       "<div class=\"progress\">\n",
       "  <div class=\"progress-bar\" role=\"progressbar\" style=\"background-color: blue; width: 100%; word-wrap: normal; white-space: nowrap; text-align: center; color: white\" aria-valuenow=\"100\" aria-valuemin=\"0\" aria-valuemax=\"100\">\n",
       "    20 / 20\n",
       "  </div>\n",
       "  <div class=\"progress-bar\" role=\"progressbar\" style=\"background-color: red; width: 0%\" aria-valuenow=\"0\" aria-valuemin=\"0\" aria-valuemax=\"100\"></div>\n",
       "</div>\n"
      ]
     },
     "metadata": {},
     "output_type": "display_data"
    },
    {
     "name": "stderr",
     "output_type": "stream",
     "text": [
      "23/05/27 16:12:52 ERROR Executor: Exception in task 19.0 in stage 133.0 (TID 4773)\n",
      "org.apache.spark.SparkException: Failed to execute user defined function(PolynomialExpansion$$Lambda$6336/200270401: (int) => struct<type:tinyint,size:int,indices:array<int>,values:array<double>>)\n",
      "\tat org.apache.spark.sql.catalyst.expressions.GeneratedClass$GeneratedIteratorForCodegenStage2.processNext(Unknown Source)\n",
      "\tat org.apache.spark.sql.execution.BufferedRowIterator.hasNext(BufferedRowIterator.java:43)\n",
      "\tat org.apache.spark.sql.execution.WholeStageCodegenExec$$anon$2.hasNext(WholeStageCodegenExec.scala:636)\n",
      "\tat org.apache.spark.sql.execution.SparkPlan.$anonfun$getByteArrayRdd$1(SparkPlan.scala:255)\n",
      "\tat org.apache.spark.rdd.RDD.$anonfun$mapPartitionsInternal$2(RDD.scala:858)\n",
      "\tat org.apache.spark.rdd.RDD.$anonfun$mapPartitionsInternal$2$adapted(RDD.scala:858)\n",
      "\tat org.apache.spark.rdd.MapPartitionsRDD.compute(MapPartitionsRDD.scala:52)\n",
      "\tat org.apache.spark.rdd.RDD.computeOrReadCheckpoint(RDD.scala:346)\n",
      "\tat org.apache.spark.rdd.RDD.iterator(RDD.scala:310)\n",
      "\tat org.apache.spark.rdd.MapPartitionsRDD.compute(MapPartitionsRDD.scala:52)\n",
      "\tat org.apache.spark.rdd.RDD.computeOrReadCheckpoint(RDD.scala:346)\n",
      "\tat org.apache.spark.rdd.RDD.iterator(RDD.scala:310)\n",
      "\tat org.apache.spark.scheduler.ResultTask.runTask(ResultTask.scala:90)\n",
      "\tat org.apache.spark.scheduler.Task.run(Task.scala:123)\n",
      "\tat org.apache.spark.executor.Executor$TaskRunner.$anonfun$run$3(Executor.scala:411)\n",
      "\tat org.apache.spark.util.Utils$.tryWithSafeFinally(Utils.scala:1360)\n",
      "\tat org.apache.spark.executor.Executor$TaskRunner.run(Executor.scala:414)\n",
      "\tat java.util.concurrent.ThreadPoolExecutor.runWorker(ThreadPoolExecutor.java:1149)\n",
      "\tat java.util.concurrent.ThreadPoolExecutor$Worker.run(ThreadPoolExecutor.java:624)\n",
      "\tat java.lang.Thread.run(Thread.java:748)\n",
      "Caused by: java.lang.ClassCastException: java.lang.Integer cannot be cast to org.apache.spark.ml.linalg.Vector\n",
      "\t... 20 more\n",
      "23/05/27 16:12:52 WARN TaskSetManager: Lost task 19.0 in stage 133.0 (TID 4773, localhost, executor driver): org.apache.spark.SparkException: Failed to execute user defined function(PolynomialExpansion$$Lambda$6336/200270401: (int) => struct<type:tinyint,size:int,indices:array<int>,values:array<double>>)\n",
      "\tat org.apache.spark.sql.catalyst.expressions.GeneratedClass$GeneratedIteratorForCodegenStage2.processNext(Unknown Source)\n",
      "\tat org.apache.spark.sql.execution.BufferedRowIterator.hasNext(BufferedRowIterator.java:43)\n",
      "\tat org.apache.spark.sql.execution.WholeStageCodegenExec$$anon$2.hasNext(WholeStageCodegenExec.scala:636)\n",
      "\tat org.apache.spark.sql.execution.SparkPlan.$anonfun$getByteArrayRdd$1(SparkPlan.scala:255)\n",
      "\tat org.apache.spark.rdd.RDD.$anonfun$mapPartitionsInternal$2(RDD.scala:858)\n",
      "\tat org.apache.spark.rdd.RDD.$anonfun$mapPartitionsInternal$2$adapted(RDD.scala:858)\n",
      "\tat org.apache.spark.rdd.MapPartitionsRDD.compute(MapPartitionsRDD.scala:52)\n",
      "\tat org.apache.spark.rdd.RDD.computeOrReadCheckpoint(RDD.scala:346)\n",
      "\tat org.apache.spark.rdd.RDD.iterator(RDD.scala:310)\n",
      "\tat org.apache.spark.rdd.MapPartitionsRDD.compute(MapPartitionsRDD.scala:52)\n",
      "\tat org.apache.spark.rdd.RDD.computeOrReadCheckpoint(RDD.scala:346)\n",
      "\tat org.apache.spark.rdd.RDD.iterator(RDD.scala:310)\n",
      "\tat org.apache.spark.scheduler.ResultTask.runTask(ResultTask.scala:90)\n",
      "\tat org.apache.spark.scheduler.Task.run(Task.scala:123)\n",
      "\tat org.apache.spark.executor.Executor$TaskRunner.$anonfun$run$3(Executor.scala:411)\n",
      "\tat org.apache.spark.util.Utils$.tryWithSafeFinally(Utils.scala:1360)\n",
      "\tat org.apache.spark.executor.Executor$TaskRunner.run(Executor.scala:414)\n",
      "\tat java.util.concurrent.ThreadPoolExecutor.runWorker(ThreadPoolExecutor.java:1149)\n",
      "\tat java.util.concurrent.ThreadPoolExecutor$Worker.run(ThreadPoolExecutor.java:624)\n",
      "\tat java.lang.Thread.run(Thread.java:748)\n",
      "Caused by: java.lang.ClassCastException: java.lang.Integer cannot be cast to org.apache.spark.ml.linalg.Vector\n",
      "\t... 20 more\n",
      "\n",
      "23/05/27 16:12:52 ERROR TaskSetManager: Task 19 in stage 133.0 failed 1 times; aborting job\n",
      "23/05/27 16:12:52 ERROR Instrumentation: org.apache.spark.SparkException: Job aborted due to stage failure: Task 19 in stage 133.0 failed 1 times, most recent failure: Lost task 19.0 in stage 133.0 (TID 4773, localhost, executor driver): org.apache.spark.SparkException: Failed to execute user defined function(PolynomialExpansion$$Lambda$6336/200270401: (int) => struct<type:tinyint,size:int,indices:array<int>,values:array<double>>)\n",
      "\tat org.apache.spark.sql.catalyst.expressions.GeneratedClass$GeneratedIteratorForCodegenStage2.processNext(Unknown Source)\n",
      "\tat org.apache.spark.sql.execution.BufferedRowIterator.hasNext(BufferedRowIterator.java:43)\n",
      "\tat org.apache.spark.sql.execution.WholeStageCodegenExec$$anon$2.hasNext(WholeStageCodegenExec.scala:636)\n",
      "\tat org.apache.spark.sql.execution.SparkPlan.$anonfun$getByteArrayRdd$1(SparkPlan.scala:255)\n",
      "\tat org.apache.spark.rdd.RDD.$anonfun$mapPartitionsInternal$2(RDD.scala:858)\n",
      "\tat org.apache.spark.rdd.RDD.$anonfun$mapPartitionsInternal$2$adapted(RDD.scala:858)\n",
      "\tat org.apache.spark.rdd.MapPartitionsRDD.compute(MapPartitionsRDD.scala:52)\n",
      "\tat org.apache.spark.rdd.RDD.computeOrReadCheckpoint(RDD.scala:346)\n",
      "\tat org.apache.spark.rdd.RDD.iterator(RDD.scala:310)\n",
      "\tat org.apache.spark.rdd.MapPartitionsRDD.compute(MapPartitionsRDD.scala:52)\n",
      "\tat org.apache.spark.rdd.RDD.computeOrReadCheckpoint(RDD.scala:346)\n",
      "\tat org.apache.spark.rdd.RDD.iterator(RDD.scala:310)\n",
      "\tat org.apache.spark.scheduler.ResultTask.runTask(ResultTask.scala:90)\n",
      "\tat org.apache.spark.scheduler.Task.run(Task.scala:123)\n",
      "\tat org.apache.spark.executor.Executor$TaskRunner.$anonfun$run$3(Executor.scala:411)\n",
      "\tat org.apache.spark.util.Utils$.tryWithSafeFinally(Utils.scala:1360)\n",
      "\tat org.apache.spark.executor.Executor$TaskRunner.run(Executor.scala:414)\n",
      "\tat java.util.concurrent.ThreadPoolExecutor.runWorker(ThreadPoolExecutor.java:1149)\n",
      "\tat java.util.concurrent.ThreadPoolExecutor$Worker.run(ThreadPoolExecutor.java:624)\n",
      "\tat java.lang.Thread.run(Thread.java:748)\n",
      "Caused by: java.lang.ClassCastException: java.lang.Integer cannot be cast to org.apache.spark.ml.linalg.Vector\n",
      "\t... 20 more\n",
      "\n",
      "Driver stacktrace:\n",
      "\tat org.apache.spark.scheduler.DAGScheduler.failJobAndIndependentStages(DAGScheduler.scala:1891)\n",
      "\tat org.apache.spark.scheduler.DAGScheduler.$anonfun$abortStage$2(DAGScheduler.scala:1879)\n",
      "\tat org.apache.spark.scheduler.DAGScheduler.$anonfun$abortStage$2$adapted(DAGScheduler.scala:1878)\n",
      "\tat scala.collection.mutable.ResizableArray.foreach(ResizableArray.scala:62)\n",
      "\tat scala.collection.mutable.ResizableArray.foreach$(ResizableArray.scala:55)\n",
      "\tat scala.collection.mutable.ArrayBuffer.foreach(ArrayBuffer.scala:49)\n",
      "\tat org.apache.spark.scheduler.DAGScheduler.abortStage(DAGScheduler.scala:1878)\n",
      "\tat org.apache.spark.scheduler.DAGScheduler.$anonfun$handleTaskSetFailed$1(DAGScheduler.scala:927)\n",
      "\tat org.apache.spark.scheduler.DAGScheduler.$anonfun$handleTaskSetFailed$1$adapted(DAGScheduler.scala:927)\n",
      "\tat scala.Option.foreach(Option.scala:407)\n",
      "\tat org.apache.spark.scheduler.DAGScheduler.handleTaskSetFailed(DAGScheduler.scala:927)\n",
      "\tat org.apache.spark.scheduler.DAGSchedulerEventProcessLoop.doOnReceive(DAGScheduler.scala:2112)\n",
      "\tat org.apache.spark.scheduler.DAGSchedulerEventProcessLoop.onReceive(DAGScheduler.scala:2061)\n",
      "\tat org.apache.spark.scheduler.DAGSchedulerEventProcessLoop.onReceive(DAGScheduler.scala:2050)\n",
      "\tat org.apache.spark.util.EventLoop$$anon$1.run(EventLoop.scala:49)\n",
      "\tat org.apache.spark.scheduler.DAGScheduler.runJob(DAGScheduler.scala:738)\n",
      "\tat org.apache.spark.SparkContext.runJob(SparkContext.scala:2061)\n",
      "\tat org.apache.spark.SparkContext.runJob(SparkContext.scala:2082)\n",
      "\tat org.apache.spark.SparkContext.runJob(SparkContext.scala:2101)\n",
      "\tat org.apache.spark.sql.execution.SparkPlan.executeTake(SparkPlan.scala:365)\n",
      "\tat org.apache.spark.sql.execution.CollectLimitExec.executeCollect(limit.scala:38)\n",
      "\tat org.apache.spark.sql.Dataset.collectFromPlan(Dataset.scala:3389)\n",
      "\tat org.apache.spark.sql.Dataset.$anonfun$head$1(Dataset.scala:2550)\n",
      "\tat org.apache.spark.sql.Dataset.$anonfun$withAction$2(Dataset.scala:3370)\n",
      "\tat org.apache.spark.sql.execution.SQLExecution$.$anonfun$withNewExecutionId$1(SQLExecution.scala:80)\n",
      "\tat org.apache.spark.sql.execution.SQLExecution$.withSQLConfPropagated(SQLExecution.scala:127)\n",
      "\tat org.apache.spark.sql.execution.SQLExecution$.withNewExecutionId(SQLExecution.scala:75)\n",
      "\tat org.apache.spark.sql.Dataset.withAction(Dataset.scala:3370)\n",
      "\tat org.apache.spark.sql.Dataset.head(Dataset.scala:2550)\n",
      "\tat org.apache.spark.sql.Dataset.head(Dataset.scala:2557)\n",
      "\tat org.apache.spark.sql.Dataset.first(Dataset.scala:2564)\n",
      "\tat org.apache.spark.ml.regression.LinearRegression.$anonfun$train$1(LinearRegression.scala:322)\n",
      "\tat org.apache.spark.ml.util.Instrumentation$.$anonfun$instrumented$1(Instrumentation.scala:185)\n",
      "\tat scala.util.Try$.apply(Try.scala:213)\n",
      "\tat org.apache.spark.ml.util.Instrumentation$.instrumented(Instrumentation.scala:185)\n",
      "\tat org.apache.spark.ml.regression.LinearRegression.train(LinearRegression.scala:320)\n"
     ]
    },
    {
     "name": "stderr",
     "output_type": "stream",
     "text": [
      "\tat org.apache.spark.ml.regression.LinearRegression.train(LinearRegression.scala:177)\n",
      "\tat org.apache.spark.ml.Predictor.fit(Predictor.scala:118)\n",
      "\tat org.apache.spark.ml.Predictor.fit(Predictor.scala:82)\n",
      "\tat org.apache.spark.ml.Pipeline.$anonfun$fit$2(Pipeline.scala:153)\n",
      "\tat scala.collection.Iterator.foreach(Iterator.scala:943)\n",
      "\tat scala.collection.Iterator.foreach$(Iterator.scala:943)\n",
      "\tat scala.collection.AbstractIterator.foreach(Iterator.scala:1431)\n",
      "\tat scala.collection.IterableViewLike$Transformed.foreach(IterableViewLike.scala:47)\n",
      "\tat scala.collection.IterableViewLike$Transformed.foreach$(IterableViewLike.scala:47)\n",
      "\tat scala.collection.SeqViewLike$AbstractTransformed.foreach(SeqViewLike.scala:40)\n",
      "\tat org.apache.spark.ml.Pipeline.fit(Pipeline.scala:149)\n",
      "\tat ammonite.$sess.cmd57$Helper.<init>(cmd57.sc:1)\n",
      "\tat ammonite.$sess.cmd57$.<init>(cmd57.sc:7)\n",
      "\tat ammonite.$sess.cmd57$.<clinit>(cmd57.sc)\n",
      "\tat ammonite.$sess.cmd57.$main(cmd57.sc)\n",
      "\tat sun.reflect.NativeMethodAccessorImpl.invoke0(Native Method)\n",
      "\tat sun.reflect.NativeMethodAccessorImpl.invoke(NativeMethodAccessorImpl.java:62)\n",
      "\tat sun.reflect.DelegatingMethodAccessorImpl.invoke(DelegatingMethodAccessorImpl.java:43)\n",
      "\tat java.lang.reflect.Method.invoke(Method.java:498)\n",
      "\tat ammonite.runtime.Evaluator$$anon$1.$anonfun$evalMain$1(Evaluator.scala:108)\n",
      "\tat ammonite.util.Util$.withContextClassloader(Util.scala:24)\n",
      "\tat ammonite.runtime.Evaluator$$anon$1.evalMain(Evaluator.scala:90)\n",
      "\tat ammonite.runtime.Evaluator$$anon$1.$anonfun$processLine$2(Evaluator.scala:127)\n",
      "\tat ammonite.util.Catching.map(Res.scala:117)\n",
      "\tat ammonite.runtime.Evaluator$$anon$1.$anonfun$processLine$1(Evaluator.scala:121)\n",
      "\tat ammonite.util.Res$Success.flatMap(Res.scala:62)\n",
      "\tat ammonite.runtime.Evaluator$$anon$1.processLine(Evaluator.scala:120)\n",
      "\tat ammonite.interp.Interpreter.$anonfun$evaluateLine$4(Interpreter.scala:295)\n",
      "\tat ammonite.util.Res$Success.flatMap(Res.scala:62)\n",
      "\tat ammonite.interp.Interpreter.$anonfun$evaluateLine$2(Interpreter.scala:281)\n",
      "\tat ammonite.util.Catching.flatMap(Res.scala:115)\n",
      "\tat ammonite.interp.Interpreter.evaluateLine(Interpreter.scala:280)\n",
      "\tat ammonite.interp.Interpreter.$anonfun$processLine$6(Interpreter.scala:268)\n",
      "\tat ammonite.util.Res$Success.flatMap(Res.scala:62)\n",
      "\tat ammonite.interp.Interpreter.$anonfun$processLine$4(Interpreter.scala:251)\n",
      "\tat ammonite.util.Res$Success.flatMap(Res.scala:62)\n",
      "\tat ammonite.interp.Interpreter.$anonfun$processLine$2(Interpreter.scala:244)\n",
      "\tat ammonite.util.Catching.flatMap(Res.scala:115)\n",
      "\tat ammonite.interp.Interpreter.processLine(Interpreter.scala:243)\n",
      "\tat almond.Execute.$anonfun$ammResult$11(Execute.scala:238)\n",
      "\tat almond.internals.CaptureImpl.$anonfun$apply$2(CaptureImpl.scala:53)\n",
      "\tat scala.util.DynamicVariable.withValue(DynamicVariable.scala:62)\n",
      "\tat scala.Console$.withErr(Console.scala:196)\n",
      "\tat almond.internals.CaptureImpl.$anonfun$apply$1(CaptureImpl.scala:45)\n",
      "\tat scala.util.DynamicVariable.withValue(DynamicVariable.scala:62)\n",
      "\tat scala.Console$.withOut(Console.scala:167)\n",
      "\tat almond.internals.CaptureImpl.apply(CaptureImpl.scala:45)\n",
      "\tat almond.Execute.capturingOutput(Execute.scala:166)\n",
      "\tat almond.Execute.$anonfun$ammResult$10(Execute.scala:225)\n",
      "\tat almond.Execute.$anonfun$withClientStdin$1(Execute.scala:146)\n",
      "\tat scala.util.DynamicVariable.withValue(DynamicVariable.scala:62)\n",
      "\tat scala.Console$.withIn(Console.scala:230)\n",
      "\tat almond.Execute.withClientStdin(Execute.scala:142)\n",
      "\tat almond.Execute.$anonfun$ammResult$9(Execute.scala:225)\n",
      "\tat almond.Execute.withInputManager(Execute.scala:134)\n",
      "\tat almond.Execute.$anonfun$ammResult$8(Execute.scala:224)\n",
      "\tat ammonite.repl.Signaller.apply(Signaller.scala:28)\n",
      "\tat almond.Execute.interruptible(Execute.scala:183)\n",
      "\tat almond.Execute.$anonfun$ammResult$7(Execute.scala:223)\n",
      "\tat ammonite.util.Res$Success.flatMap(Res.scala:62)\n",
      "\tat almond.Execute.$anonfun$ammResult$1(Execute.scala:214)\n",
      "\tat almond.Execute.withOutputHandler(Execute.scala:157)\n",
      "\tat almond.Execute.ammResult(Execute.scala:214)\n",
      "\tat almond.Execute.apply(Execute.scala:311)\n",
      "\tat almond.ScalaInterpreter.execute(ScalaInterpreter.scala:127)\n",
      "\tat almond.interpreter.InterpreterToIOInterpreter.$anonfun$execute$2(InterpreterToIOInterpreter.scala:69)\n",
      "\tat cats.effect.internals.IORunLoop$.cats$effect$internals$IORunLoop$$loop(IORunLoop.scala:87)\n",
      "\tat cats.effect.internals.IORunLoop$RestartCallback.signal(IORunLoop.scala:366)\n",
      "\tat cats.effect.internals.IORunLoop$RestartCallback.apply(IORunLoop.scala:387)\n",
      "\tat cats.effect.internals.IORunLoop$RestartCallback.apply(IORunLoop.scala:330)\n",
      "\tat cats.effect.internals.IOShift$Tick.run(IOShift.scala:36)\n",
      "\tat java.util.concurrent.ThreadPoolExecutor.runWorker(ThreadPoolExecutor.java:1149)\n",
      "\tat java.util.concurrent.ThreadPoolExecutor$Worker.run(ThreadPoolExecutor.java:624)\n",
      "\tat java.lang.Thread.run(Thread.java:748)\n",
      "Caused by: org.apache.spark.SparkException: Failed to execute user defined function(PolynomialExpansion$$Lambda$6336/200270401: (int) => struct<type:tinyint,size:int,indices:array<int>,values:array<double>>)\n",
      "\tat org.apache.spark.sql.catalyst.expressions.GeneratedClass$GeneratedIteratorForCodegenStage2.processNext(Unknown Source)\n",
      "\tat org.apache.spark.sql.execution.BufferedRowIterator.hasNext(BufferedRowIterator.java:43)\n",
      "\tat org.apache.spark.sql.execution.WholeStageCodegenExec$$anon$2.hasNext(WholeStageCodegenExec.scala:636)\n",
      "\tat org.apache.spark.sql.execution.SparkPlan.$anonfun$getByteArrayRdd$1(SparkPlan.scala:255)\n",
      "\tat org.apache.spark.rdd.RDD.$anonfun$mapPartitionsInternal$2(RDD.scala:858)\n",
      "\tat org.apache.spark.rdd.RDD.$anonfun$mapPartitionsInternal$2$adapted(RDD.scala:858)\n",
      "\tat org.apache.spark.rdd.MapPartitionsRDD.compute(MapPartitionsRDD.scala:52)\n",
      "\tat org.apache.spark.rdd.RDD.computeOrReadCheckpoint(RDD.scala:346)\n",
      "\tat org.apache.spark.rdd.RDD.iterator(RDD.scala:310)\n",
      "\tat org.apache.spark.rdd.MapPartitionsRDD.compute(MapPartitionsRDD.scala:52)\n",
      "\tat org.apache.spark.rdd.RDD.computeOrReadCheckpoint(RDD.scala:346)\n",
      "\tat org.apache.spark.rdd.RDD.iterator(RDD.scala:310)\n",
      "\tat org.apache.spark.scheduler.ResultTask.runTask(ResultTask.scala:90)\n",
      "\tat org.apache.spark.scheduler.Task.run(Task.scala:123)\n",
      "\tat org.apache.spark.executor.Executor$TaskRunner.$anonfun$run$3(Executor.scala:411)\n",
      "\tat org.apache.spark.util.Utils$.tryWithSafeFinally(Utils.scala:1360)\n",
      "\tat org.apache.spark.executor.Executor$TaskRunner.run(Executor.scala:414)\n",
      "\t... 3 more\n",
      "Caused by: java.lang.ClassCastException: java.lang.Integer cannot be cast to org.apache.spark.ml.linalg.Vector\n",
      "\t... 20 more\n",
      "\n"
     ]
    },
    {
     "ename": "",
     "evalue": "",
     "output_type": "error",
     "traceback": [
      "\u001b[31morg.apache.spark.SparkException: Job aborted due to stage failure: Task 19 in stage 133.0 failed 1 times, most recent failure: Lost task 19.0 in stage 133.0 (TID 4773, localhost, executor driver): org.apache.spark.SparkException: Failed to execute user defined function(PolynomialExpansion$$Lambda$6336/200270401: (int) => struct<type:tinyint,size:int,indices:array<int>,values:array<double>>)\r\n\tat org.apache.spark.sql.catalyst.expressions.GeneratedClass$GeneratedIteratorForCodegenStage2.processNext(Unknown Source)\r\n\tat org.apache.spark.sql.execution.BufferedRowIterator.hasNext(BufferedRowIterator.java:43)\r\n\tat org.apache.spark.sql.execution.WholeStageCodegenExec$$anon$2.hasNext(WholeStageCodegenExec.scala:636)\r\n\tat org.apache.spark.sql.execution.SparkPlan.$anonfun$getByteArrayRdd$1(SparkPlan.scala:255)\r\n\tat org.apache.spark.rdd.RDD.$anonfun$mapPartitionsInternal$2(RDD.scala:858)\r\n\tat org.apache.spark.rdd.RDD.$anonfun$mapPartitionsInternal$2$adapted(RDD.scala:858)\r\n\tat org.apache.spark.rdd.MapPartitionsRDD.compute(MapPartitionsRDD.scala:52)\r\n\tat org.apache.spark.rdd.RDD.computeOrReadCheckpoint(RDD.scala:346)\r\n\tat org.apache.spark.rdd.RDD.iterator(RDD.scala:310)\r\n\tat org.apache.spark.rdd.MapPartitionsRDD.compute(MapPartitionsRDD.scala:52)\r\n\tat org.apache.spark.rdd.RDD.computeOrReadCheckpoint(RDD.scala:346)\r\n\tat org.apache.spark.rdd.RDD.iterator(RDD.scala:310)\r\n\tat org.apache.spark.scheduler.ResultTask.runTask(ResultTask.scala:90)\r\n\tat org.apache.spark.scheduler.Task.run(Task.scala:123)\r\n\tat org.apache.spark.executor.Executor$TaskRunner.$anonfun$run$3(Executor.scala:411)\r\n\tat org.apache.spark.util.Utils$.tryWithSafeFinally(Utils.scala:1360)\r\n\tat org.apache.spark.executor.Executor$TaskRunner.run(Executor.scala:414)\r\n\tat java.util.concurrent.ThreadPoolExecutor.runWorker(ThreadPoolExecutor.java:1149)\r\n\tat java.util.concurrent.ThreadPoolExecutor$Worker.run(ThreadPoolExecutor.java:624)\r\n\tat java.lang.Thread.run(Thread.java:748)\r\nCaused by: java.lang.ClassCastException: java.lang.Integer cannot be cast to org.apache.spark.ml.linalg.Vector\r\n\t... 20 more\r\n\nDriver stacktrace:\u001b[39m\r\n  org.apache.spark.scheduler.DAGScheduler.failJobAndIndependentStages(\u001b[32mDAGScheduler.scala\u001b[39m:\u001b[32m1891\u001b[39m)\r\n  org.apache.spark.scheduler.DAGScheduler.$anonfun$abortStage$2(\u001b[32mDAGScheduler.scala\u001b[39m:\u001b[32m1879\u001b[39m)\r\n  org.apache.spark.scheduler.DAGScheduler.$anonfun$abortStage$2$adapted(\u001b[32mDAGScheduler.scala\u001b[39m:\u001b[32m1878\u001b[39m)\r\n  scala.collection.mutable.ResizableArray.foreach(\u001b[32mResizableArray.scala\u001b[39m:\u001b[32m62\u001b[39m)\r\n  scala.collection.mutable.ResizableArray.foreach$(\u001b[32mResizableArray.scala\u001b[39m:\u001b[32m55\u001b[39m)\r\n  scala.collection.mutable.ArrayBuffer.foreach(\u001b[32mArrayBuffer.scala\u001b[39m:\u001b[32m49\u001b[39m)\r\n  org.apache.spark.scheduler.DAGScheduler.abortStage(\u001b[32mDAGScheduler.scala\u001b[39m:\u001b[32m1878\u001b[39m)\r\n  org.apache.spark.scheduler.DAGScheduler.$anonfun$handleTaskSetFailed$1(\u001b[32mDAGScheduler.scala\u001b[39m:\u001b[32m927\u001b[39m)\r\n  org.apache.spark.scheduler.DAGScheduler.$anonfun$handleTaskSetFailed$1$adapted(\u001b[32mDAGScheduler.scala\u001b[39m:\u001b[32m927\u001b[39m)\r\n  scala.Option.foreach(\u001b[32mOption.scala\u001b[39m:\u001b[32m407\u001b[39m)\r\n  org.apache.spark.scheduler.DAGScheduler.handleTaskSetFailed(\u001b[32mDAGScheduler.scala\u001b[39m:\u001b[32m927\u001b[39m)\r\n  org.apache.spark.scheduler.DAGSchedulerEventProcessLoop.doOnReceive(\u001b[32mDAGScheduler.scala\u001b[39m:\u001b[32m2112\u001b[39m)\r\n  org.apache.spark.scheduler.DAGSchedulerEventProcessLoop.onReceive(\u001b[32mDAGScheduler.scala\u001b[39m:\u001b[32m2061\u001b[39m)\r\n  org.apache.spark.scheduler.DAGSchedulerEventProcessLoop.onReceive(\u001b[32mDAGScheduler.scala\u001b[39m:\u001b[32m2050\u001b[39m)\r\n  org.apache.spark.util.EventLoop$$anon$1.run(\u001b[32mEventLoop.scala\u001b[39m:\u001b[32m49\u001b[39m)\r\n  org.apache.spark.scheduler.DAGScheduler.runJob(\u001b[32mDAGScheduler.scala\u001b[39m:\u001b[32m738\u001b[39m)\r\n  org.apache.spark.SparkContext.runJob(\u001b[32mSparkContext.scala\u001b[39m:\u001b[32m2061\u001b[39m)\r\n  org.apache.spark.SparkContext.runJob(\u001b[32mSparkContext.scala\u001b[39m:\u001b[32m2082\u001b[39m)\r\n  org.apache.spark.SparkContext.runJob(\u001b[32mSparkContext.scala\u001b[39m:\u001b[32m2101\u001b[39m)\r\n  org.apache.spark.sql.execution.SparkPlan.executeTake(\u001b[32mSparkPlan.scala\u001b[39m:\u001b[32m365\u001b[39m)\r\n  org.apache.spark.sql.execution.CollectLimitExec.executeCollect(\u001b[32mlimit.scala\u001b[39m:\u001b[32m38\u001b[39m)\r\n  org.apache.spark.sql.Dataset.collectFromPlan(\u001b[32mDataset.scala\u001b[39m:\u001b[32m3389\u001b[39m)\r\n  org.apache.spark.sql.Dataset.$anonfun$head$1(\u001b[32mDataset.scala\u001b[39m:\u001b[32m2550\u001b[39m)\r\n  org.apache.spark.sql.Dataset.$anonfun$withAction$2(\u001b[32mDataset.scala\u001b[39m:\u001b[32m3370\u001b[39m)\r\n  org.apache.spark.sql.execution.SQLExecution$.$anonfun$withNewExecutionId$1(\u001b[32mSQLExecution.scala\u001b[39m:\u001b[32m80\u001b[39m)\r\n  org.apache.spark.sql.execution.SQLExecution$.withSQLConfPropagated(\u001b[32mSQLExecution.scala\u001b[39m:\u001b[32m127\u001b[39m)\r\n  org.apache.spark.sql.execution.SQLExecution$.withNewExecutionId(\u001b[32mSQLExecution.scala\u001b[39m:\u001b[32m75\u001b[39m)\r\n  org.apache.spark.sql.Dataset.withAction(\u001b[32mDataset.scala\u001b[39m:\u001b[32m3370\u001b[39m)\r\n  org.apache.spark.sql.Dataset.head(\u001b[32mDataset.scala\u001b[39m:\u001b[32m2550\u001b[39m)\r\n  org.apache.spark.sql.Dataset.head(\u001b[32mDataset.scala\u001b[39m:\u001b[32m2557\u001b[39m)\r\n  org.apache.spark.sql.Dataset.first(\u001b[32mDataset.scala\u001b[39m:\u001b[32m2564\u001b[39m)\r\n  org.apache.spark.ml.regression.LinearRegression.$anonfun$train$1(\u001b[32mLinearRegression.scala\u001b[39m:\u001b[32m322\u001b[39m)\r\n  org.apache.spark.ml.util.Instrumentation$.$anonfun$instrumented$1(\u001b[32mInstrumentation.scala\u001b[39m:\u001b[32m185\u001b[39m)\r\n  scala.util.Try$.apply(\u001b[32mTry.scala\u001b[39m:\u001b[32m213\u001b[39m)\r\n  org.apache.spark.ml.util.Instrumentation$.instrumented(\u001b[32mInstrumentation.scala\u001b[39m:\u001b[32m185\u001b[39m)\r\n  org.apache.spark.ml.regression.LinearRegression.train(\u001b[32mLinearRegression.scala\u001b[39m:\u001b[32m320\u001b[39m)\r\n  org.apache.spark.ml.regression.LinearRegression.train(\u001b[32mLinearRegression.scala\u001b[39m:\u001b[32m177\u001b[39m)\r\n  org.apache.spark.ml.Predictor.fit(\u001b[32mPredictor.scala\u001b[39m:\u001b[32m118\u001b[39m)\r\n  org.apache.spark.ml.Predictor.fit(\u001b[32mPredictor.scala\u001b[39m:\u001b[32m82\u001b[39m)\r\n  org.apache.spark.ml.Pipeline.$anonfun$fit$2(\u001b[32mPipeline.scala\u001b[39m:\u001b[32m153\u001b[39m)\r\n  scala.collection.Iterator.foreach(\u001b[32mIterator.scala\u001b[39m:\u001b[32m943\u001b[39m)\r\n  scala.collection.Iterator.foreach$(\u001b[32mIterator.scala\u001b[39m:\u001b[32m943\u001b[39m)\r\n  scala.collection.AbstractIterator.foreach(\u001b[32mIterator.scala\u001b[39m:\u001b[32m1431\u001b[39m)\r\n  scala.collection.IterableViewLike$Transformed.foreach(\u001b[32mIterableViewLike.scala\u001b[39m:\u001b[32m47\u001b[39m)\r\n  scala.collection.IterableViewLike$Transformed.foreach$(\u001b[32mIterableViewLike.scala\u001b[39m:\u001b[32m47\u001b[39m)\r\n  scala.collection.SeqViewLike$AbstractTransformed.foreach(\u001b[32mSeqViewLike.scala\u001b[39m:\u001b[32m40\u001b[39m)\r\n  org.apache.spark.ml.Pipeline.fit(\u001b[32mPipeline.scala\u001b[39m:\u001b[32m149\u001b[39m)\r\n  ammonite.$sess.cmd57$Helper.<init>(\u001b[32mcmd57.sc\u001b[39m:\u001b[32m1\u001b[39m)\r\n  ammonite.$sess.cmd57$.<init>(\u001b[32mcmd57.sc\u001b[39m:\u001b[32m7\u001b[39m)\r\n  ammonite.$sess.cmd57$.<clinit>(\u001b[32mcmd57.sc\u001b[39m:\u001b[32m-1\u001b[39m)\r\n\u001b[31morg.apache.spark.SparkException: Failed to execute user defined function(PolynomialExpansion$$Lambda$6336/200270401: (int) => struct<type:tinyint,size:int,indices:array<int>,values:array<double>>)\u001b[39m\r\n  org.apache.spark.sql.catalyst.expressions.GeneratedClass$GeneratedIteratorForCodegenStage2.processNext(\u001b[32mUnknown Source\u001b[39m)\r\n  org.apache.spark.sql.execution.BufferedRowIterator.hasNext(\u001b[32mBufferedRowIterator.java\u001b[39m:\u001b[32m43\u001b[39m)\r\n  org.apache.spark.sql.execution.WholeStageCodegenExec$$anon$2.hasNext(\u001b[32mWholeStageCodegenExec.scala\u001b[39m:\u001b[32m636\u001b[39m)\r\n  org.apache.spark.sql.execution.SparkPlan.$anonfun$getByteArrayRdd$1(\u001b[32mSparkPlan.scala\u001b[39m:\u001b[32m255\u001b[39m)\r\n  org.apache.spark.rdd.RDD.$anonfun$mapPartitionsInternal$2(\u001b[32mRDD.scala\u001b[39m:\u001b[32m858\u001b[39m)\r\n  org.apache.spark.rdd.RDD.$anonfun$mapPartitionsInternal$2$adapted(\u001b[32mRDD.scala\u001b[39m:\u001b[32m858\u001b[39m)\r\n  org.apache.spark.rdd.MapPartitionsRDD.compute(\u001b[32mMapPartitionsRDD.scala\u001b[39m:\u001b[32m52\u001b[39m)\r\n  org.apache.spark.rdd.RDD.computeOrReadCheckpoint(\u001b[32mRDD.scala\u001b[39m:\u001b[32m346\u001b[39m)\r\n  org.apache.spark.rdd.RDD.iterator(\u001b[32mRDD.scala\u001b[39m:\u001b[32m310\u001b[39m)\r\n  org.apache.spark.rdd.MapPartitionsRDD.compute(\u001b[32mMapPartitionsRDD.scala\u001b[39m:\u001b[32m52\u001b[39m)\r\n  org.apache.spark.rdd.RDD.computeOrReadCheckpoint(\u001b[32mRDD.scala\u001b[39m:\u001b[32m346\u001b[39m)\r\n  org.apache.spark.rdd.RDD.iterator(\u001b[32mRDD.scala\u001b[39m:\u001b[32m310\u001b[39m)\r\n  org.apache.spark.scheduler.ResultTask.runTask(\u001b[32mResultTask.scala\u001b[39m:\u001b[32m90\u001b[39m)\r\n  org.apache.spark.scheduler.Task.run(\u001b[32mTask.scala\u001b[39m:\u001b[32m123\u001b[39m)\r\n  org.apache.spark.executor.Executor$TaskRunner.$anonfun$run$3(\u001b[32mExecutor.scala\u001b[39m:\u001b[32m411\u001b[39m)\r\n  org.apache.spark.util.Utils$.tryWithSafeFinally(\u001b[32mUtils.scala\u001b[39m:\u001b[32m1360\u001b[39m)\r\n  org.apache.spark.executor.Executor$TaskRunner.run(\u001b[32mExecutor.scala\u001b[39m:\u001b[32m414\u001b[39m)\r\n  java.util.concurrent.ThreadPoolExecutor.runWorker(\u001b[32mThreadPoolExecutor.java\u001b[39m:\u001b[32m1149\u001b[39m)\r\n  java.util.concurrent.ThreadPoolExecutor$Worker.run(\u001b[32mThreadPoolExecutor.java\u001b[39m:\u001b[32m624\u001b[39m)\r\n  java.lang.Thread.run(\u001b[32mThread.java\u001b[39m:\u001b[32m748\u001b[39m)\r\n\u001b[31mjava.lang.ClassCastException: java.lang.Integer cannot be cast to org.apache.spark.ml.linalg.Vector\u001b[39m\r\n  org.apache.spark.sql.catalyst.expressions.GeneratedClass$GeneratedIteratorForCodegenStage2.processNext(\u001b[32mUnknown Source\u001b[39m)\r\n  org.apache.spark.sql.execution.BufferedRowIterator.hasNext(\u001b[32mBufferedRowIterator.java\u001b[39m:\u001b[32m43\u001b[39m)\r\n  org.apache.spark.sql.execution.WholeStageCodegenExec$$anon$2.hasNext(\u001b[32mWholeStageCodegenExec.scala\u001b[39m:\u001b[32m636\u001b[39m)\r\n  org.apache.spark.sql.execution.SparkPlan.$anonfun$getByteArrayRdd$1(\u001b[32mSparkPlan.scala\u001b[39m:\u001b[32m255\u001b[39m)\r\n  org.apache.spark.rdd.RDD.$anonfun$mapPartitionsInternal$2(\u001b[32mRDD.scala\u001b[39m:\u001b[32m858\u001b[39m)\r\n  org.apache.spark.rdd.RDD.$anonfun$mapPartitionsInternal$2$adapted(\u001b[32mRDD.scala\u001b[39m:\u001b[32m858\u001b[39m)\r\n  org.apache.spark.rdd.MapPartitionsRDD.compute(\u001b[32mMapPartitionsRDD.scala\u001b[39m:\u001b[32m52\u001b[39m)\r\n  org.apache.spark.rdd.RDD.computeOrReadCheckpoint(\u001b[32mRDD.scala\u001b[39m:\u001b[32m346\u001b[39m)\r\n  org.apache.spark.rdd.RDD.iterator(\u001b[32mRDD.scala\u001b[39m:\u001b[32m310\u001b[39m)\r\n  org.apache.spark.rdd.MapPartitionsRDD.compute(\u001b[32mMapPartitionsRDD.scala\u001b[39m:\u001b[32m52\u001b[39m)\r\n  org.apache.spark.rdd.RDD.computeOrReadCheckpoint(\u001b[32mRDD.scala\u001b[39m:\u001b[32m346\u001b[39m)\r\n  org.apache.spark.rdd.RDD.iterator(\u001b[32mRDD.scala\u001b[39m:\u001b[32m310\u001b[39m)\r\n  org.apache.spark.scheduler.ResultTask.runTask(\u001b[32mResultTask.scala\u001b[39m:\u001b[32m90\u001b[39m)\r\n  org.apache.spark.scheduler.Task.run(\u001b[32mTask.scala\u001b[39m:\u001b[32m123\u001b[39m)\r\n  org.apache.spark.executor.Executor$TaskRunner.$anonfun$run$3(\u001b[32mExecutor.scala\u001b[39m:\u001b[32m411\u001b[39m)\r\n  org.apache.spark.util.Utils$.tryWithSafeFinally(\u001b[32mUtils.scala\u001b[39m:\u001b[32m1360\u001b[39m)\r\n  org.apache.spark.executor.Executor$TaskRunner.run(\u001b[32mExecutor.scala\u001b[39m:\u001b[32m414\u001b[39m)\r\n  java.util.concurrent.ThreadPoolExecutor.runWorker(\u001b[32mThreadPoolExecutor.java\u001b[39m:\u001b[32m1149\u001b[39m)\r\n  java.util.concurrent.ThreadPoolExecutor$Worker.run(\u001b[32mThreadPoolExecutor.java\u001b[39m:\u001b[32m624\u001b[39m)\r\n  java.lang.Thread.run(\u001b[32mThread.java\u001b[39m:\u001b[32m748\u001b[39m)"
     ]
    }
   ],
   "source": [
    "val model: PipelineModel = pipeline.fit(salesDataWithIntegerMonth)"
   ]
  },
  {
   "cell_type": "code",
   "execution_count": 21,
   "id": "bedcf670",
   "metadata": {},
   "outputs": [
    {
     "data": {
      "text/plain": [
       "\u001b[36mfutureMonths\u001b[39m: \u001b[32mDataFrame\u001b[39m = [month: bigint]\r\n",
       "\u001b[36mfutureData\u001b[39m: \u001b[32mDataFrame\u001b[39m = [month: bigint, features: vector]\r\n",
       "\u001b[36mpredictions\u001b[39m: \u001b[32mDataFrame\u001b[39m = [month: bigint, features: vector ... 1 more field]"
      ]
     },
     "execution_count": 21,
     "metadata": {},
     "output_type": "execute_result"
    }
   ],
   "source": [
    "val futureMonths = sparkSession.range(1, 12).toDF(\"month\")\n",
    "val futureData = assembler.transform(futureMonths)\n",
    "val predictions = model.transform(futureData)"
   ]
  },
  {
   "cell_type": "code",
   "execution_count": 22,
   "id": "dc8d54fe",
   "metadata": {},
   "outputs": [
    {
     "data": {
      "text/html": [
       "<div>\n",
       "  <span style=\"float: left;\">show at cmd21.sc:1</span>\n",
       "</div>\n"
      ]
     },
     "metadata": {},
     "output_type": "display_data"
    },
    {
     "data": {
      "text/html": [
       "<div class=\"progress\">\n",
       "  <div class=\"progress-bar\" role=\"progressbar\" style=\"background-color: blue; width: 100%; word-wrap: normal; white-space: nowrap; text-align: center; color: white\" aria-valuenow=\"100\" aria-valuemin=\"0\" aria-valuemax=\"100\">\n",
       "    1 / 1\n",
       "  </div>\n",
       "  <div class=\"progress-bar\" role=\"progressbar\" style=\"background-color: red; width: 0%\" aria-valuenow=\"0\" aria-valuemin=\"0\" aria-valuemax=\"100\"></div>\n",
       "</div>\n"
      ]
     },
     "metadata": {},
     "output_type": "display_data"
    },
    {
     "data": {
      "text/html": [
       "<div>\n",
       "  <span style=\"float: left;\">show at cmd21.sc:1</span>\n",
       "</div>\n"
      ]
     },
     "metadata": {},
     "output_type": "display_data"
    },
    {
     "data": {
      "text/html": [
       "<div class=\"progress\">\n",
       "  <div class=\"progress-bar\" role=\"progressbar\" style=\"background-color: blue; width: 100%; word-wrap: normal; white-space: nowrap; text-align: center; color: white\" aria-valuenow=\"100\" aria-valuemin=\"0\" aria-valuemax=\"100\">\n",
       "    3 / 3\n",
       "  </div>\n",
       "  <div class=\"progress-bar\" role=\"progressbar\" style=\"background-color: red; width: 0%\" aria-valuenow=\"0\" aria-valuemin=\"0\" aria-valuemax=\"100\"></div>\n",
       "</div>\n"
      ]
     },
     "metadata": {},
     "output_type": "display_data"
    },
    {
     "name": "stdout",
     "output_type": "stream",
     "text": [
      "+-----+--------+------------------+\n",
      "|month|features|        prediction|\n",
      "+-----+--------+------------------+\n",
      "|    1|   [1.0]| 2230640.422031177|\n",
      "|    2|   [2.0]| 2338525.480974008|\n",
      "|    3|   [3.0]| 2446410.539916838|\n",
      "|    4|   [4.0]|2554295.5988596687|\n",
      "|    5|   [5.0]|2662180.6578024994|\n",
      "|    6|   [6.0]|  2770065.71674533|\n",
      "|    7|   [7.0]|  2877950.77568816|\n",
      "|    8|   [8.0]| 2985835.834630991|\n",
      "|    9|   [9.0]|3093720.8935738215|\n",
      "|   10|  [10.0]| 3201605.952516652|\n",
      "|   11|  [11.0]| 3309491.011459483|\n",
      "+-----+--------+------------------+\n",
      "\n"
     ]
    }
   ],
   "source": [
    "// Afficher les prévisions pour les prochains mois\n",
    "predictions.show()"
   ]
  },
  {
   "cell_type": "code",
   "execution_count": null,
   "id": "ac84400b",
   "metadata": {},
   "outputs": [],
   "source": []
  }
 ],
 "metadata": {
  "kernelspec": {
   "display_name": "Scala",
   "language": "scala",
   "name": "scala"
  },
  "language_info": {
   "codemirror_mode": "text/x-scala",
   "file_extension": ".sc",
   "mimetype": "text/x-scala",
   "name": "scala",
   "nbconvert_exporter": "script",
   "version": "2.12.11"
  }
 },
 "nbformat": 4,
 "nbformat_minor": 5
}
